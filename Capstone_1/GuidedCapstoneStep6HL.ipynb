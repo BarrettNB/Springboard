{
 "cells": [
  {
   "cell_type": "markdown",
   "metadata": {
    "colab_type": "text",
    "id": "cf5CmXQCZyF1"
   },
   "source": [
    "# Guided Capstone Step 6. Documentation"
   ]
  },
  {
   "cell_type": "markdown",
   "metadata": {
    "colab_type": "text",
    "id": "JbZXsVevfr9M"
   },
   "source": [
    "**The Data Science Method**  \n",
    "\n",
    "\n",
    "1.   Problem Identification \n",
    "\n",
    "2.   Data Wrangling \n",
    "  \n",
    "3.   Exploratory Data Analysis \n",
    " \n",
    "4.   Pre-processing and Training Data Development\n",
    "\n",
    "5.  Modeling\n",
    "\n",
    "6.   **Documentation**\n",
    "  * Review the Results\n",
    "  * Finalize Code \n",
    "  * Finalize Documentation\n",
    "  * Create a Project Report \n",
    "  * Create a Slide Deck for the Executive Audience"
   ]
  },
  {
   "cell_type": "markdown",
   "metadata": {
    "colab_type": "text",
    "id": "D-oGciwnGUYk"
   },
   "source": [
    "In this guided capstone we are going to revisit many of the actions we took in the previous guided capstone steps. This gives you the opportunity to practice the code you wrote to solve the questions in step 4 and 5. "
   ]
  },
  {
   "cell_type": "markdown",
   "metadata": {
    "colab_type": "text",
    "id": "K8xfkAqqZyF2"
   },
   "source": [
    "**<font color='teal'> Start by loading the necessary packages and printing out our current working directory just to confirm we are in the correct project directory. </font>**"
   ]
  },
  {
   "cell_type": "code",
   "execution_count": 1,
   "metadata": {
    "colab": {},
    "colab_type": "code",
    "id": "ry6WPL5eZyF3"
   },
   "outputs": [
    {
     "name": "stdout",
     "output_type": "stream",
     "text": [
      "D:\\Springboard_DataSci\\Assignments\\Capstone_1\n"
     ]
    }
   ],
   "source": [
    "import os\n",
    "import pandas as pd\n",
    "import datetime\n",
    "import seaborn as sns\n",
    "import matplotlib.pyplot as plt\n",
    "import matplotlib.colors as colors\n",
    "import numpy as np\n",
    "print(os.getcwd())"
   ]
  },
  {
   "cell_type": "markdown",
   "metadata": {
    "colab_type": "text",
    "id": "0HTP9cF2GUYs"
   },
   "source": [
    "## Fit Models with Training Dataset"
   ]
  },
  {
   "cell_type": "markdown",
   "metadata": {
    "colab_type": "text",
    "id": "A2FmSbtCGUYt"
   },
   "source": [
    "**<font color='teal'> Using sklearn fit the model you chose in Guided Capstone 5 on your training dataset. This includes: creating dummy features for states if you need them, scaling the data,and creating train and test splits before fitting the chosen model.Also, remember to generate a model performance score(MAE, or explained variance) based on the testing hold-out data set.</font>**"
   ]
  },
  {
   "cell_type": "markdown",
   "metadata": {
    "colab_type": "text",
    "id": "ReRSy1yFGUYu"
   },
   "source": [
    "#### Best Model "
   ]
  },
  {
   "cell_type": "code",
   "execution_count": 2,
   "metadata": {
    "colab": {},
    "colab_type": "code",
    "id": "YRhPGbqPGUYv"
   },
   "outputs": [],
   "source": [
    "path = r'D:\\Springboard_DataSci\\Assignments\\Capstone_1'\n",
    "os.chdir(path)\n",
    "df = pd.read_csv('data\\step3_output.csv').drop('Unnamed: 0', axis=1)\n",
    "\n",
    "from sklearn import preprocessing\n",
    "X = df.drop(['state','AdultWeekend','base_elev','vertical_drop'], axis=1)\n",
    "X.set_index('Name', inplace=True)\n",
    "y = df.AdultWeekend\n",
    "scaler = preprocessing.StandardScaler().fit(X)\n",
    "X_scaled=scaler.transform(X)\n",
    "\n",
    "from sklearn.model_selection import train_test_split\n",
    "y = y.ravel()\n",
    "X_train, X_test, y_train, y_test = train_test_split(X_scaled, y, test_size=0.25, random_state=1)\n",
    "\n",
    "from sklearn import linear_model\n",
    "lm = linear_model.LinearRegression()\n",
    "model = lm.fit(X_train,y_train)\n",
    "y_pred = model.predict(X_test)"
   ]
  },
  {
   "cell_type": "markdown",
   "metadata": {
    "colab_type": "text",
    "id": "GGizyeLZGUYz"
   },
   "source": [
    "## Review the results "
   ]
  },
  {
   "cell_type": "markdown",
   "metadata": {
    "colab_type": "text",
    "id": "4Lhu-qisGUY0"
   },
   "source": [
    "**<font color='teal'> Now, let's predict the Big Mountain Weekend price with our model in order to provide a recommendation to our managers on how to price the `AdultWeekend` lift ticket. First we need to find the row for Big Mountain resort in our data using string contains or string matching.</font>**"
   ]
  },
  {
   "cell_type": "code",
   "execution_count": 3,
   "metadata": {
    "colab": {},
    "colab_type": "code",
    "id": "YXnx_IuEGUY1"
   },
   "outputs": [
    {
     "name": "stdout",
     "output_type": "stream",
     "text": [
      "Name                 Whitefish Mountain Resort\n",
      "state                                  Montana\n",
      "vertical_drop                             2353\n",
      "base_elev                                 4464\n",
      "trams                                        0\n",
      "fastEight                                    0\n",
      "fastSixes                                    0\n",
      "fastQuads                                    3\n",
      "quad                                         2\n",
      "triple                                       6\n",
      "double                                       0\n",
      "surface                                      3\n",
      "total_chairs                                14\n",
      "Runs                                       105\n",
      "TerrainParks                                 4\n",
      "LongestRun_mi                              3.3\n",
      "SkiableTerrain_ac                         3000\n",
      "Snow Making_ac                             600\n",
      "daysOpenLastYear                           123\n",
      "yearsOpen                                   72\n",
      "averageSnowfall                            333\n",
      "AdultWeekday                                81\n",
      "AdultWeekend                                81\n",
      "projectedDaysOpen                          123\n",
      "NightSkiing_ac                             600\n",
      "clusters                                     0\n",
      "Name: 151, dtype: object\n"
     ]
    }
   ],
   "source": [
    "Whitefish_boolean = lambda df: df['Name'].str.contains('Whitefish') #Big Mountain is the old name\n",
    "Whitefish_index = df[Whitefish_boolean].index[0]\n",
    "ac = df.iloc[Whitefish_index]\n",
    "print(ac)"
   ]
  },
  {
   "cell_type": "markdown",
   "metadata": {
    "colab_type": "text",
    "id": "83-jO9hPGUY4"
   },
   "source": [
    "**<font color='teal'> Prepare the Big Mountain resort data row as you did in the model fitting stage.</font>**"
   ]
  },
  {
   "cell_type": "code",
   "execution_count": 4,
   "metadata": {
    "colab": {},
    "colab_type": "code",
    "id": "oWH_q9YOGUY5"
   },
   "outputs": [],
   "source": [
    "Whitefish_data = df[Whitefish_boolean].drop(\n",
    "    ['Name','state','AdultWeekend','state','base_elev','vertical_drop'], axis=1)\n",
    "X_scaled_trimmed = scaler.transform(Whitefish_data)"
   ]
  },
  {
   "cell_type": "markdown",
   "metadata": {
    "colab_type": "text",
    "id": "2BCFqZYBGUY9"
   },
   "source": [
    "\n",
    "**<font color='teal'> Predict the Big Mountain resort `Adult Weekend` price and print it out.</font>** This is our expected price to present to management. Based on our model given the characteristics of the resort in comparison to other ski resorts and their unique characteristics."
   ]
  },
  {
   "cell_type": "code",
   "execution_count": 5,
   "metadata": {
    "colab": {},
    "colab_type": "code",
    "id": "XebWxxTMGUY-"
   },
   "outputs": [
    {
     "data": {
      "text/plain": [
       "array([87.81360961])"
      ]
     },
     "execution_count": 5,
     "metadata": {},
     "output_type": "execute_result"
    }
   ],
   "source": [
    "model.predict(X_scaled_trimmed)"
   ]
  },
  {
   "cell_type": "markdown",
   "metadata": {
    "colab_type": "text",
    "id": "_5BvguMLGUZB"
   },
   "source": [
    "\n",
    "\n",
    "\n",
    "\n",
    "\n",
    "\n",
    "\n",
    "\n",
    "\n",
    "\n",
    "\n",
    "\n",
    "\n",
    "\n",
    "\n",
    "\n",
    "\n",
    "\n",
    "**<font color='teal'> Print the Big Mountain resort actual `Adult Weekend` price.</font>**"
   ]
  },
  {
   "cell_type": "code",
   "execution_count": 6,
   "metadata": {
    "colab": {},
    "colab_type": "code",
    "id": "WyxTHtL2GUZC"
   },
   "outputs": [
    {
     "data": {
      "text/plain": [
       "81.0"
      ]
     },
     "execution_count": 6,
     "metadata": {},
     "output_type": "execute_result"
    }
   ],
   "source": [
    "df.iloc[Whitefish_index].loc['AdultWeekend']"
   ]
  },
  {
   "cell_type": "markdown",
   "metadata": {
    "colab_type": "text",
    "id": "O0Yli8MXGUZH"
   },
   "source": [
    "**<font color='teal'> As part of reviewing the results it is an important step to generate figures to visualize the data story. We can use the clusters we added to our data frame to create scatter plots for visualizing the Adult Weekend values compared to other characteristics. Run the example below to get you started and build two or three more figures to include in your data story telling.</font>**"
   ]
  },
  {
   "cell_type": "code",
   "execution_count": 7,
   "metadata": {
    "colab": {},
    "colab_type": "code",
    "id": "xWtr873fGUZI"
   },
   "outputs": [
    {
     "data": {
      "image/png": "[encoded data removed]",
      "text/plain": [
       "<Figure size 432x288 with 1 Axes>"
      ]
     },
     "metadata": {
      "needs_background": "light"
     },
     "output_type": "display_data"
    }
   ],
   "source": [
    "plt.scatter(df['base_elev'], df['vertical_drop'], c=df['clusters'], s=50, cmap='viridis', label ='clusters')\n",
    "plt.scatter(ac['base_elev'], ac['vertical_drop'], c='black', s=100)\n",
    "plt.xlabel('base_elev')\n",
    "plt.ylabel('vertical_drop')\n",
    "plt.title('base_elev by vertical_drop by cluster')\n",
    "#plt.savefig('figures/fig1.png',bbox_inches='tight')\n",
    "plt.show()"
   ]
  },
  {
   "cell_type": "code",
   "execution_count": 8,
   "metadata": {
    "colab": {},
    "colab_type": "code",
    "id": "530JtuJxGUZL"
   },
   "outputs": [
    {
     "name": "stdout",
     "output_type": "stream",
     "text": [
      "y-intercept: 7.84\n",
      "coefficient: 0.494\n",
      "R^2: 0.343\n"
     ]
    },
    {
     "data": {
      "image/png": "[encoded data removed]",
      "text/plain": [
       "<Figure size 432x288 with 1 Axes>"
      ]
     },
     "metadata": {
      "needs_background": "light"
     },
     "output_type": "display_data"
    }
   ],
   "source": [
    "# Linear regression of AdultWeekend(daysOpenLastYear)\n",
    "from sklearn.linear_model import LinearRegression\n",
    "\n",
    "x_loc = X.columns.get_loc('daysOpenLastYear')\n",
    "x_linreg = scaler.inverse_transform(X_test)[:, x_loc]\n",
    "raw_linreg = LinearRegression().fit(x_linreg.reshape(-1, 1), y_test)\n",
    "x_points = np.array([np.min(x_linreg), np.max(x_linreg)])\n",
    "y_points = raw_linreg.predict(x_points.reshape(-1, 1))\n",
    "plt.scatter(x_linreg, y_test, c='b')\n",
    "plt.plot(x_points, y_points, c='k')\n",
    "plt.xlabel('Days open last year')\n",
    "plt.ylabel('Adult weekend price')\n",
    "print('y-intercept: %.2f' %(raw_linreg.intercept_))\n",
    "print('coefficient: %.3f' %(raw_linreg.coef_[0]))\n",
    "print('R^2: %.3f' %(raw_linreg.score(x_linreg.reshape(-1,1), y_test)))\n",
    "#plt.savefig('figures/fig2.png',bbox_inches='tight')\n",
    "plt.show()"
   ]
  },
  {
   "cell_type": "markdown",
   "metadata": {
    "colab": {},
    "colab_type": "code",
    "id": "kGvf4kTwGUZR"
   },
   "source": [
    "There is a clear, positive correlation between DaysOpenLastYear and AdultWeekend. The outlier at the top-center of this graph corresponds to the famous Aspen/Snowmass resort in Colorado, which according to our data has an adult weekend price of $179. However, R^2 is only 0.343. Let's rerun this regression with Aspen removed."
   ]
  },
  {
   "cell_type": "code",
   "execution_count": 9,
   "metadata": {},
   "outputs": [
    {
     "name": "stdout",
     "output_type": "stream",
     "text": [
      "y-intercept: 9.90\n",
      "coefficient: 0.465\n",
      "R^2: 0.394\n"
     ]
    },
    {
     "data": {
      "image/png": "[encoded data removed]",
      "text/plain": [
       "<Figure size 432x288 with 1 Axes>"
      ]
     },
     "metadata": {
      "needs_background": "light"
     },
     "output_type": "display_data"
    }
   ],
   "source": [
    "# Linear regression of AdultWeekend(daysOpenLastYear) without Aspen/Snowmass\n",
    "AspenIndex = np.nonzero(X.index.str.contains('Aspen'))[0][0] #Need to get over to X_test\n",
    "AspenIndex = np.where((X_test == X_scaled[AspenIndex]).all(axis=1))[0][0] #For X_test\n",
    "x_loc = X.columns.get_loc('daysOpenLastYear')\n",
    "nonAspenRows = np.r_[0:AspenIndex, AspenIndex+1:X_test.shape[0]]\n",
    "x_linreg = scaler.inverse_transform(X_test)[nonAspenRows, x_loc]\n",
    "raw_linreg = LinearRegression().fit(x_linreg.reshape(-1, 1), y_test[nonAspenRows])\n",
    "x_points = np.array([np.min(x_linreg), np.max(x_linreg)])\n",
    "y_points = raw_linreg.predict(x_points.reshape(-1, 1))\n",
    "plt.scatter(x_linreg, y_test[nonAspenRows], c='b')\n",
    "plt.plot(x_points, y_points, c='k')\n",
    "plt.xlabel('Days open last year')\n",
    "plt.ylabel('Adult weekend price')\n",
    "print('y-intercept: %.2f' %(raw_linreg.intercept_))\n",
    "print('coefficient: %.3f' %(raw_linreg.coef_[0]))\n",
    "print('R^2: %.3f' %(raw_linreg.score(x_linreg.reshape(-1,1), y_test[nonAspenRows])))\n",
    "#plt.savefig('figures/fig3.png',bbox_inches='tight')\n",
    "plt.show()"
   ]
  },
  {
   "cell_type": "markdown",
   "metadata": {},
   "source": [
    "Removing this outlier raised R^2 from 0.343 to 0.394."
   ]
  },
  {
   "cell_type": "code",
   "execution_count": 10,
   "metadata": {},
   "outputs": [
    {
     "name": "stdout",
     "output_type": "stream",
     "text": [
      "y-intercept: 44.84\n",
      "coefficient: 0.399\n",
      "R^2: 0.594\n"
     ]
    },
    {
     "data": {
      "image/png": "[encoded data removed]",
      "text/plain": [
       "<Figure size 432x288 with 1 Axes>"
      ]
     },
     "metadata": {
      "needs_background": "light"
     },
     "output_type": "display_data"
    }
   ],
   "source": [
    "# Linear regression of AdultWeekend(Runs)\n",
    "x_loc = X.columns.get_loc('Runs')\n",
    "x_linreg = scaler.inverse_transform(X_test)[:, x_loc]\n",
    "raw_linreg = LinearRegression().fit(x_linreg.reshape(-1, 1), y_test)\n",
    "x_points = np.array([np.min(x_linreg), np.max(x_linreg)])\n",
    "y_points = raw_linreg.predict(x_points.reshape(-1, 1))\n",
    "plt.scatter(x_linreg, y_test, c='r')\n",
    "plt.plot(x_points, y_points, c='k')\n",
    "plt.xlabel('Number of runs')\n",
    "plt.ylabel('Adult weekend price')\n",
    "print('y-intercept: %.2f' %(raw_linreg.intercept_))\n",
    "print('coefficient: %.3f' %(raw_linreg.coef_[0]))\n",
    "print('R^2: %.3f' %(raw_linreg.score(x_linreg.reshape(-1,1), y_test)))\n",
    "#plt.savefig('figures/fig4.png',bbox_inches='tight')\n",
    "plt.show()"
   ]
  },
  {
   "cell_type": "markdown",
   "metadata": {},
   "source": [
    "Most of the resorts have fewer than 100 runs, and the slope of the correlation is steeper there. Intuitively this makes sense: The more runs a resort has, the greater its upkeep costs, but the more it can offer its customers. Again our outlier is Aspen/Snowmass, whose 336 runs dwarfs the rest of the resorts. (This might help explain why their lift tickets are so expensive.)\n",
    "\n",
    "However, from Part 3, 'Runs' and 'daysOpenLastYear' has a correlation of 0.49, which suggests that one could be influencing the other, but the effect does not appear to be too strong."
   ]
  },
  {
   "cell_type": "markdown",
   "metadata": {
    "colab_type": "text",
    "id": "giLKE2WMGUZh"
   },
   "source": [
    "## Finalize Code"
   ]
  },
  {
   "cell_type": "markdown",
   "metadata": {
    "colab_type": "text",
    "id": "pps_ASHoGUZi"
   },
   "source": [
    " Making sure our code is well organized and easy to follow is an important step. This is the time where you need to review the notebooks and Python scripts you've created and clean them up so they are easy to follow and succinct in nature. Addtionally, we will also save our final model as a callable object using Pickle for future use in a data pipeline. Pickle is a module that serializes (and de-serializes) Python objects so that they can become executable objects like functions. It's used extensively in production environments where machine learning models are deployed on an industrial scale!**<font color='teal'> Run the example code below to save out your callable model. Notice that we save it in the models folder we created in our previous guided capstone step.</font>** "
   ]
  },
  {
   "cell_type": "code",
   "execution_count": 11,
   "metadata": {
    "colab": {},
    "colab_type": "code",
    "id": "X_h0tkt_GUZj"
   },
   "outputs": [
    {
     "data": {
      "text/plain": [
       "['models/regression_model_adultweekend.joblib']"
      ]
     },
     "execution_count": 11,
     "metadata": {},
     "output_type": "execute_result"
    }
   ],
   "source": [
    "import pickle\n",
    "s = pickle.dumps(model)\n",
    "from joblib import dump, load\n",
    "dump(model, 'models/regression_model_adultweekend.joblib') "
   ]
  },
  {
   "cell_type": "markdown",
   "metadata": {
    "colab_type": "text",
    "id": "MTVrVlerGUZn"
   },
   "source": [
    "## Finalize Documentation"
   ]
  },
  {
   "cell_type": "markdown",
   "metadata": {
    "colab_type": "text",
    "id": "thEMyu-DGUZo"
   },
   "source": [
    "For model documentation, we want to save the model performance metrics as well as the features included in the final model. You could also save the model perfomance metrics and coefficients fo the other models you tried in case you want to refer to them later. **<font color='teal'> Create a dataframe containing the coefficients and the model performance metrics and save it out as a csv file, then upload it to your github repository.</font>** "
   ]
  },
  {
   "cell_type": "code",
   "execution_count": 12,
   "metadata": {
    "colab": {},
    "colab_type": "code",
    "id": "278tnHLlGUZp"
   },
   "outputs": [],
   "source": [
    "#X.to_csv('data\\step6_df.csv') #Uncomment to save"
   ]
  },
  {
   "cell_type": "code",
   "execution_count": 13,
   "metadata": {
    "colab": {},
    "colab_type": "code",
    "id": "4CEOoBLFGUZr"
   },
   "outputs": [],
   "source": [
    "#Correlation matrix saved back in step 3"
   ]
  }
 ],
 "metadata": {
  "colab": {
   "collapsed_sections": [
    "RtEspslPZyGY",
    "s0DokMkAZyGc",
    "2iuitnKcZyHS",
    "iAWQxougZyHW",
    "ThMTimlBZyHZ",
    "QwZ-LkjXZyHt",
    "srtXEA3N4-Y9",
    "ChVreJupZyIA",
    "zDgSSsq1ZyID",
    "I3GYKWfi5Llg",
    "pmMvrhbI-viE",
    "ZXDPkW3UZyIX",
    "Dnc_vHQLZyId",
    "daJxuJ-dZyIg",
    "mAQ-oHiPZyIn",
    "hnGOsp3mZyIp"
   ],
   "name": "GuidedCapstoneStep6.ipynb",
   "provenance": [],
   "toc_visible": true
  },
  "kernelspec": {
   "display_name": "Python 3",
   "language": "python",
   "name": "python3"
  },
  "language_info": {
   "codemirror_mode": {
    "name": "ipython",
    "version": 3
   },
   "file_extension": ".py",
   "mimetype": "text/x-python",
   "name": "python",
   "nbconvert_exporter": "python",
   "pygments_lexer": "ipython3",
   "version": "3.7.6"
  },
  "toc": {
   "base_numbering": "0",
   "nav_menu": {},
   "number_sections": true,
   "sideBar": true,
   "skip_h1_title": false,
   "title_cell": "Table of Contents",
   "title_sidebar": "Contents",
   "toc_cell": true,
   "toc_position": {
    "height": "calc(100% - 180px)",
    "left": "10px",
    "top": "150px",
    "width": "288px"
   },
   "toc_section_display": true,
   "toc_window_display": true
  }
 },
 "nbformat": 4,
 "nbformat_minor": 1
}
