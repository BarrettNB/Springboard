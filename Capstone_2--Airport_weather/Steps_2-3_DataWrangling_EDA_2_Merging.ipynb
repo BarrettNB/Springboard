{
 "cells": [
  {
   "cell_type": "code",
   "execution_count": 1,
   "metadata": {},
   "outputs": [],
   "source": [
    "import numpy as np\n",
    "import os\n",
    "import pandas as pd\n",
    "import matplotlib.pyplot as plt"
   ]
  },
  {
   "cell_type": "code",
   "execution_count": 2,
   "metadata": {},
   "outputs": [
    {
     "name": "stdout",
     "output_type": "stream",
     "text": [
      "Loading weather events\n",
      "Loading flight data\n"
     ]
    }
   ],
   "source": [
    "#Load the weather data and merge them into our two DataFrames.'''\n",
    "path = r'D:\\Springboard_DataSci\\Assignments\\Capstone_2--Airport_weather\\data'\n",
    "os.chdir(path)\n",
    "print('Loading weather events')\n",
    "weather_events = pd.read_csv('weather_events.csv')\n",
    "print('Loading flight data')\n",
    "departing_flights = pd.read_csv('departing_flights.csv')\n",
    "arriving_flights = pd.read_csv('arriving_flights.csv')"
   ]
  },
  {
   "cell_type": "code",
   "execution_count": 3,
   "metadata": {},
   "outputs": [],
   "source": [
    "# Merge the DataFrames.\n",
    "departure_events = departing_flights.merge(\n",
    "    weather_events, how='left', left_on=['ORIGIN','DepartureDate'],\n",
    "    right_on=['Airport','Date'], validate='one_to_many')\n",
    "arrival_events = arriving_flights.merge(\n",
    "    weather_events, how='left', left_on=['DEST','ArrivalDate'],\n",
    "    right_on=['Airport','Date'], validate='one_to_many')"
   ]
  },
  {
   "cell_type": "code",
   "execution_count": 4,
   "metadata": {},
   "outputs": [],
   "source": [
    "# Drop redundant columns.\n",
    "departure_events.drop(['Airport','Date'], axis=1, inplace=True)\n",
    "arrival_events.drop(['Airport','Date'], axis=1, inplace=True)\n",
    "\n",
    "# Clean up the column names.\n",
    "inputVars = pd.Series(['Cold','Fog','Hail','Rain','Snow','Storm'], name='Code')\n",
    "column_renames = {'ARR_DEL15':'ArrivDel',\n",
    "                  'DEP_DEL15':'DepartDel',\n",
    "                  'ColdCode':'Cold',\n",
    "                  'FogCode':'Fog',\n",
    "                  'HailCode':'Hail',\n",
    "                  'RainCode':'Rain',\n",
    "                  'SnowCode':'Snow',\n",
    "                  'StormCode':'Storm'}\n",
    "departure_events.rename(columns=column_renames, inplace=True)\n",
    "arrival_events.rename(columns=column_renames, inplace=True)\n",
    "\n",
    "# NaN's mean no weather events on that day. Fill them in with 0's.\n",
    "for column in inputVars:\n",
    "    departure_events[column].fillna(0, inplace=True)\n",
    "    arrival_events[column].fillna(0, inplace=True)"
   ]
  },
  {
   "cell_type": "code",
   "execution_count": 6,
   "metadata": {},
   "outputs": [],
   "source": [
    "'''Exploratory data analysis'''\n",
    "FRAC_CANCELLED = 'FracCancelled'\n",
    "FRAC_DELAYED = 'FracDelayed'\n",
    "departure_events[FRAC_CANCELLED] = departure_events.WeatherCancelled/departure_events.Flights\n",
    "arrival_events[FRAC_CANCELLED] = arrival_events.WeatherCancelled/arrival_events.Flights\n",
    "departure_events[FRAC_DELAYED] = departure_events.WeatherDelayed/departure_events.Flights\n",
    "arrival_events[FRAC_DELAYED] = arrival_events.WeatherDelayed/arrival_events.Flights\n",
    "\n",
    "X_dep = departure_events.loc[:, inputVars]\n",
    "X_arr = arrival_events.loc[:, inputVars]"
   ]
  },
  {
   "cell_type": "code",
   "execution_count": 8,
   "metadata": {},
   "outputs": [
    {
     "name": "stdout",
     "output_type": "stream",
     "text": [
      "Deviation from X_dep and array of ints: Cold     0.0\n",
      "Fog      0.0\n",
      "Hail     0.0\n",
      "Rain     0.0\n",
      "Snow     0.0\n",
      "Storm    0.0\n",
      "dtype: float64\n",
      "\n",
      "Deviation from X_arr and array of ints: Cold     0.0\n",
      "Fog      0.0\n",
      "Hail     0.0\n",
      "Rain     0.0\n",
      "Snow     0.0\n",
      "Storm    0.0\n",
      "dtype: float64\n",
      "\n",
      "Calculating correlation matrices\n",
      "Max abs difference between Corr_X_dep and Corr_X_arr: Cold     0.000011\n",
      "Fog      0.000403\n",
      "Hail     0.000040\n",
      "Rain     0.000403\n",
      "Snow     0.000040\n",
      "Storm    0.000054\n",
      "dtype: float64\n"
     ]
    }
   ],
   "source": [
    "print('Deviation from X_dep and array of ints:', maxAbsDiff(X_dep, X_dep.astype(int)) )\n",
    "print('Deviation from X_arr and array of ints:', maxAbsDiff(X_arr, X_arr.astype(int)) )\n",
    "X_dep = X_dep.astype(int)\n",
    "X_arr = X_arr.astype(int)\n",
    "\n",
    "print('Calculating correlation matrices')\n",
    "Corr_X_dep, coords_max_Corr_X_dep = corrMatrixAndMax(X_dep)\n",
    "Corr_X_arr, coords_max_Corr_X_arr = corrMatrixAndMax(X_arr)\n",
    "print('Max abs difference between Corr_X_dep and Corr_X_arr:', maxAbsDiff(Corr_X_dep, Corr_X_arr))\n",
    "#Nearly identical, which makes sense given that they're from the same dates and airports."
   ]
  },
  {
   "cell_type": "code",
   "execution_count": null,
   "metadata": {},
   "outputs": [],
   "source": [
    "Avg = pd.DataFrame(map(list, zip(inputVars.values, np.average(\n",
    "    X_dep, axis=0, weights=departure_events.Flights))), columns=['Code', 'WtAvg'])\n",
    "Avg = Avg.set_index('Code')['WtAvg']\n",
    "print('\\nWeighted averages: ' + str(Avg) + '\\n')"
   ]
  },
  {
   "cell_type": "markdown",
   "metadata": {},
   "source": [
    "Now let's do some plots, per code, categorized by code value. To make things\n",
    "simpler we will not weight these values for now. There are a ton of outliers; we\n",
    "will do the plots both with and without them."
   ]
  },
  {
   "cell_type": "code",
   "execution_count": null,
   "metadata": {},
   "outputs": [],
   "source": [
    "frac_cancelled = departure_events['FracCancelled']\n",
    "frac_delayed = departure_events['FracDelayed']\n",
    "\n",
    "for showfliers in [True, False]: #Outliers\n",
    "    for weatherCode in inputVars:\n",
    "        unique_codes = np.sort(X_dep[weatherCode].unique()) #makes a Series of value counts indexed by code #\n",
    "        cancelled_per_code = [frac_cancelled[X_dep[weatherCode]==j] for j in unique_codes]\n",
    "        delayed_per_code = [frac_delayed[X_dep[weatherCode]==j] for j in unique_codes]\n",
    "    \n",
    "        fig, axs = plt.subplots(1,2)\n",
    "        axs[0].boxplot(cancelled_per_code, showfliers=showfliers)\n",
    "        axs[0].set_title('Cancellation fraction per code')\n",
    "        axs[1].boxplot(delayed_per_code, showfliers=showfliers)\n",
    "        axs[1].set_title('Delay fraction per code')\n",
    "        for j in [0,1]:\n",
    "            axs[j].set_xticklabels(unique_codes)\n",
    "            axs[j].set_xlabel('Value of \"' + weatherCode + '\"')\n",
    "            axs[j].yaxis.grid(True)\n",
    "        if not showfliers:\n",
    "            plt.savefig('BoxPlot' + weatherCode + '.png')\n",
    "        plt.tight_layout()\n",
    "        plt.show()\n"
   ]
  },
  {
   "cell_type": "markdown",
   "metadata": {},
   "source": [
    "The medians of some of these features clearly are affected by the feature value;\n",
    "however, none of them seem to add up to much more than about 0.20, meaning that\n",
    "we should not expect that these weather events will have an overwhelming affect\n",
    "on delays and cancellations. Still, there do seem to be trends that emerge."
   ]
  },
  {
   "cell_type": "code",
   "execution_count": 5,
   "metadata": {},
   "outputs": [],
   "source": [
    "# Save the results.\n",
    "# departure_events.to_csv('departure_events.csv') #Uncomment to save.\n",
    "# arrival_events.to_csv('arrival_events.csv')"
   ]
  }
 ],
 "metadata": {
  "kernelspec": {
   "display_name": "Python 3",
   "language": "python",
   "name": "python3"
  },
  "language_info": {
   "codemirror_mode": {
    "name": "ipython",
    "version": 3
   },
   "file_extension": ".py",
   "mimetype": "text/x-python",
   "name": "python",
   "nbconvert_exporter": "python",
   "pygments_lexer": "ipython3",
   "version": "3.7.6"
  }
 },
 "nbformat": 4,
 "nbformat_minor": 4
}
