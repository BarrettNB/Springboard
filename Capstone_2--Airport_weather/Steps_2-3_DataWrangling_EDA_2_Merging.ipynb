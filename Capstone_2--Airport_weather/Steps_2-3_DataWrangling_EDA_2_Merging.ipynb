{
 "cells": [
  {
   "cell_type": "markdown",
   "metadata": {},
   "source": [
    "Data wrangling for the weather-airports project.\n",
    "\n",
    "Part 2: Merging the data. Requires data from Parts 1a and 1b to run."
   ]
  },
  {
   "cell_type": "code",
   "execution_count": 1,
   "metadata": {},
   "outputs": [],
   "source": [
    "import numpy as np\n",
    "import pandas as pd\n",
    "import os\n",
    "import sys\n",
    "sys.path.append('D:/Springboard_DataSci/Assignments/Lib')\n",
    "import TimeTracker\n",
    "from varname import nameof"
   ]
  },
  {
   "cell_type": "code",
   "execution_count": 2,
   "metadata": {},
   "outputs": [],
   "source": [
    "save_data = True; save_data = False\n",
    "START_TIME_LOCAL = 'StartTimeLocal'\n",
    "END_TIME_LOCAL = 'EndTimeLocal'\n",
    "START_OR_END = 'StartOrEnd'\n",
    "\n",
    "pd.options.mode.chained_assignment = None #turns off warnings for data replacements"
   ]
  },
  {
   "cell_type": "code",
   "execution_count": 3,
   "metadata": {},
   "outputs": [],
   "source": [
    "'''Data collection'''\n",
    "stopwatch = TimeTracker.TimeTracker()\n",
    "# Get the weather data.\n",
    "path = r'D:\\Springboard_DataSci\\Assignments\\Capstone_2--Airport_weather\\data'\n",
    "os.chdir(path)\n",
    "\n",
    "events_cold = pd.read_csv('events_cold.csv')\n",
    "events_hail = pd.read_csv('events_hail.csv')\n",
    "events_sleet = pd.read_csv('events_sleet.csv')\n",
    "events_wind = pd.read_csv('events_wind.csv')\n",
    "events_fog = pd.read_csv('events_fog.csv')\n",
    "events_snow = pd.read_csv('events_snow.csv')\n",
    "events_rain = pd.read_csv('events_rain.csv')"
   ]
  },
  {
   "cell_type": "code",
   "execution_count": 4,
   "metadata": {},
   "outputs": [
    {
     "name": "stdout",
     "output_type": "stream",
     "text": [
      "Events are balanced? True\n",
      "Events are balanced? True\n",
      "Events are balanced? True\n",
      "Events are balanced? True\n",
      "Events are balanced? True\n",
      "Events are balanced? False\n",
      "Events are balanced? True\n"
     ]
    }
   ],
   "source": [
    "# Verifies that StartOrEnd codes alternate Start, End, Start, End,...\n",
    "def verifyStartEnd(df):\n",
    "    return all(df[START_OR_END][::2] == START_TIME_LOCAL)\\\n",
    "        and all(df[START_OR_END][1::2] == END_TIME_LOCAL)\n",
    "\n",
    "for event in [events_cold, events_hail, events_sleet, events_wind, events_fog, events_snow, events_rain]:\n",
    "    print('Events are balanced?', verifyStartEnd(event))"
   ]
  },
  {
   "cell_type": "code",
   "execution_count": 5,
   "metadata": {},
   "outputs": [
    {
     "name": "stdout",
     "output_type": "stream",
     "text": [
      "   Airport  SnowCode      StartOrEnd                       Time  Balance\n",
      "66     JFK       1.0    EndTimeLocal  2016-03-21 09:51:00-04:00    False\n",
      "67     JFK       1.0  StartTimeLocal  2016-03-21 09:51:01-04:00    False\n",
      "Snow codes now balanced? True\n"
     ]
    }
   ],
   "source": [
    "# All codes but the snow are balanced.\n",
    "events_snow['Balance'] = False\n",
    "events_snow.Balance[::2] = (events_snow[START_OR_END][::2] == START_TIME_LOCAL)\n",
    "events_snow.Balance[1::2] = (events_snow[START_OR_END][1::2] == END_TIME_LOCAL)\n",
    "unbalanced_rows = events_snow[events_snow.Balance == False].index\n",
    "print(events_snow.iloc[unbalanced_rows]) #Exact same time and place. Just drop them.\n",
    "events_snow.drop(unbalanced_rows, inplace=True)\n",
    "print('Snow codes now balanced?', verifyStartEnd(events_snow)) #Balanced now. Let's proceed.\n",
    "events_snow = events_snow.drop('Balance', axis=1).reset_index(drop=True)"
   ]
  },
  {
   "cell_type": "code",
   "execution_count": 6,
   "metadata": {},
   "outputs": [],
   "source": [
    "# Get each event's starting times and ending times back on the same row.\n",
    "def pivot_on_times(df):\n",
    "    codename = df.columns[1]\n",
    "    df = pd.concat([pd.Series(np.repeat(np.arange(len(df)//2), 2), name='NewIndex'), df], axis=1)\n",
    "    df = df.pivot(index='NewIndex', columns=START_OR_END)\n",
    "    df.columns = df.columns.droplevel()\n",
    "    df = df.iloc[:, [0,2,5,4]]\n",
    "    df.columns = ['Airport', codename, START_TIME_LOCAL, END_TIME_LOCAL]\n",
    "    return df"
   ]
  },
  {
   "cell_type": "code",
   "execution_count": 7,
   "metadata": {},
   "outputs": [],
   "source": [
    "events_cold, events_hail, events_sleet, events_wind, events_fog, events_snow, events_rain = (\n",
    "    pivot_on_times(df) for df in (\n",
    "        events_cold, events_hail, events_sleet, events_wind, events_fog, events_snow, events_rain))"
   ]
  },
  {
   "cell_type": "code",
   "execution_count": 8,
   "metadata": {},
   "outputs": [],
   "source": [
    "# Get the flight data.\n",
    "flights = pd.read_csv('flights.csv')"
   ]
  },
  {
   "cell_type": "markdown",
   "metadata": {},
   "source": [
    "Assign weather codes to each flight, both for departure and arrival. Codes for departure\n",
    "match to weather at the departure city, and codes for arrival match to weather at the arrival\n",
    "city."
   ]
  },
  {
   "cell_type": "code",
   "execution_count": 9,
   "metadata": {},
   "outputs": [],
   "source": [
    "# This order must correspond to the \"for event_type\" list below.\n",
    "flights['DepCold'] = flights['DepHail'] = flights['DepSleet'] = flights['DepWind'] = flights['DepFog']\\\n",
    "    = flights['DepSnow'] = flights['DepRain'] = flights['ArrCold'] = flights['ArrHail'] = flights['ArrSleet']\\\n",
    "    = flights['ArrWind'] = flights['ArrFog'] = flights['ArrSnow'] = flights['ArrRain'] = 0"
   ]
  },
  {
   "cell_type": "markdown",
   "metadata": {},
   "source": [
    "Loop through the entire list of flights and assign weather codes. We do this first for the departures,\n",
    "then the arrivals. Begin by sorting by departure airport and time (but not arrival airport--we are just looking\n",
    "at the departure side for now)."
   ]
  },
  {
   "cell_type": "code",
   "execution_count": 10,
   "metadata": {},
   "outputs": [],
   "source": [
    "airports = list(pd.unique(flights.ORIGIN))\n",
    "event_types = [events_cold, events_hail, events_sleet, events_wind, events_fog, events_snow, events_rain]\n",
    "event_type_names = [name for name in nameof(\n",
    "    events_cold, events_hail, events_sleet, events_wind, events_fog, events_snow, events_rain)]\n",
    "assert (set(airports) == set(pd.unique(flights.DEST))), 'Departure and arrival airports are not all the same'"
   ]
  },
  {
   "cell_type": "code",
   "execution_count": 11,
   "metadata": {},
   "outputs": [
    {
     "name": "stdout",
     "output_type": "stream",
     "text": [
      "Entering departure data for events_cold\n",
      "Entering departure data for events_hail\n",
      "Entering departure data for events_sleet\n",
      "Entering departure data for events_wind\n",
      "Entering departure data for events_fog\n",
      "Entering departure data for events_snow\n",
      "Entering departure data for events_rain\n"
     ]
    }
   ],
   "source": [
    "flights.sort_values(by=['ORIGIN','DepartureTime'], inplace=True, ignore_index=True)\n",
    "codes_start_at = flights.columns.get_indexer_for(['DepCold'])[0] # 9\n",
    "for i, event_type in enumerate(event_types):\n",
    "    print('Entering departure data for', event_type_names[i]) # Rain codes will take awhile.\n",
    "    for airport in airports:\n",
    "        events_at_this_airport = event_type[event_type.Airport == airport].reset_index(drop=True)\n",
    "        for j in events_at_this_airport.index:\n",
    "            individual_event = pd.Series(events_at_this_airport.iloc[j])\n",
    "            weather_indices = flights[(flights.DepartureTime >= individual_event.StartTimeLocal) & (\n",
    "                flights.DepartureTime <= individual_event.EndTimeLocal) & (flights.ORIGIN == airport)].index\n",
    "            flights.iloc[weather_indices.to_numpy(), i+codes_start_at] = individual_event.iloc[1]"
   ]
  },
  {
   "cell_type": "code",
   "execution_count": 12,
   "metadata": {},
   "outputs": [
    {
     "name": "stdout",
     "output_type": "stream",
     "text": [
      "Entering arrival data for events_cold\n",
      "Entering arrival data for events_hail\n",
      "Entering arrival data for events_sleet\n",
      "Entering arrival data for events_wind\n",
      "Entering arrival data for events_fog\n",
      "Entering arrival data for events_snow\n",
      "Entering arrival data for events_rain\n"
     ]
    }
   ],
   "source": [
    "# Repeat with the arrivals.\n",
    "flights.sort_values(by=['DEST','ArrivalTime'], inplace=True, ignore_index=True)\n",
    "codes_start_at = flights.columns.get_indexer_for(['ArrCold'])[0] # 16\n",
    "for i, event_type in enumerate(event_types):\n",
    "    print('Entering arrival data for', event_type_names[i]) # Rain codes will take awhile.\n",
    "    for airport in airports:\n",
    "        events_at_this_airport = event_type[event_type.Airport == airport].reset_index(drop=True)\n",
    "        for j in events_at_this_airport.index:\n",
    "            individual_event = pd.Series(events_at_this_airport.iloc[j])      \n",
    "            weather_indices = flights[(flights.ArrivalTime >= individual_event.StartTimeLocal) & (\n",
    "                flights.ArrivalTime <= individual_event.EndTimeLocal) & (flights.DEST == airport)].index\n",
    "            flights.iloc[weather_indices.to_numpy(), i+codes_start_at] = individual_event.iloc[1]"
   ]
  },
  {
   "cell_type": "code",
   "execution_count": 14,
   "metadata": {},
   "outputs": [
    {
     "name": "stdout",
     "output_type": "stream",
     "text": [
      "Total runtime: --- 9.39 minutes ---\n"
     ]
    }
   ],
   "source": [
    "flights.rename(columns={\"WEATHER_DELAY\": \"WeatherDelayLength\"}, inplace=True)\n",
    "if save_data:\n",
    "    print('Saving data')\n",
    "    flights.to_csv('flights_with_weather.csv', index=False)\n",
    "\n",
    "print('Total runtime:', stopwatch.getElapsedTime())"
   ]
  }
 ],
 "metadata": {
  "kernelspec": {
   "display_name": "Python 3",
   "language": "python",
   "name": "python3"
  },
  "language_info": {
   "codemirror_mode": {
    "name": "ipython",
    "version": 3
   },
   "file_extension": ".py",
   "mimetype": "text/x-python",
   "name": "python",
   "nbconvert_exporter": "python",
   "pygments_lexer": "ipython3",
   "version": "3.7.6"
  }
 },
 "nbformat": 4,
 "nbformat_minor": 4
}
