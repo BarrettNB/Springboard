{
 "cells": [
  {
   "cell_type": "code",
   "execution_count": 1,
   "metadata": {},
   "outputs": [],
   "source": [
    "import os\n",
    "import pandas as pd"
   ]
  },
  {
   "cell_type": "code",
   "execution_count": 2,
   "metadata": {},
   "outputs": [
    {
     "name": "stdout",
     "output_type": "stream",
     "text": [
      "Loading weather events\n",
      "Index(['Airport', 'Date', 'Cold', 'Fog', 'Hail', 'Wind', 'Rain', 'Sleet',\n",
      "       'Snow', 'index'],\n",
      "      dtype='object')\n",
      "Loading flight data\n"
     ]
    }
   ],
   "source": [
    "# Load the weather data and merge them into our two DataFrames.'''\n",
    "WORKING_DIR = r'D:\\Springboard_DataSci\\Assignments\\Capstone_2--Airport_weather'\n",
    "os.chdir(WORKING_DIR + r'\\data')\n",
    "\n",
    "print('Loading weather events')\n",
    "weather_events = pd.read_csv('daily_weather.csv')\n",
    "print(weather_events.columns)\n",
    "weather_events.drop('index', axis=1, inplace=True)\n",
    "inputVars = pd.Series(weather_events.columns[2:])\n",
    "\n",
    "print('Loading flight data')\n",
    "departing_flights = pd.read_csv('departing_flights.csv')\n",
    "arriving_flights = pd.read_csv('arriving_flights.csv')"
   ]
  },
  {
   "cell_type": "code",
   "execution_count": 3,
   "metadata": {},
   "outputs": [],
   "source": [
    "# Merge the DataFrames.\n",
    "departure_events = departing_flights.merge(\n",
    "    weather_events, how='left', left_on=['ORIGIN','DepartureDate'],\n",
    "    right_on=['Airport','Date'], validate='one_to_many')\n",
    "arrival_events = arriving_flights.merge(\n",
    "    weather_events, how='left', left_on=['DEST','ArrivalDate'],\n",
    "    right_on=['Airport','Date'], validate='one_to_many')"
   ]
  },
  {
   "cell_type": "code",
   "execution_count": 4,
   "metadata": {},
   "outputs": [
    {
     "name": "stdout",
     "output_type": "stream",
     "text": [
      "Index(['ORIGIN', 'DepartureDate', 'ARR_DEL15', 'DEP_DEL15', 'Flights',\n",
      "       'WeatherCancelled', 'WeatherDelayed', 'Airport', 'Date', 'Cold', 'Fog',\n",
      "       'Hail', 'Wind', 'Rain', 'Sleet', 'Snow'],\n",
      "      dtype='object')\n",
      "Index(['DEST', 'ArrivalDate', 'ARR_DEL15', 'DEP_DEL15', 'Flights',\n",
      "       'WeatherCancelled', 'WeatherDelayed', 'Airport', 'Date', 'Cold', 'Fog',\n",
      "       'Hail', 'Wind', 'Rain', 'Sleet', 'Snow'],\n",
      "      dtype='object')\n"
     ]
    }
   ],
   "source": [
    "# Drop redundant columns.\n",
    "print(departure_events.columns)\n",
    "print(arrival_events.columns)\n",
    "departure_events.drop(['Airport','Date'], axis=1, inplace=True)\n",
    "arrival_events.drop(['Airport','Date'], axis=1, inplace=True)"
   ]
  },
  {
   "cell_type": "code",
   "execution_count": 5,
   "metadata": {},
   "outputs": [],
   "source": [
    "# Clean up the column names.\n",
    "column_renames = {'ARR_DEL15':'ArrivDelay',\n",
    "                  'DEP_DEL15':'DepartDelay'}\n",
    "departure_events.rename(columns=column_renames, inplace=True)\n",
    "arrival_events.rename(columns=column_renames, inplace=True)"
   ]
  },
  {
   "cell_type": "code",
   "execution_count": 6,
   "metadata": {},
   "outputs": [],
   "source": [
    "# NaN's mean no weather events on that day. Fill them in with 0's.\n",
    "for column in inputVars:\n",
    "    departure_events[column].fillna(0, inplace=True)\n",
    "    arrival_events[column].fillna(0, inplace=True)"
   ]
  },
  {
   "cell_type": "code",
   "execution_count": 7,
   "metadata": {},
   "outputs": [],
   "source": [
    "# Save the files for the exploratory data analysis.\n",
    "os.chdir(WORKING_DIR + r'\\data')\n",
    "departure_events.to_csv('departure_events.csv')\n",
    "arrival_events.to_csv('arrival_events.csv')"
   ]
  }
 ],
 "metadata": {
  "kernelspec": {
   "display_name": "Python 3",
   "language": "python",
   "name": "python3"
  },
  "language_info": {
   "codemirror_mode": {
    "name": "ipython",
    "version": 3
   },
   "file_extension": ".py",
   "mimetype": "text/x-python",
   "name": "python",
   "nbconvert_exporter": "python",
   "pygments_lexer": "ipython3",
   "version": "3.7.6"
  }
 },
 "nbformat": 4,
 "nbformat_minor": 4
}
