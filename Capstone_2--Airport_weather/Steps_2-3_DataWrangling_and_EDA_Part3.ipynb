{
 "cells": [
  {
   "cell_type": "code",
   "execution_count": 1,
   "metadata": {},
   "outputs": [],
   "source": [
    "import os\n",
    "import pandas as pd"
   ]
  },
  {
   "cell_type": "code",
   "execution_count": 2,
   "metadata": {},
   "outputs": [
    {
     "name": "stdout",
     "output_type": "stream",
     "text": [
      "Loading weather events\n",
      "Loading flight data\n"
     ]
    }
   ],
   "source": [
    "#Load the weather data and merge them into our two DataFrames.'''\n",
    "path = r'D:\\Springboard_DataSci\\Assignments\\Capstone_2--Airport_weather\\data'\n",
    "os.chdir(path)\n",
    "print('Loading weather events')\n",
    "weather_events = pd.read_csv('weather_events.csv')\n",
    "print('Loading flight data')\n",
    "departing_flights = pd.read_csv('departing_flights.csv')\n",
    "arriving_flights = pd.read_csv('arriving_flights.csv')"
   ]
  },
  {
   "cell_type": "code",
   "execution_count": 3,
   "metadata": {},
   "outputs": [],
   "source": [
    "# Merge the DataFrames.\n",
    "departure_events = departing_flights.merge(\n",
    "    weather_events, how='left', left_on=['ORIGIN','DepartureDate'],\n",
    "    right_on=['Airport','Date'], validate='one_to_many')\n",
    "arrival_events = arriving_flights.merge(\n",
    "    weather_events, how='left', left_on=['DEST','ArrivalDate'],\n",
    "    right_on=['Airport','Date'], validate='one_to_many')"
   ]
  },
  {
   "cell_type": "code",
   "execution_count": 4,
   "metadata": {},
   "outputs": [],
   "source": [
    "# Drop redundant columns.\n",
    "departure_events.drop(['Airport','Date'], axis=1, inplace=True)\n",
    "arrival_events.drop(['Airport','Date'], axis=1, inplace=True)\n",
    "\n",
    "# Clean up the column names.\n",
    "inputVars = ['Cold','Fog','Hail','Rain','Snow','Storm']\n",
    "column_renames = {'ARR_DEL15':'ArrivDel',\n",
    "                  'DEP_DEL15':'DepartDel',\n",
    "                  'ColdCode':'Cold',\n",
    "                  'FogCode':'Fog',\n",
    "                  'HailCode':'Hail',\n",
    "                  'RainCode':'Rain',\n",
    "                  'SnowCode':'Snow',\n",
    "                  'StormCode':'Storm'}\n",
    "departure_events.rename(columns=column_renames, inplace=True)\n",
    "arrival_events.rename(columns=column_renames, inplace=True)\n",
    "\n",
    "# NaN's mean no weather events on that day. Fill them in with 0's.\n",
    "for column in inputVars:\n",
    "    departure_events[column].fillna(0, inplace=True)\n",
    "    arrival_events[column].fillna(0, inplace=True)"
   ]
  },
  {
   "cell_type": "code",
   "execution_count": 5,
   "metadata": {},
   "outputs": [],
   "source": [
    "# Save the results.\n",
    "# departure_events.to_csv('departure_events.csv') #Uncomment to save.\n",
    "# arrival_events.to_csv('arrival_events.csv')"
   ]
  }
 ],
 "metadata": {
  "kernelspec": {
   "display_name": "Python 3",
   "language": "python",
   "name": "python3"
  },
  "language_info": {
   "codemirror_mode": {
    "name": "ipython",
    "version": 3
   },
   "file_extension": ".py",
   "mimetype": "text/x-python",
   "name": "python",
   "nbconvert_exporter": "python",
   "pygments_lexer": "ipython3",
   "version": "3.7.6"
  }
 },
 "nbformat": 4,
 "nbformat_minor": 4
}
