{
 "cells": [
  {
   "cell_type": "markdown",
   "metadata": {},
   "source": [
    "# Introduction\n",
    "\n",
    "Now we will attempt to fit the weather data to whether the flight was cancelled\n",
    "or delayed. We saw from the EDA analysis that logistic regressions do not fit\n",
    "the data well. We will use these as a baseline and attempt to improve with\n",
    "other techniques.\n",
    "\n",
    "Techniques include 5-fold cross-validation and train-test splitting."
   ]
  },
  {
   "cell_type": "code",
   "execution_count": 1,
   "metadata": {},
   "outputs": [],
   "source": [
    "import matplotlib.pyplot as plt\n",
    "import numpy as np\n",
    "import os\n",
    "import pandas as pd\n",
    "from sklearn.ensemble import RandomForestClassifier\n",
    "from sklearn.linear_model import LogisticRegression as LogReg\n",
    "from sklearn.metrics import roc_curve, roc_auc_score\n",
    "from sklearn.model_selection import GridSearchCV, train_test_split\n",
    "from sklearn.svm import SVC\n",
    "import sys\n",
    "sys.path.append('D:/Springboard_DataSci/Assignments/Lib')\n",
    "import TimeTracker"
   ]
  },
  {
   "cell_type": "code",
   "execution_count": 2,
   "metadata": {},
   "outputs": [
    {
     "name": "stdout",
     "output_type": "stream",
     "text": [
      "Importing data\n"
     ]
    }
   ],
   "source": [
    "stopwatch = TimeTracker.TimeTracker()\n",
    "print('Importing data')\n",
    "os.chdir(r'D:\\Springboard_DataSci\\Assignments\\Capstone_2--Airport_weather\\data')\n",
    "flight_data = pd.read_csv('flights_with_weather.csv')"
   ]
  },
  {
   "cell_type": "markdown",
   "metadata": {},
   "source": [
    "# Preprocessing\n",
    "\n",
    "All the departure and arrival weather codes are 0, 1, 2, or 3, so there is no\n",
    "scaling needed. We do need to include the squares of weather codes that can\n",
    "be greater than 1."
   ]
  },
  {
   "cell_type": "code",
   "execution_count": 3,
   "metadata": {},
   "outputs": [],
   "source": [
    "flight_data[['DepRainSqu', 'DepSnowSqu', 'ArrRainSqu', 'ArrSnowSqu']]\\\n",
    "    = np.square(flight_data[['DepRain', 'DepSnow', 'ArrRain', 'ArrSnow']])\n",
    "\n",
    "#Remove the vars and columns that are insignificant or no longer necessary.\n",
    "flight_data.drop(\n",
    "    ['ORIGIN', 'DEST', 'WeatherDelayLength', 'DepartureTime', 'ArrivalTime',\n",
    "     'DepFog', 'ArrFog', 'DepSleet', 'ArrHail'], axis=1, inplace=True)"
   ]
  },
  {
   "cell_type": "markdown",
   "metadata": {},
   "source": [
    "# Training\n",
    "\n",
    "We now have a host of columns in place to attempt to train the data. Since the\n",
    "flight data are autocorrelated among time and location, let's scramble them."
   ]
  },
  {
   "cell_type": "code",
   "execution_count": 4,
   "metadata": {},
   "outputs": [],
   "source": [
    "flight_data = flight_data.sample(frac=1, random_state=1).reset_index(drop=True)"
   ]
  },
  {
   "cell_type": "markdown",
   "metadata": {},
   "source": [
    "Let's recall how many of the flights were cancelled, delayed, or neither."
   ]
  },
  {
   "cell_type": "code",
   "execution_count": 5,
   "metadata": {},
   "outputs": [
    {
     "name": "stdout",
     "output_type": "stream",
     "text": [
      "Flights cancelled: 1831\n",
      "Flights delayed: 2679\n",
      "All other flights: 210960\n"
     ]
    }
   ],
   "source": [
    "CANCELLED = 'WeatherCancelled'\n",
    "DELAYED = 'WeatherDelayed'\n",
    "print('Flights cancelled:', flight_data[flight_data[CANCELLED]==1].shape[0])\n",
    "print('Flights delayed:', flight_data[flight_data[DELAYED]==1].shape[0])\n",
    "print('All other flights:', flight_data[\n",
    "    (flight_data[CANCELLED]==0) & (flight_data[DELAYED]==0)].shape[0])"
   ]
  },
  {
   "cell_type": "markdown",
   "metadata": {},
   "source": [
    "The overwhelming majority of flights were neither delayed nor cancelled. We\n",
    "will have to keep this into account when attempting to train the data. Any\n",
    "downsampling should probably occur only on the non-cancelled, non-delayed\n",
    "flights."
   ]
  },
  {
   "cell_type": "code",
   "execution_count": 6,
   "metadata": {},
   "outputs": [],
   "source": [
    "# Columns insignificant to cancellations or delays\n",
    "INSIG_CANCEL_COLS = ['DepHail']\n",
    "INSIG_DELAY_COLS = ['DepSnow', 'DepSnowSqu', 'ArrSnow', 'ArrSnowSqu',\n",
    "                    'ArrSleet']\n",
    "MISNAMED_Y_COL_MSG = 'Check y column name. Got '"
   ]
  },
  {
   "cell_type": "code",
   "execution_count": 7,
   "metadata": {},
   "outputs": [],
   "source": [
    "LOG_REG = 'logistic regression'\n",
    "SVC_str = 'SVC' #We already imported the classifier as SVC\n",
    "FOREST = 'Random forest'"
   ]
  },
  {
   "cell_type": "code",
   "execution_count": 8,
   "metadata": {},
   "outputs": [],
   "source": [
    "'''Sample all data with positive results and a portion of negative results.'''\n",
    "def sample_towards_positive(data, y_column_name, portion):\n",
    "    data_0 = flight_data[data[y_column_name] == 0]\n",
    "    return pd.concat([data[data[y_column_name] == 1],\n",
    "                      data_0.iloc[0:data_0.shape[0]:portion]])"
   ]
  },
  {
   "cell_type": "code",
   "execution_count": 9,
   "metadata": {},
   "outputs": [],
   "source": [
    "def param_sweep(data, classifier, y_column_name, sample_portion, params):\n",
    "    print('\\n\\tRunning ' + classifier + ' for ' + y_column_name\\\n",
    "          + ' on every ' + str(sample_portion) + ' negative data points')\n",
    "    data = sample_towards_positive(data, y_column_name, sample_portion)\n",
    "    y = data[y_column_name]\n",
    "    X = data.iloc[:,2:]\n",
    "    if classifier == LOG_REG:\n",
    "        C = params #just one parameter set\n",
    "        clf = GridSearchCV(\n",
    "            LogReg(class_weight='balanced', random_state=1, max_iter=10000),\n",
    "            {'C': C}, scoring='roc_auc', cv=5)\n",
    "    elif classifier == SVC_str:\n",
    "        C, gamma = params\n",
    "        clf = GridSearchCV(\n",
    "            SVC(class_weight='balanced', random_state=1),\n",
    "            {'C': C, 'gamma': gamma}, scoring='roc_auc', cv=5)\n",
    "    elif classifier == FOREST:\n",
    "        n_estimators, max_depth, max_features = params\n",
    "        clf = GridSearchCV(\n",
    "            RandomForestClassifier(class_weight='balanced', random_state=1),\n",
    "            {'n_estimators': n_estimators, 'max_depth': max_depth, 'max_features': max_features},\n",
    "            scoring='roc_auc', cv=5)\n",
    "    print('\\tTotal targets:', data.shape[0]) #Untrimmed data\n",
    "    print('\\t% of negative targets', '%.4g' % (100/(data.shape[0])\\\n",
    "       *(data[data[y_column_name] == 0].shape[0])))\n",
    "    clf.fit(X, y)\n",
    "    return clf"
   ]
  },
  {
   "cell_type": "markdown",
   "metadata": {},
   "source": [
    "## Logistic regressions\n",
    "\n",
    "Since we have already tried logistic regressions on the full dataset, we will\n",
    "start there and consider them as our baseline. We vary the parameter C over\n",
    "the range 0.01 to 1000. We seek the best roc_auc score over a 5-fold cross\n",
    "validation, which we will do for all tests.\n",
    "\n",
    "Because of the large data, we will downsample. Most of the results are\n",
    "\"negative,\" defined as flights that are neither delayed nor cancelled, so\n",
    "we will only downsample the \"negative\" flights and keep all \"positive\" ones."
   ]
  },
  {
   "cell_type": "code",
   "execution_count": 10,
   "metadata": {},
   "outputs": [
    {
     "name": "stdout",
     "output_type": "stream",
     "text": [
      "\n",
      "Logistic Regressions\n"
     ]
    }
   ],
   "source": [
    "logistic_stopwatch = TimeTracker.TimeTracker()\n",
    "print('\\nLogistic Regressions')\n",
    "C = np.power(10, np.arange(-2,3, dtype=float))"
   ]
  },
  {
   "cell_type": "code",
   "execution_count": 11,
   "metadata": {},
   "outputs": [
    {
     "name": "stdout",
     "output_type": "stream",
     "text": [
      "\n",
      "\tRunning logistic regression for WeatherCancelled on every 5 negative data points\n",
      "\tTotal targets: 44559\n",
      "\t% of negative targets 95.89\n",
      "         params  mean_test_score\n",
      "0   {'C': 0.01}         0.776084\n",
      "1    {'C': 0.1}         0.779645\n",
      "2    {'C': 1.0}         0.780571\n",
      "3   {'C': 10.0}         0.780417\n",
      "4  {'C': 100.0}         0.780307\n"
     ]
    }
   ],
   "source": [
    "clf = param_sweep(flight_data, LOG_REG, CANCELLED, 5, params=C)\n",
    "clf_results = pd.DataFrame(clf.cv_results_)\n",
    "print(clf_results[['params','mean_test_score']])"
   ]
  },
  {
   "cell_type": "code",
   "execution_count": 12,
   "metadata": {},
   "outputs": [
    {
     "name": "stdout",
     "output_type": "stream",
     "text": [
      "\n",
      "\tRunning logistic regression for WeatherDelayed on every 5 negative data points\n",
      "\tTotal targets: 45238\n",
      "\t% of negative targets 94.08\n",
      "         params  mean_test_score\n",
      "0   {'C': 0.01}         0.828649\n",
      "1    {'C': 0.1}         0.830626\n",
      "2    {'C': 1.0}         0.830934\n",
      "3   {'C': 10.0}         0.830911\n",
      "4  {'C': 100.0}         0.830906\n"
     ]
    }
   ],
   "source": [
    "clf = param_sweep(flight_data, LOG_REG, DELAYED, 5, params=C)\n",
    "clf_results = pd.DataFrame(clf.cv_results_)\n",
    "print(clf_results[['params','mean_test_score']])"
   ]
  },
  {
   "cell_type": "markdown",
   "metadata": {},
   "source": [
    "Higher C's seem to yield slightly better results, but the effect is minimal.\n",
    "Let's set C=10 and rerun on the full set."
   ]
  },
  {
   "cell_type": "code",
   "execution_count": 13,
   "metadata": {},
   "outputs": [
    {
     "name": "stdout",
     "output_type": "stream",
     "text": [
      "\n",
      "\tRunning logistic regression for WeatherCancelled on every 1 negative data points\n",
      "\tTotal targets: 215470\n",
      "\t% of negative targets 99.15\n",
      "      params  mean_test_score\n",
      "0  {'C': 10}         0.780354\n"
     ]
    }
   ],
   "source": [
    "clf = param_sweep(flight_data, LOG_REG, CANCELLED, 1, params=[10])\n",
    "clf_results = pd.DataFrame(clf.cv_results_)\n",
    "print(clf_results[['params','mean_test_score']])"
   ]
  },
  {
   "cell_type": "code",
   "execution_count": 14,
   "metadata": {},
   "outputs": [
    {
     "name": "stdout",
     "output_type": "stream",
     "text": [
      "\n",
      "\tRunning logistic regression for WeatherDelayed on every 1 negative data points\n",
      "\tTotal targets: 215470\n",
      "\t% of negative targets 98.76\n",
      "      params  mean_test_score\n",
      "0  {'C': 10}         0.831063\n",
      "--- 47.59 seconds ---\n"
     ]
    }
   ],
   "source": [
    "clf = param_sweep(flight_data, LOG_REG, DELAYED, 1, params=[10])\n",
    "clf_results = pd.DataFrame(clf.cv_results_)\n",
    "print(clf_results[['params','mean_test_score']])\n",
    "print(logistic_stopwatch.getElapsedTime())"
   ]
  },
  {
   "cell_type": "markdown",
   "metadata": {},
   "source": [
    "With 5-fold cross-validation on the full dataset, a logistic regression with\n",
    "C=10 gives a mean test roc-auc score of 0.780354 for cancellations and 0.831063\n",
    "for delays."
   ]
  },
  {
   "cell_type": "markdown",
   "metadata": {},
   "source": [
    "## Random Forests\n",
    "\n",
    "Decision trees are simple and easy to train but prone to overfitting. Random\n",
    "forests can help with this problem.\n",
    "\n",
    "As before, we will downsample the \"negative\" flights to start. In fact we will\n",
    "do this with all classifiers."
   ]
  },
  {
   "cell_type": "code",
   "execution_count": 15,
   "metadata": {},
   "outputs": [
    {
     "name": "stdout",
     "output_type": "stream",
     "text": [
      "\n",
      "Random Forests\n"
     ]
    }
   ],
   "source": [
    "forest_stopwatch = TimeTracker.TimeTracker()\n",
    "print('\\nRandom Forests')\n",
    "n_estimators = [50, 100, 150]\n",
    "max_depth = np.arange(2, 6)\n",
    "max_features = ['auto', 'log2']"
   ]
  },
  {
   "cell_type": "code",
   "execution_count": 16,
   "metadata": {},
   "outputs": [
    {
     "name": "stdout",
     "output_type": "stream",
     "text": [
      "\n",
      "\tRunning Random forest for WeatherCancelled on every 5 negative data points\n",
      "\tTotal targets: 44559\n",
      "\t% of negative targets 95.89\n",
      "                                               params  mean_test_score\n",
      "0   {'max_depth': 2, 'max_features': 'auto', 'n_es...         0.764843\n",
      "1   {'max_depth': 2, 'max_features': 'auto', 'n_es...         0.765313\n",
      "2   {'max_depth': 2, 'max_features': 'auto', 'n_es...         0.765515\n",
      "3   {'max_depth': 2, 'max_features': 'log2', 'n_es...         0.764843\n",
      "4   {'max_depth': 2, 'max_features': 'log2', 'n_es...         0.765313\n",
      "5   {'max_depth': 2, 'max_features': 'log2', 'n_es...         0.765515\n",
      "6   {'max_depth': 3, 'max_features': 'auto', 'n_es...         0.766831\n",
      "7   {'max_depth': 3, 'max_features': 'auto', 'n_es...         0.764050\n",
      "8   {'max_depth': 3, 'max_features': 'auto', 'n_es...         0.764999\n",
      "9   {'max_depth': 3, 'max_features': 'log2', 'n_es...         0.766831\n",
      "10  {'max_depth': 3, 'max_features': 'log2', 'n_es...         0.764050\n",
      "11  {'max_depth': 3, 'max_features': 'log2', 'n_es...         0.764999\n",
      "12  {'max_depth': 4, 'max_features': 'auto', 'n_es...         0.768943\n",
      "13  {'max_depth': 4, 'max_features': 'auto', 'n_es...         0.765564\n",
      "14  {'max_depth': 4, 'max_features': 'auto', 'n_es...         0.767320\n",
      "15  {'max_depth': 4, 'max_features': 'log2', 'n_es...         0.768943\n",
      "16  {'max_depth': 4, 'max_features': 'log2', 'n_es...         0.765564\n",
      "17  {'max_depth': 4, 'max_features': 'log2', 'n_es...         0.767320\n",
      "18  {'max_depth': 5, 'max_features': 'auto', 'n_es...         0.773334\n",
      "19  {'max_depth': 5, 'max_features': 'auto', 'n_es...         0.768910\n",
      "20  {'max_depth': 5, 'max_features': 'auto', 'n_es...         0.768757\n",
      "21  {'max_depth': 5, 'max_features': 'log2', 'n_es...         0.773334\n",
      "22  {'max_depth': 5, 'max_features': 'log2', 'n_es...         0.768910\n",
      "23  {'max_depth': 5, 'max_features': 'log2', 'n_es...         0.768757\n"
     ]
    }
   ],
   "source": [
    "clf = param_sweep(flight_data, FOREST, CANCELLED, 5,\n",
    "                  params=[n_estimators, max_depth, max_features])\n",
    "clf_results = pd.DataFrame(clf.cv_results_)\n",
    "print(clf_results[['params','mean_test_score']])"
   ]
  },
  {
   "cell_type": "code",
   "execution_count": 17,
   "metadata": {},
   "outputs": [
    {
     "name": "stdout",
     "output_type": "stream",
     "text": [
      "\n",
      "\tRunning Random forest for WeatherDelayed on every 5 negative data points\n",
      "\tTotal targets: 45238\n",
      "\t% of negative targets 94.08\n",
      "                                               params  mean_test_score\n",
      "0   {'max_depth': 2, 'max_features': 'auto', 'n_es...         0.826287\n",
      "1   {'max_depth': 2, 'max_features': 'auto', 'n_es...         0.824969\n",
      "2   {'max_depth': 2, 'max_features': 'auto', 'n_es...         0.827293\n",
      "3   {'max_depth': 2, 'max_features': 'log2', 'n_es...         0.826287\n",
      "4   {'max_depth': 2, 'max_features': 'log2', 'n_es...         0.824969\n",
      "5   {'max_depth': 2, 'max_features': 'log2', 'n_es...         0.827293\n",
      "6   {'max_depth': 3, 'max_features': 'auto', 'n_es...         0.827726\n",
      "7   {'max_depth': 3, 'max_features': 'auto', 'n_es...         0.829507\n",
      "8   {'max_depth': 3, 'max_features': 'auto', 'n_es...         0.828445\n",
      "9   {'max_depth': 3, 'max_features': 'log2', 'n_es...         0.827726\n",
      "10  {'max_depth': 3, 'max_features': 'log2', 'n_es...         0.829507\n",
      "11  {'max_depth': 3, 'max_features': 'log2', 'n_es...         0.828445\n",
      "12  {'max_depth': 4, 'max_features': 'auto', 'n_es...         0.828487\n",
      "13  {'max_depth': 4, 'max_features': 'auto', 'n_es...         0.827818\n",
      "14  {'max_depth': 4, 'max_features': 'auto', 'n_es...         0.829397\n",
      "15  {'max_depth': 4, 'max_features': 'log2', 'n_es...         0.828487\n",
      "16  {'max_depth': 4, 'max_features': 'log2', 'n_es...         0.827818\n",
      "17  {'max_depth': 4, 'max_features': 'log2', 'n_es...         0.829397\n",
      "18  {'max_depth': 5, 'max_features': 'auto', 'n_es...         0.829201\n",
      "19  {'max_depth': 5, 'max_features': 'auto', 'n_es...         0.829375\n",
      "20  {'max_depth': 5, 'max_features': 'auto', 'n_es...         0.829439\n",
      "21  {'max_depth': 5, 'max_features': 'log2', 'n_es...         0.829201\n",
      "22  {'max_depth': 5, 'max_features': 'log2', 'n_es...         0.829375\n",
      "23  {'max_depth': 5, 'max_features': 'log2', 'n_es...         0.829439\n"
     ]
    }
   ],
   "source": [
    "clf = param_sweep(flight_data, FOREST, DELAYED, 5,\n",
    "                  params=[n_estimators, max_depth, max_features])\n",
    "clf_results = pd.DataFrame(clf.cv_results_)\n",
    "print(clf_results[['params','mean_test_score']])"
   ]
  },
  {
   "cell_type": "markdown",
   "metadata": {},
   "source": [
    "Extending the tree beyond two levels seems to have a negligible effect, as\n",
    "does whether to use more than 50 trees or the number of parameters to use.\n",
    "Let's construct a random forest over the full dataset with trees of max depth\n",
    "2 and 3, using 50 trees and the default setting of the number of parameters."
   ]
  },
  {
   "cell_type": "code",
   "execution_count": 18,
   "metadata": {},
   "outputs": [
    {
     "name": "stdout",
     "output_type": "stream",
     "text": [
      "\n",
      "\tRunning Random forest for WeatherCancelled on every 1 negative data points\n",
      "\tTotal targets: 215470\n",
      "\t% of negative targets 99.15\n",
      "                                              params  mean_test_score\n",
      "0  {'max_depth': 2, 'max_features': 'auto', 'n_es...         0.763532\n",
      "1  {'max_depth': 3, 'max_features': 'auto', 'n_es...         0.767325\n"
     ]
    }
   ],
   "source": [
    "clf = param_sweep(flight_data, FOREST, CANCELLED, 1, params=[[50], [2, 3], ['auto']])\n",
    "clf_results = pd.DataFrame(clf.cv_results_)\n",
    "print(clf_results[['params','mean_test_score']])"
   ]
  },
  {
   "cell_type": "code",
   "execution_count": 19,
   "metadata": {},
   "outputs": [
    {
     "name": "stdout",
     "output_type": "stream",
     "text": [
      "\n",
      "\tRunning Random forest for WeatherDelayed on every 1 negative data points\n",
      "\tTotal targets: 215470\n",
      "\t% of negative targets 98.76\n",
      "                                              params  mean_test_score\n",
      "0  {'max_depth': 2, 'max_features': 'auto', 'n_es...         0.827592\n",
      "1  {'max_depth': 3, 'max_features': 'auto', 'n_es...         0.828745\n",
      "--- 3.07 minutes ---\n"
     ]
    }
   ],
   "source": [
    "clf = param_sweep(flight_data, FOREST, DELAYED, 1, params=[[50], [2, 3], ['auto']])\n",
    "clf_results = pd.DataFrame(clf.cv_results_)\n",
    "print(clf_results[['params','mean_test_score']])\n",
    "print(forest_stopwatch.getElapsedTime())"
   ]
  },
  {
   "cell_type": "markdown",
   "metadata": {},
   "source": [
    "With 5-fold cross-validation on the full dataset, a random forest with a\n",
    "max depth of 2 gives a mean test roc-auc score of 0.763532 for cancellations\n",
    "and 0.827592 for delays. These numbers are slightly worse than those of the\n",
    "logistic regression."
   ]
  },
  {
   "cell_type": "markdown",
   "metadata": {},
   "source": [
    "## Support Vector Classifier\n",
    "\n",
    "The SVC is very slow with the full data, so we will resample it. Since the\n",
    "data have already been scrambled by row, we can pick every nth row. We should\n",
    "get as many rows as we can that have cancelled/delayed flights."
   ]
  },
  {
   "cell_type": "code",
   "execution_count": 20,
   "metadata": {},
   "outputs": [
    {
     "name": "stdout",
     "output_type": "stream",
     "text": [
      "\n",
      "Support Vector Classifiers\n"
     ]
    }
   ],
   "source": [
    "svc_stopwatch = TimeTracker.TimeTracker()\n",
    "print('\\nSupport Vector Classifiers')\n",
    "C = np.power(10, np.arange(-2,3, dtype=float))"
   ]
  },
  {
   "cell_type": "code",
   "execution_count": 21,
   "metadata": {},
   "outputs": [
    {
     "name": "stdout",
     "output_type": "stream",
     "text": [
      "\n",
      "\tRunning SVC for WeatherCancelled on every 100 negative data points\n",
      "\tTotal targets: 3968\n",
      "\t% of negative targets 53.86\n",
      "                           params  mean_test_score\n",
      "0   {'C': 0.01, 'gamma': 'scale'}         0.749051\n",
      "1    {'C': 0.01, 'gamma': 'auto'}         0.749108\n",
      "2    {'C': 0.1, 'gamma': 'scale'}         0.751204\n",
      "3     {'C': 0.1, 'gamma': 'auto'}         0.752221\n",
      "4    {'C': 1.0, 'gamma': 'scale'}         0.766669\n",
      "5     {'C': 1.0, 'gamma': 'auto'}         0.764055\n",
      "6   {'C': 10.0, 'gamma': 'scale'}         0.764032\n",
      "7    {'C': 10.0, 'gamma': 'auto'}         0.764089\n",
      "8  {'C': 100.0, 'gamma': 'scale'}         0.760683\n",
      "9   {'C': 100.0, 'gamma': 'auto'}         0.761253\n"
     ]
    }
   ],
   "source": [
    "clf = param_sweep(\n",
    "    flight_data, SVC_str, CANCELLED, 100, params=[C, ['scale', 'auto']])\n",
    "clf_results = pd.DataFrame(clf.cv_results_)\n",
    "print(clf_results[['params','mean_test_score']])"
   ]
  },
  {
   "cell_type": "code",
   "execution_count": 22,
   "metadata": {},
   "outputs": [
    {
     "name": "stdout",
     "output_type": "stream",
     "text": [
      "\n",
      "\tRunning SVC for WeatherDelayed on every 100 negative data points\n",
      "\tTotal targets: 4807\n",
      "\t% of negative targets 44.27\n",
      "                           params  mean_test_score\n",
      "0   {'C': 0.01, 'gamma': 'scale'}         0.803285\n",
      "1    {'C': 0.01, 'gamma': 'auto'}         0.806161\n",
      "2    {'C': 0.1, 'gamma': 'scale'}         0.812295\n",
      "3     {'C': 0.1, 'gamma': 'auto'}         0.810096\n",
      "4    {'C': 1.0, 'gamma': 'scale'}         0.798263\n",
      "5     {'C': 1.0, 'gamma': 'auto'}         0.784588\n",
      "6   {'C': 10.0, 'gamma': 'scale'}         0.783771\n",
      "7    {'C': 10.0, 'gamma': 'auto'}         0.792701\n",
      "8  {'C': 100.0, 'gamma': 'scale'}         0.800781\n",
      "9   {'C': 100.0, 'gamma': 'auto'}         0.782437\n"
     ]
    }
   ],
   "source": [
    "clf = param_sweep(\n",
    "    flight_data, SVC_str, DELAYED, 100, params=[C, ['scale', 'auto']])\n",
    "clf_results = pd.DataFrame(clf.cv_results_)\n",
    "print(clf_results[['params','mean_test_score']])"
   ]
  },
  {
   "cell_type": "markdown",
   "metadata": {},
   "source": [
    "All of these do pretty well. Let's explore what happens with much larger\n",
    "downsampling of the negative data. Gamma doesn't affect things much, so\n",
    "we will stick with the default of 'scale.'"
   ]
  },
  {
   "cell_type": "code",
   "execution_count": 23,
   "metadata": {},
   "outputs": [
    {
     "name": "stdout",
     "output_type": "stream",
     "text": [
      "\n",
      "\tRunning SVC for WeatherCancelled on every 10 negative data points\n",
      "\tTotal targets: 23195\n",
      "\t% of negative targets 92.11\n",
      "                           params  mean_test_score\n",
      "0   {'C': 0.01, 'gamma': 'scale'}         0.754880\n",
      "1    {'C': 0.1, 'gamma': 'scale'}         0.754797\n",
      "2    {'C': 1.0, 'gamma': 'scale'}         0.759097\n",
      "3   {'C': 10.0, 'gamma': 'scale'}         0.755464\n",
      "4  {'C': 100.0, 'gamma': 'scale'}         0.748667\n"
     ]
    }
   ],
   "source": [
    "clf = param_sweep(flight_data, SVC_str, CANCELLED, 10, params=[C, ['scale']])\n",
    "clf_results = pd.DataFrame(clf.cv_results_)\n",
    "print(clf_results[['params','mean_test_score']])"
   ]
  },
  {
   "cell_type": "code",
   "execution_count": 24,
   "metadata": {},
   "outputs": [
    {
     "name": "stdout",
     "output_type": "stream",
     "text": [
      "\n",
      "\tRunning SVC for WeatherDelayed on every 10 negative data points\n",
      "\tTotal targets: 23959\n",
      "\t% of negative targets 88.82\n",
      "                           params  mean_test_score\n",
      "0   {'C': 0.01, 'gamma': 'scale'}         0.814059\n",
      "1    {'C': 0.1, 'gamma': 'scale'}         0.796126\n",
      "2    {'C': 1.0, 'gamma': 'scale'}         0.791745\n",
      "3   {'C': 10.0, 'gamma': 'scale'}         0.780220\n",
      "4  {'C': 100.0, 'gamma': 'scale'}         0.762042\n"
     ]
    },
    {
     "data": {
      "text/plain": [
       "'With C=0.01 and sampling every 5th flight, the mean test score is 0.753519\\nfor cancellation predictions and 0.801357 for delay predictions.'"
      ]
     },
     "execution_count": 24,
     "metadata": {},
     "output_type": "execute_result"
    }
   ],
   "source": [
    "clf = param_sweep(flight_data, SVC_str, DELAYED, 10, params=[C, ['scale']])\n",
    "clf_results = pd.DataFrame(clf.cv_results_)\n",
    "print(clf_results[['params','mean_test_score']])\n",
    "\n",
    "'''With C=0.01 and sampling every 5th flight, the mean test score is 0.753519\n",
    "for cancellation predictions and 0.801357 for delay predictions.'''"
   ]
  },
  {
   "cell_type": "markdown",
   "metadata": {},
   "source": [
    "At this level, C has a negligible effect on cancellations and a slight\n",
    "effect on delays. Let's run again with C=0.01 on both and 1 in 5 negatives."
   ]
  },
  {
   "cell_type": "code",
   "execution_count": 25,
   "metadata": {},
   "outputs": [
    {
     "name": "stdout",
     "output_type": "stream",
     "text": [
      "\n",
      "\tRunning SVC for WeatherCancelled on every 5 negative data points\n",
      "\tTotal targets: 44559\n",
      "\t% of negative targets 95.89\n",
      "                          params  mean_test_score\n",
      "0  {'C': 0.01, 'gamma': 'scale'}         0.753519\n"
     ]
    }
   ],
   "source": [
    "clf = param_sweep(\n",
    "    flight_data, SVC_str, CANCELLED, 5, params=[[0.01], ['scale']])\n",
    "clf_results = pd.DataFrame(clf.cv_results_)\n",
    "print(clf_results[['params','mean_test_score']])"
   ]
  },
  {
   "cell_type": "code",
   "execution_count": 26,
   "metadata": {},
   "outputs": [
    {
     "name": "stdout",
     "output_type": "stream",
     "text": [
      "\n",
      "\tRunning SVC for WeatherDelayed on every 5 negative data points\n",
      "\tTotal targets: 45238\n",
      "\t% of negative targets 94.08\n",
      "                          params  mean_test_score\n",
      "0  {'C': 0.01, 'gamma': 'scale'}         0.801357\n",
      "--- 13.43 minutes ---\n"
     ]
    }
   ],
   "source": [
    "clf = param_sweep(\n",
    "    flight_data, SVC_str, DELAYED, 5, params=[[0.01], ['scale']])\n",
    "clf_results = pd.DataFrame(clf.cv_results_)\n",
    "print(clf_results[['params','mean_test_score']])\n",
    "print(svc_stopwatch.getElapsedTime())"
   ]
  },
  {
   "cell_type": "markdown",
   "metadata": {},
   "source": [
    "With C=0.01 and sampling every 5th flight, the mean test score is 0.753519\n",
    "for cancellation predictions and 0.801357 for delay predictions. These are\n",
    "slightly worse than the logistic regression and random forest. For the\n",
    "computation time needed, SVC is probably not worth it."
   ]
  },
  {
   "cell_type": "markdown",
   "metadata": {},
   "source": [
    "# ROC Curve\n",
    "\n",
    "All three of these classifiers have very similar mean test scores. Since the\n",
    "SVC is much slower to run with no better results, we eliminate it. Logistic\n",
    "regressions have explicit output parameters, while random forests do not, so\n",
    "we choose the logistic regression with the parameters above."
   ]
  },
  {
   "cell_type": "markdown",
   "metadata": {},
   "source": [
    "### Cancellations"
   ]
  },
  {
   "cell_type": "code",
   "execution_count": 27,
   "metadata": {},
   "outputs": [],
   "source": [
    "y = flight_data[CANCELLED]\n",
    "X = flight_data.iloc[:,2:]\n",
    "X_train, X_test, y_train, y_test = train_test_split(\n",
    "    X, y, test_size=0.5, random_state=1)\n",
    "del(X, y)"
   ]
  },
  {
   "cell_type": "code",
   "execution_count": 28,
   "metadata": {},
   "outputs": [
    {
     "name": "stdout",
     "output_type": "stream",
     "text": [
      "AUC score: 0.778\n"
     ]
    }
   ],
   "source": [
    "clf = LogReg(class_weight='balanced', random_state=1, max_iter=10000)\\\n",
    "    .fit(X_train, y_train)\n",
    "lr_probs = clf.predict_proba(X_test)[:, 1] #only for the positives\n",
    "auc_score = roc_auc_score(y_test, lr_probs)\n",
    "print('AUC score: %.3f' % auc_score)\n",
    "lr_fpr, lr_tpr, _ = roc_curve(y_test, lr_probs)"
   ]
  },
  {
   "cell_type": "code",
   "execution_count": 29,
   "metadata": {},
   "outputs": [
    {
     "data": {
      "image/png": "[encoded data removed]",
      "text/plain": [
       "<Figure size 576x432 with 1 Axes>"
      ]
     },
     "metadata": {
      "needs_background": "light"
     },
     "output_type": "display_data"
    }
   ],
   "source": [
    "labelSize = 14\n",
    "tickSize = 10\n",
    "fig, ax = plt.subplots(figsize=(8,6))\n",
    "ax.plot([0,1], [0,1], c='k', ls='--')\n",
    "ax.plot(lr_fpr, lr_tpr, c='r', marker='.', markersize=10, label='Cancellations')\n",
    "ax.legend(loc='lower right', fontsize = labelSize)\n",
    "tickRange = np.round(np.linspace(0, 1, 6), 2) #fixes some weird imprecision\n",
    "ax.set_xlabel('False Positive Rate', fontsize=labelSize)\n",
    "ax.set_ylabel('True Positive Rate', fontsize=labelSize)\n",
    "ax.set_xticks(tickRange)\n",
    "ax.set_yticks(tickRange)\n",
    "ax.set_xticklabels(tickRange, fontsize=tickSize)\n",
    "ax.set_yticklabels(tickRange, fontsize=tickSize)\n",
    "plt.show()"
   ]
  },
  {
   "cell_type": "markdown",
   "metadata": {},
   "source": [
    "### Delays"
   ]
  },
  {
   "cell_type": "code",
   "execution_count": 30,
   "metadata": {},
   "outputs": [],
   "source": [
    "y = flight_data[DELAYED]\n",
    "X = flight_data.iloc[:,2:]\n",
    "X_train, X_test, y_train, y_test = train_test_split(\n",
    "    X, y, test_size=0.5, random_state=1)\n",
    "del(X, y)"
   ]
  },
  {
   "cell_type": "code",
   "execution_count": 31,
   "metadata": {},
   "outputs": [
    {
     "name": "stdout",
     "output_type": "stream",
     "text": [
      "AUC score: 0.831\n"
     ]
    }
   ],
   "source": [
    "clf = LogReg(class_weight='balanced', random_state=1, max_iter=10000)\\\n",
    "    .fit(X_train, y_train)\n",
    "lr_probs = clf.predict_proba(X_test)[:, 1] #only for the positives\n",
    "auc_score = roc_auc_score(y_test, lr_probs)\n",
    "print('AUC score: %.3f' % auc_score)\n",
    "lr_fpr, lr_tpr, _ = roc_curve(y_test, lr_probs)"
   ]
  },
  {
   "cell_type": "code",
   "execution_count": 32,
   "metadata": {},
   "outputs": [
    {
     "data": {
      "image/png": "[encoded data removed]",
      "text/plain": [
       "<Figure size 576x432 with 1 Axes>"
      ]
     },
     "metadata": {
      "needs_background": "light"
     },
     "output_type": "display_data"
    }
   ],
   "source": [
    "fig, ax = plt.subplots(figsize=(8,6))\n",
    "ax.plot([0,1], [0,1], c='k', ls='--')\n",
    "ax.plot(lr_fpr, lr_tpr, c='orange', marker='.', markersize=10, label='Delays')\n",
    "ax.legend(loc='lower right', fontsize = labelSize)\n",
    "tickRange = np.round(np.linspace(0, 1, 6), 2) #fixes some weird imprecision\n",
    "ax.set_xlabel('False Positive Rate', fontsize=labelSize)\n",
    "ax.set_ylabel('True Positive Rate', fontsize=labelSize)\n",
    "ax.set_xticks(tickRange)\n",
    "ax.set_yticks(tickRange)\n",
    "ax.set_xticklabels(tickRange, fontsize=tickSize)\n",
    "ax.set_yticklabels(tickRange, fontsize=tickSize)\n",
    "plt.show()"
   ]
  },
  {
   "cell_type": "markdown",
   "metadata": {},
   "source": [
    "# Discussion\n",
    "\n",
    "In this model, false positives are predictions that a flight will be cancelled/\n",
    "delayed, when it actually isn't. If this is what we need to avoid, our models\n",
    "perform very well, especially for cancellations, which has a series of nearly\n",
    "vertical dots on the left side of the ROC curve. However, false negatives are\n",
    "tricker to avoid. This is probably induced by the overwhelming of presence of\n",
    "\"negative\" data: most flights are neither delayed nor cancelled. If we've got\n",
    "to avoid these false negatives or strike a balanced approach, then we will\n",
    "need to set the likelihood threshold very close to negatives, and if any\n",
    "prediction is above this small likelihood, it should be classified as a\n",
    "positive.\n",
    "\n",
    "Despite the concern about the weather data, this model seems to hold up rather\n",
    "well. We got a cancellation AUC of 0.778 and a delay AUC of 0.831. More\n",
    "reliable weather data would probably raise these numbers even higher."
   ]
  },
  {
   "cell_type": "code",
   "execution_count": 34,
   "metadata": {},
   "outputs": [
    {
     "name": "stdout",
     "output_type": "stream",
     "text": [
      "Total runtime: --- 0 ms ---\n"
     ]
    }
   ],
   "source": [
    "print(\"Total runtime:\", stopwatch.getElapsedTime())"
   ]
  },
  {
   "cell_type": "code",
   "execution_count": null,
   "metadata": {},
   "outputs": [],
   "source": []
  }
 ],
 "metadata": {
  "kernelspec": {
   "display_name": "Python 3",
   "language": "python",
   "name": "python3"
  },
  "language_info": {
   "codemirror_mode": {
    "name": "ipython",
    "version": 3
   },
   "file_extension": ".py",
   "mimetype": "text/x-python",
   "name": "python",
   "nbconvert_exporter": "python",
   "pygments_lexer": "ipython3",
   "version": "3.7.6"
  }
 },
 "nbformat": 4,
 "nbformat_minor": 4
}
