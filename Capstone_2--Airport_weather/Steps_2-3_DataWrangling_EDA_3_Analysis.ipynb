{
 "cells": [
  {
   "cell_type": "code",
   "execution_count": 1,
   "metadata": {},
   "outputs": [],
   "source": [
    "import pandas as pd\n",
    "import numpy as np\n",
    "import statsmodels.api as sm\n",
    "import os\n",
    "import sys\n",
    "sys.path.append('D:/Springboard_DataSci/Assignments/Lib')\n",
    "import TimeTracker"
   ]
  },
  {
   "cell_type": "markdown",
   "metadata": {},
   "source": [
    "Before we begin formal training of the data, let's look at each weather code\n",
    "one at a time and attempt to sift significant from insignificant codes. It is possible\n",
    "that statistical significance may not kick in until the higher value of some codes."
   ]
  },
  {
   "cell_type": "code",
   "execution_count": 2,
   "metadata": {},
   "outputs": [],
   "source": [
    "stopwatch = TimeTracker.TimeTracker()\n",
    "WORKING_DIR = r'D:\\Springboard_DataSci\\Assignments\\Capstone_2--Airport_weather'\n",
    "os.chdir(WORKING_DIR + r'\\data')"
   ]
  },
  {
   "cell_type": "code",
   "execution_count": 3,
   "metadata": {},
   "outputs": [],
   "source": [
    "# Get the data.\n",
    "departure_events = pd.read_csv('departure_events.csv')\n",
    "EFFECTS = ['FracCancelled','FracDelayed']\n",
    "CODES = ['Cold','Fog','Hail','Wind','Rain','Sleet','Snow']\n",
    "FOGIS2 = 'FogIs2'"
   ]
  },
  {
   "cell_type": "code",
   "execution_count": 4,
   "metadata": {},
   "outputs": [],
   "source": [
    "'''Linear regression with significance testing.'''\n",
    "def linreg(X, y, print_stats=True):  \n",
    "    X2 = sm.add_constant(X)\n",
    "    est = sm.OLS(y, X2)\n",
    "    est2 = est.fit()\n",
    "    if print_stats:\n",
    "        print(est2.summary())\n",
    "    return est2.pvalues[1:], est2.rsquared"
   ]
  },
  {
   "cell_type": "code",
   "execution_count": 5,
   "metadata": {},
   "outputs": [],
   "source": [
    "'''Extracts just the p-values and R^2's from a multivariate linear regression.\n",
    "\n",
    "summary_stats: List of lists of the p-value, R^2, and weather code.'''\n",
    "def pvalue_and_R2(summary_stats, codes=CODES):\n",
    "    df = pd.DataFrame(summary_stats, index=[_ for _ in codes for i in range(2)],\n",
    "                      columns=['pValue', 'R^2', 'Effect'])\n",
    "    return df[df.Effect == EFFECTS[0]].loc[:,:'R^2'],\\\n",
    "        df[df.Effect == EFFECTS[1]].loc[:,:'R^2'] #Cancellations then delays"
   ]
  },
  {
   "cell_type": "code",
   "execution_count": 6,
   "metadata": {},
   "outputs": [
    {
     "name": "stdout",
     "output_type": "stream",
     "text": [
      "\n",
      "Cancellation summary stats:\n",
      "              pValue       R^2\n",
      "Cold    7.144773e-04  0.000334\n",
      "Fog     5.483213e-01  0.000011\n",
      "Hail    1.332955e-11  0.001334\n",
      "Wind   5.663473e-111  0.014507\n",
      "Rain    1.796061e-09  0.001197\n",
      "Sleet  1.206266e-190  0.024982\n",
      "Snow    1.461477e-80  0.010669\n",
      "\n",
      "Delay summary stats:\n",
      "              pValue       R^2\n",
      "Cold    1.579043e-02  0.000170\n",
      "Fog     2.026928e-01  0.000050\n",
      "Hail    1.184639e-19  0.002397\n",
      "Wind    8.345111e-94  0.012237\n",
      "Rain   4.308106e-127  0.018852\n",
      "Sleet   1.015732e-41  0.005326\n",
      "Snow    7.386913e-39  0.005034\n"
     ]
    }
   ],
   "source": [
    "# Evaluate significance for all codes between values of 0 and 1.\n",
    "flights_affected = departure_events[EFFECTS]\n",
    "summary_stats = []\n",
    "for weather_code in CODES:\n",
    "    x = departure_events[weather_code]\n",
    "    indeces = (x <= 1)\n",
    "    x = x[indeces]\n",
    "    for effect in EFFECTS:\n",
    "        y = departure_events[effect][indeces]\n",
    "        # print('\\nLinear regression analysis for', weather_code, 'of', effect+':')\n",
    "        pvalue, R2 = linreg(x, y, print_stats=False)\n",
    "        summary_stats.append([pvalue[0], R2, effect])\n",
    "cancellation_stats, delay_stats = pvalue_and_R2(summary_stats)\n",
    "print('\\nCancellation summary stats:\\n' + str(cancellation_stats))\n",
    "print('\\nDelay summary stats:\\n' + str(delay_stats))"
   ]
  },
  {
   "cell_type": "markdown",
   "metadata": {},
   "source": [
    "By inspection of the R^2 values, we can see the following:<br>\n",
    "Cold: Can be discarded entirely. The R^2 is too small, and there is no Cold>1 code.<br>\n",
    "Fog: The change between of 0 and 1 is inconsequential. We might be able to discard it depending\n",
    "on what happens with the 2's.<br>\n",
    "Hail, wind, rain, sleet, and snow all have small R^2 but miniscule p-values, so we will\n",
    "leave them in. Remember that in the case of rain and snow, we have only compared 0's and 1's\n",
    "so far. Judging by the box plots, we expect more significant results when the 2's and 3's are\n",
    "factored in.\n",
    "\n",
    "Let's see if we can omit fog entirely."
   ]
  },
  {
   "cell_type": "code",
   "execution_count": 7,
   "metadata": {},
   "outputs": [
    {
     "name": "stdout",
     "output_type": "stream",
     "text": [
      "\n",
      "Cancellation summary stats for FogIs2:\n",
      "               pValue       R^2\n",
      "FogIs2  1.111953e-133  0.017503\n",
      "\n",
      "Delay summary stats for FogIs2:\n",
      "               pValue       R^2\n",
      "FogIs2  2.752392e-167  0.021922\n",
      "\n"
     ]
    }
   ],
   "source": [
    "departure_events[FOGIS2] = (departure_events.Fog == 2).astype(int)\n",
    "summary_stats = []\n",
    "for effect in EFFECTS:\n",
    "    pvalue, R2 = linreg(X=departure_events[FOGIS2], y=departure_events[effect], print_stats=False)\n",
    "    summary_stats.append([pvalue[0], R2, effect])\n",
    "cancellation_stats, delay_stats = pvalue_and_R2(summary_stats, codes=[FOGIS2])\n",
    "print('\\nCancellation summary stats for ' + FOGIS2 + ':\\n' + str(cancellation_stats))\n",
    "print('\\nDelay summary stats for ' + FOGIS2 + ':\\n' + str(delay_stats) + '\\n')"
   ]
  },
  {
   "cell_type": "markdown",
   "metadata": {},
   "source": [
    "Now we have statistical significance. This means that both for cancellations and delays,\n",
    "there is no significant effect between fog's 0's and 1's, but there is between them and 2's.\n",
    "\n",
    "Let's put all remaining codes together and do one combined linear regression. We'll get rid of \n",
    "Cold, the old Fog code, and some other unneeded columns. FogIs2 remains."
   ]
  },
  {
   "cell_type": "code",
   "execution_count": 8,
   "metadata": {},
   "outputs": [
    {
     "name": "stdout",
     "output_type": "stream",
     "text": [
      "Index(['Unnamed: 0', 'ORIGIN', 'DepartureDate', 'ArrivDelay', 'DepartDelay',\n",
      "       'Flights', 'WeatherCancelled', 'WeatherDelayed', 'Cold', 'Fog', 'Hail',\n",
      "       'Wind', 'Rain', 'Sleet', 'Snow', 'FracCancelled', 'FracDelayed',\n",
      "       'Month', 'Season', 'Region', 'FogIs2'],\n",
      "      dtype='object')\n",
      "\n",
      "Linear regression analysis on all remaining variables on FracCancelled:\n",
      "                            OLS Regression Results                            \n",
      "==============================================================================\n",
      "Dep. Variable:          FracCancelled   R-squared:                       0.140\n",
      "Model:                            OLS   Adj. R-squared:                  0.140\n",
      "Method:                 Least Squares   F-statistic:                     931.2\n",
      "Date:                Wed, 29 Jul 2020   Prob (F-statistic):               0.00\n",
      "Time:                        13:05:03   Log-Likelihood:                 64585.\n",
      "No. Observations:               34288   AIC:                        -1.292e+05\n",
      "Df Residuals:                   34281   BIC:                        -1.291e+05\n",
      "Df Model:                           6                                         \n",
      "Covariance Type:            nonrobust                                         \n",
      "==============================================================================\n",
      "                 coef    std err          t      P>|t|      [0.025      0.975]\n",
      "------------------------------------------------------------------------------\n",
      "const          0.0022      0.000      9.068      0.000       0.002       0.003\n",
      "Hail           0.0207      0.006      3.712      0.000       0.010       0.032\n",
      "Wind           0.0594      0.003     20.906      0.000       0.054       0.065\n",
      "Rain           0.0040      0.000     16.266      0.000       0.004       0.005\n",
      "Sleet          0.0658      0.004     17.146      0.000       0.058       0.073\n",
      "Snow           0.0324      0.001     56.235      0.000       0.031       0.034\n",
      "FogIs2         0.0097      0.001     11.275      0.000       0.008       0.011\n",
      "==============================================================================\n",
      "Omnibus:                    61252.525   Durbin-Watson:                   1.288\n",
      "Prob(Omnibus):                  0.000   Jarque-Bera (JB):         87021587.912\n",
      "Skew:                          12.989   Prob(JB):                         0.00\n",
      "Kurtosis:                     248.431   Cond. No.                         34.0\n",
      "==============================================================================\n",
      "\n",
      "Warnings:\n",
      "[1] Standard Errors assume that the covariance matrix of the errors is correctly specified.\n",
      "\n",
      "Linear regression analysis on all remaining variables on FracDelayed:\n",
      "                            OLS Regression Results                            \n",
      "==============================================================================\n",
      "Dep. Variable:            FracDelayed   R-squared:                       0.186\n",
      "Model:                            OLS   Adj. R-squared:                  0.186\n",
      "Method:                 Least Squares   F-statistic:                     1305.\n",
      "Date:                Wed, 29 Jul 2020   Prob (F-statistic):               0.00\n",
      "Time:                        13:05:03   Log-Likelihood:                 81087.\n",
      "No. Observations:               34288   AIC:                        -1.622e+05\n",
      "Df Residuals:                   34281   BIC:                        -1.621e+05\n",
      "Df Model:                           6                                         \n",
      "Covariance Type:            nonrobust                                         \n",
      "==============================================================================\n",
      "                 coef    std err          t      P>|t|      [0.025      0.975]\n",
      "------------------------------------------------------------------------------\n",
      "const          0.0005      0.000      3.705      0.000       0.000       0.001\n",
      "Hail           0.0137      0.003      3.975      0.000       0.007       0.020\n",
      "Wind           0.0267      0.002     15.199      0.000       0.023       0.030\n",
      "Rain           0.0105      0.000     68.410      0.000       0.010       0.011\n",
      "Sleet          0.0048      0.002      2.023      0.043       0.000       0.009\n",
      "Snow           0.0146      0.000     40.850      0.000       0.014       0.015\n",
      "FogIs2         0.0068      0.001     12.729      0.000       0.006       0.008\n",
      "==============================================================================\n",
      "Omnibus:                    40259.849   Durbin-Watson:                   1.577\n",
      "Prob(Omnibus):                  0.000   Jarque-Bera (JB):          5650856.393\n",
      "Skew:                           6.189   Prob(JB):                         0.00\n",
      "Kurtosis:                      64.661   Cond. No.                         34.0\n",
      "==============================================================================\n",
      "\n",
      "Warnings:\n",
      "[1] Standard Errors assume that the covariance matrix of the errors is correctly specified.\n"
     ]
    }
   ],
   "source": [
    "print(departure_events.columns)\n",
    "departure_events = departure_events[[\n",
    "    'ORIGIN', 'Region', 'Season', 'Hail', 'Wind', 'Rain', 'Sleet',\n",
    "    'Snow', FOGIS2, 'FracCancelled', 'FracDelayed']]\n",
    "for effect in EFFECTS:\n",
    "    print('\\nLinear regression analysis on all remaining variables on', effect+':')\n",
    "    linreg(X=departure_events.loc[:, 'Hail':FOGIS2], y=departure_events[effect])"
   ]
  },
  {
   "cell_type": "markdown",
   "metadata": {},
   "source": [
    "The R^2's are not very high, but all p-values except for sleet's effect on delays\n",
    "are highly significant. This means that we have probably found variables that are\n",
    "contributing to the delays and cancellations, but the decision to group the flights by day\n",
    "and not by hour may have created a lot of false negatives.\n",
    "\n",
    "Let's see if we can get some help from introducing the squares of variables whose\n",
    "values can exceed 1."
   ]
  },
  {
   "cell_type": "code",
   "execution_count": 9,
   "metadata": {},
   "outputs": [
    {
     "name": "stdout",
     "output_type": "stream",
     "text": [
      "Index(['ORIGIN', 'Region', 'Season', 'Hail', 'Wind', 'Rain', 'Sleet', 'Snow',\n",
      "       'FogIs2', 'FracCancelled', 'FracDelayed', 'RainSquared', 'SnowSquared'],\n",
      "      dtype='object')\n",
      "\n",
      "Linear regression analysis with Rain^2 and Snow^2 on FracCancelled:\n",
      "                            OLS Regression Results                            \n",
      "==============================================================================\n",
      "Dep. Variable:          FracCancelled   R-squared:                       0.155\n",
      "Model:                            OLS   Adj. R-squared:                  0.155\n",
      "Method:                 Least Squares   F-statistic:                     786.4\n",
      "Date:                Wed, 29 Jul 2020   Prob (F-statistic):               0.00\n",
      "Time:                        13:05:03   Log-Likelihood:                 64885.\n",
      "No. Observations:               34288   AIC:                        -1.298e+05\n",
      "Df Residuals:                   34279   BIC:                        -1.297e+05\n",
      "Df Model:                           8                                         \n",
      "Covariance Type:            nonrobust                                         \n",
      "===============================================================================\n",
      "                  coef    std err          t      P>|t|      [0.025      0.975]\n",
      "-------------------------------------------------------------------------------\n",
      "const           0.0034      0.000     13.758      0.000       0.003       0.004\n",
      "Hail            0.0181      0.006      3.283      0.001       0.007       0.029\n",
      "Wind            0.0599      0.003     21.265      0.000       0.054       0.065\n",
      "Rain           -0.0019      0.001     -2.772      0.006      -0.003      -0.001\n",
      "RainSquared     0.0024      0.000      8.991      0.000       0.002       0.003\n",
      "Sleet           0.0620      0.004     16.257      0.000       0.055       0.069\n",
      "Snow           -0.0013      0.002     -0.844      0.399      -0.004       0.002\n",
      "SnowSquared     0.0156      0.001     23.010      0.000       0.014       0.017\n",
      "FogIs2          0.0085      0.001      9.969      0.000       0.007       0.010\n",
      "==============================================================================\n",
      "Omnibus:                    60627.280   Durbin-Watson:                   1.286\n",
      "Prob(Omnibus):                  0.000   Jarque-Bera (JB):         83991608.972\n",
      "Skew:                          12.703   Prob(JB):                         0.00\n",
      "Kurtosis:                     244.132   Cond. No.                         68.7\n",
      "==============================================================================\n",
      "\n",
      "Warnings:\n",
      "[1] Standard Errors assume that the covariance matrix of the errors is correctly specified.\n",
      "\n",
      "Linear regression analysis with Rain^2 and Snow^2 on FracDelayed:\n",
      "                            OLS Regression Results                            \n",
      "==============================================================================\n",
      "Dep. Variable:            FracDelayed   R-squared:                       0.212\n",
      "Model:                            OLS   Adj. R-squared:                  0.212\n",
      "Method:                 Least Squares   F-statistic:                     1155.\n",
      "Date:                Wed, 29 Jul 2020   Prob (F-statistic):               0.00\n",
      "Time:                        13:05:03   Log-Likelihood:                 81652.\n",
      "No. Observations:               34288   AIC:                        -1.633e+05\n",
      "Df Residuals:                   34279   BIC:                        -1.632e+05\n",
      "Df Model:                           8                                         \n",
      "Covariance Type:            nonrobust                                         \n",
      "===============================================================================\n",
      "                  coef    std err          t      P>|t|      [0.025      0.975]\n",
      "-------------------------------------------------------------------------------\n",
      "const           0.0020      0.000     13.430      0.000       0.002       0.002\n",
      "Hail            0.0114      0.003      3.379      0.001       0.005       0.018\n",
      "Wind            0.0253      0.002     14.636      0.000       0.022       0.029\n",
      "Rain           -0.0024      0.000     -5.790      0.000      -0.003      -0.002\n",
      "RainSquared     0.0055      0.000     33.441      0.000       0.005       0.006\n",
      "Sleet           0.0072      0.002      3.071      0.002       0.003       0.012\n",
      "Snow            0.0097      0.001     10.010      0.000       0.008       0.012\n",
      "SnowSquared     0.0025      0.000      5.938      0.000       0.002       0.003\n",
      "FogIs2          0.0063      0.001     12.057      0.000       0.005       0.007\n",
      "==============================================================================\n",
      "Omnibus:                    40055.673   Durbin-Watson:                   1.584\n",
      "Prob(Omnibus):                  0.000   Jarque-Bera (JB):          5829379.733\n",
      "Skew:                           6.113   Prob(JB):                         0.00\n",
      "Kurtosis:                      65.696   Cond. No.                         68.7\n",
      "==============================================================================\n",
      "\n",
      "Warnings:\n",
      "[1] Standard Errors assume that the covariance matrix of the errors is correctly specified.\n"
     ]
    }
   ],
   "source": [
    "departure_events['RainSquared'] = np.square(departure_events.Rain)\n",
    "departure_events['SnowSquared'] = np.square(departure_events.Snow)\n",
    "print(departure_events.columns)\n",
    "# Reorder the columns to put the fraction cancelled and delayed last.\n",
    "departure_events = departure_events[[\n",
    "    'ORIGIN', 'Region', 'Season', 'Hail', 'Wind', 'Rain', 'RainSquared', 'Sleet', 'Snow', 'SnowSquared',\n",
    "    'FogIs2', 'FracCancelled', 'FracDelayed']]\n",
    "for effect in EFFECTS:\n",
    "    print('\\nLinear regression analysis with Rain^2 and Snow^2 on', effect+':')\n",
    "    linreg(X=departure_events.loc[:, 'Hail':FOGIS2], y=departure_events[effect])"
   ]
  },
  {
   "cell_type": "markdown",
   "metadata": {},
   "source": [
    "Slightly better. Note that Snow (linear) is now insignificant on FracCancelled but not on FracDelayed.\n",
    "\n",
    "Now let's develop a physical map. We would like to illustrate the fraction of delays and cancellations\n",
    "geographically."
   ]
  },
  {
   "cell_type": "code",
   "execution_count": null,
   "metadata": {},
   "outputs": [],
   "source": []
  },
  {
   "cell_type": "code",
   "execution_count": null,
   "metadata": {},
   "outputs": [],
   "source": []
  }
 ],
 "metadata": {
  "kernelspec": {
   "display_name": "Python 3",
   "language": "python",
   "name": "python3"
  },
  "language_info": {
   "codemirror_mode": {
    "name": "ipython",
    "version": 3
   },
   "file_extension": ".py",
   "mimetype": "text/x-python",
   "name": "python",
   "nbconvert_exporter": "python",
   "pygments_lexer": "ipython3",
   "version": "3.7.6"
  }
 },
 "nbformat": 4,
 "nbformat_minor": 4
}
