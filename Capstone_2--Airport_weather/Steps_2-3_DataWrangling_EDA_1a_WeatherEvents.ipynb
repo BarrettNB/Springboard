{
 "cells": [
  {
   "cell_type": "code",
   "execution_count": 1,
   "metadata": {},
   "outputs": [],
   "source": [
    "\"\"\"\n",
    "Exploratory data analysis for the weather-airports project.\n",
    "\n",
    "Part 1a: Weather events\n",
    "\n",
    "Weather data: https://www.kaggle.com/sobhanmoosavi/us-weather-events\n",
    "Flight delays/cancellations: https://www.transtats.bts.gov/DL_SelectFields.asp\n",
    "Busiest airports: https://www.faa.gov/airports/planning_capacity/passenger_allcargo_stats/passenger/media/preliminary-cy18-commercial-service-enplanements.pdf\n",
    "\"\"\"\n",
    "\n",
    "from datetime import timedelta\n",
    "import matplotlib.pyplot as plt\n",
    "import numpy as np\n",
    "import pandas as pd\n",
    "import os\n",
    "import pytz\n",
    "import warnings\n",
    "import sys\n",
    "sys.path.append('D:/Springboard_DataSci/Assignments/Lib')\n",
    "import TimeTracker\n",
    "\n",
    "START_YEAR = 2016\n",
    "END_YEAR = 2019\n",
    "save_data = True#; save_data = False #whether to save the resulting data"
   ]
  },
  {
   "cell_type": "code",
   "execution_count": 2,
   "metadata": {},
   "outputs": [
    {
     "name": "stdout",
     "output_type": "stream",
     "text": [
      "Importing weather events CSV file\n"
     ]
    }
   ],
   "source": [
    "'''Data collection'''\n",
    "stopwatch = TimeTracker.TimeTracker()\n",
    "# Get all the data.\n",
    "path = r'D:\\Springboard_DataSci\\Assignments\\Capstone_2--Airport_weather\\data'\n",
    "os.chdir(path)\n",
    "print('Importing weather events CSV file')\n",
    "weather_events = pd.read_csv('US_WeatherEvents_2016-2019.csv')"
   ]
  },
  {
   "cell_type": "code",
   "execution_count": 3,
   "metadata": {},
   "outputs": [
    {
     "name": "stdout",
     "output_type": "stream",
     "text": [
      "Any duplicates dropped? False\n"
     ]
    }
   ],
   "source": [
    "# Check for any duplicates.\n",
    "nRows = len(weather_events.index)\n",
    "weather_events.drop_duplicates(inplace=True)\n",
    "print('Any duplicates dropped?', len(weather_events.index)!=nRows) #No duplicates."
   ]
  },
  {
   "cell_type": "markdown",
   "metadata": {},
   "source": [
    "A source for the 2019 data was not available at this time, so I assume that the 2018\n",
    "busiest airport rankings are the same. Either way there should not have been a major\n",
    "dropoff in passenger numbers at the US's busiest airports between 2018 and 2019."
   ]
  },
  {
   "cell_type": "code",
   "execution_count": 4,
   "metadata": {},
   "outputs": [],
   "source": [
    "# Get the busiest airports in the US.\n",
    "busiest_US_airports2018 = ['ATL','LAX','ORD','DFW','DEN','JFK','SFO','SEA',\n",
    "                           'LAS','MCO','EWR','CLT','PHX','MIA','IAH','BOS']\n",
    "busiest_US_airports2018 = pd.Series(\n",
    "    busiest_US_airports2018, index=range(1, len(busiest_US_airports2018)+1),\n",
    "    name='Airport')\n",
    "busiest_US_airports2018.index.name = 'Rank'\n",
    "if save_data:\n",
    "    busiest_US_airports2018.to_csv('busiest_US_airports2018.csv') #For Part 1b"
   ]
  },
  {
   "cell_type": "code",
   "execution_count": 5,
   "metadata": {},
   "outputs": [
    {
     "name": "stdout",
     "output_type": "stream",
     "text": [
      "\n",
      "O'Hare weather events:\n",
      "Rain             1903\n",
      "Snow              566\n",
      "Fog               235\n",
      "Precipitation      44\n",
      "Hail               10\n",
      "Storm               8\n",
      "Cold                3\n",
      "Name: Type, dtype: int64\n",
      "Light       1859\n",
      "Moderate     578\n",
      "Severe       142\n",
      "Heavy        136\n",
      "UNK           44\n",
      "Other         10\n",
      "Name: Severity, dtype: int64\n",
      "Latitude, Longitude: [41.9875] [-87.9319]\n",
      "\n",
      "Newark weather events:\n",
      "Rain             1945\n",
      "Snow              297\n",
      "Fog               114\n",
      "Precipitation      33\n",
      "Hail               17\n",
      "Storm              10\n",
      "Cold                1\n",
      "Name: Type, dtype: int64\n",
      "Light       1648\n",
      "Moderate     504\n",
      "Heavy        131\n",
      "Severe        84\n",
      "UNK           33\n",
      "Other         17\n",
      "Name: Severity, dtype: int64\n",
      "Latitude, Longitude: [40.6827] [-74.1693]\n",
      "\n",
      "Phoenix weather events:\n",
      "Rain             401\n",
      "Fog               23\n",
      "Storm              9\n",
      "Cold               6\n",
      "Precipitation      2\n",
      "Hail               1\n",
      "Name: Type, dtype: int64\n",
      "Light       335\n",
      "Moderate     68\n",
      "Severe       23\n",
      "Heavy        13\n",
      "UNK           2\n",
      "Other         1\n",
      "Name: Severity, dtype: int64\n",
      "['US/Mountain']\n",
      "Latitude, Longitude: [33.4277] [-112.0038] \n",
      "\n"
     ]
    }
   ],
   "source": [
    "'''Explore the weather data.'''\n",
    "# Take a couple airports as a sample\n",
    "weather_ORD = weather_events[weather_events.AirportCode=='KORD']\n",
    "print('\\nO\\'Hare weather events:\\n' + str(weather_ORD.Type.value_counts()))\n",
    "print(weather_ORD.Severity.value_counts())\n",
    "print('Latitude, Longitude:', weather_ORD.LocationLat.unique(), weather_ORD.LocationLng.unique())\n",
    "\n",
    "weather_EWR = weather_events[weather_events.AirportCode=='KEWR']\n",
    "print('\\nNewark weather events:\\n' + str(weather_EWR.Type.value_counts()))\n",
    "print(weather_EWR.Severity.value_counts())\n",
    "print('Latitude, Longitude:', weather_EWR.LocationLat.unique(), weather_EWR.LocationLng.unique())\n",
    "\n",
    "# Need to see what's going on with Phoenix's time zones\n",
    "weather_PHX = weather_events[weather_events.AirportCode=='KPHX']\n",
    "print('\\nPhoenix weather events:\\n' + str(weather_PHX.Type.value_counts()))\n",
    "print(weather_PHX.Severity.value_counts()) #Warmer, drier climate\n",
    "print(weather_PHX.TimeZone.unique()) #Just 'US/Mountain'. PHX is standard time year-round.\n",
    "print('Latitude, Longitude:', weather_PHX.LocationLat.unique(), weather_PHX.LocationLng.unique(), '\\n')\n",
    "weather_events.loc[(weather_events.AirportCode=='KPHX'), 'TimeZone'] = 'US/Arizona'"
   ]
  },
  {
   "cell_type": "code",
   "execution_count": 6,
   "metadata": {},
   "outputs": [],
   "source": [
    "# Keep only the airports we need.\n",
    "ICAO_codes = ('K'+busiest_US_airports2018).to_list()\n",
    "weather_events.drop(weather_events.index[np.where(~weather_events.AirportCode.isin(ICAO_codes))[0]], inplace=True)\n",
    "\n",
    "# Recast the 4-lettered ICAO-code index into the 3-lettered IATA codes.\n",
    "weather_events.rename(columns={'AirportCode': 'Airport'}, inplace=True)\n",
    "weather_events.Airport = weather_events.Airport.apply(\n",
    "    lambda prefix: prefix[1:])\n",
    "\n",
    "# Replace the useless index numbers with default indexing.\n",
    "weather_events = weather_events.reset_index(drop=True)"
   ]
  },
  {
   "cell_type": "code",
   "execution_count": 7,
   "metadata": {},
   "outputs": [
    {
     "name": "stdout",
     "output_type": "stream",
     "text": [
      "Index(['EventId', 'Type', 'Severity', 'StartTime(UTC)', 'EndTime(UTC)',\n",
      "       'TimeZone', 'Airport', 'LocationLat', 'LocationLng', 'City', 'County',\n",
      "       'State', 'ZipCode'],\n",
      "      dtype='object')\n",
      "None \n",
      " Index(['TimeZone', 'Airport', 'LocationLat', 'LocationLng', 'City', 'County',\n",
      "       'State'],\n",
      "      dtype='object')\n",
      "                         City State     TimeZone  LocationLat  LocationLng\n",
      "Airport                                                                   \n",
      "JFK                   Jamaica    NY   US/Eastern      40.6392     -73.7639\n",
      "ORD               Bensenville    IL   US/Central      41.9875     -87.9319\n",
      "BOS               East Boston    MA   US/Eastern      42.3606     -71.0097\n",
      "DEN                    Denver    CO  US/Mountain      39.8466    -104.6562\n",
      "MCO                   Orlando    FL   US/Eastern      28.4183     -81.3241\n",
      "DFW                    Dallas    TX   US/Central      32.8974     -97.0220\n",
      "EWR                    Newark    NJ   US/Eastern      40.6827     -74.1693\n",
      "LAS                 Las Vegas    NV   US/Pacific      36.0719    -115.1634\n",
      "LAX               Los Angeles    CA   US/Pacific      33.9382    -118.3865\n",
      "ATL                   Atlanta    GA   US/Eastern      33.6301     -84.4418\n",
      "SEA                   Seattle    WA   US/Pacific      47.4447    -122.3144\n",
      "SFO             San Francisco    CA   US/Pacific      37.6196    -122.3656\n",
      "CLT      Township 2 Berryhill    NC   US/Eastern      35.2225     -80.9543\n",
      "PHX                   Phoenix    AZ   US/Arizona      33.4277    -112.0038\n",
      "MIA                     Miami    FL   US/Eastern      25.7880     -80.3169\n",
      "IAH                   Houston    TX   US/Central      29.9844     -95.3607\n"
     ]
    }
   ],
   "source": [
    "# Get the details on our airports\n",
    "print(weather_events.columns)\n",
    "unique_airports_weather = weather_events.loc[:, 'TimeZone':'State'].drop_duplicates()\n",
    "print(unique_airports_weather.index.name, '\\n', unique_airports_weather.columns)\n",
    "unique_airports_weather = unique_airports_weather.drop('County', axis=1)\n",
    "unique_airports_weather = unique_airports_weather.set_index('Airport')\n",
    "unique_airports_weather = unique_airports_weather[['City','State','TimeZone','LocationLat','LocationLng']]\n",
    "print(unique_airports_weather)"
   ]
  },
  {
   "cell_type": "code",
   "execution_count": 8,
   "metadata": {},
   "outputs": [
    {
     "name": "stdout",
     "output_type": "stream",
     "text": [
      "Remaining columns: Index(['Type', 'Severity', 'StartTime(UTC)', 'EndTime(UTC)', 'TimeZone',\n",
      "       'Airport'],\n",
      "      dtype='object')\n",
      "<class 'str'>\n",
      "<class 'str'>\n"
     ]
    }
   ],
   "source": [
    "# Latitude and longitudes check out. Let's trim extraneous columns.'''\n",
    "weather_events = weather_events.drop(['EventId','LocationLat','LocationLng',\n",
    "                                      'County','ZipCode','City','State'], axis=1)\n",
    "print('Remaining columns:', weather_events.columns)\n",
    "\n",
    "# '''Get the weather data times into datetime format.'''\n",
    "print(type(weather_events.iloc[0].loc['StartTime(UTC)']))\n",
    "print(type(weather_events.iloc[0].loc['EndTime(UTC)'])) #Both are strings."
   ]
  },
  {
   "cell_type": "code",
   "execution_count": 9,
   "metadata": {},
   "outputs": [
    {
     "name": "stdout",
     "output_type": "stream",
     "text": [
      "Converting weather start times to local time zones\n",
      "Converting weather end times to local time zones\n"
     ]
    }
   ],
   "source": [
    "# Convert datetimes and timezones to the right types of objects.\n",
    "weather_events['StartTime(UTC)'] = pd.to_datetime(weather_events['StartTime(UTC)']).dt.tz_localize('utc')\n",
    "weather_events['EndTime(UTC)'] = pd.to_datetime(weather_events['EndTime(UTC)']).dt.tz_localize('utc')\n",
    "weather_events['TimeZone'] = weather_events['TimeZone'].map(pytz.timezone)\n",
    "\n",
    "# Localize the times to their respective time zones.\n",
    "print('Converting weather start times to local time zones')\n",
    "weather_events['StartTimeLocal'] = weather_events.apply(\n",
    "    lambda row: row['StartTime(UTC)'].tz_convert(row['TimeZone']), axis=1)\n",
    "print('Converting weather end times to local time zones')\n",
    "weather_events['EndTimeLocal'] = weather_events.apply(\n",
    "    lambda row: row['EndTime(UTC)'].tz_convert(row['TimeZone']), axis=1)"
   ]
  },
  {
   "cell_type": "code",
   "execution_count": 10,
   "metadata": {},
   "outputs": [
    {
     "name": "stdout",
     "output_type": "stream",
     "text": [
      "Removing entries completely outside the relevant year(s)\n",
      "Remaining events count: 31126\n"
     ]
    }
   ],
   "source": [
    "# We no longer need data outside the relevant year. Remove them and reset the index.\n",
    "# Irrelevant if all years are selected.\n",
    "print('Removing entries completely outside the relevant year(s)')\n",
    "weather_events = weather_events.drop(weather_events[weather_events.apply(\n",
    "    lambda row: (row['StartTimeLocal'].year > END_YEAR)\\\n",
    "              | (row['EndTimeLocal'].year < START_YEAR), axis=1)].index)\n",
    "print('Remaining events count:', len(weather_events.index))\n",
    "weather_events = weather_events.reset_index(drop=True)"
   ]
  },
  {
   "cell_type": "code",
   "execution_count": 11,
   "metadata": {},
   "outputs": [
    {
     "name": "stdout",
     "output_type": "stream",
     "text": [
      "Index(['Type', 'Severity', 'StartTime(UTC)', 'EndTime(UTC)', 'TimeZone',\n",
      "       'Airport', 'StartTimeLocal', 'EndTimeLocal'],\n",
      "      dtype='object')\n"
     ]
    }
   ],
   "source": [
    "# Cut the columns just down to the ones we need and reorder them.\n",
    "print(weather_events.columns)\n",
    "weather_events = weather_events[['Airport','Type','Severity','StartTimeLocal','EndTimeLocal']]"
   ]
  },
  {
   "cell_type": "code",
   "execution_count": 12,
   "metadata": {},
   "outputs": [
    {
     "name": "stdout",
     "output_type": "stream",
     "text": [
      "Events that spanned New Year's 2016 or 2020\n",
      "Empty DataFrame\n",
      "Columns: [Airport, Type, Severity, StartTimeLocal, EndTimeLocal]\n",
      "Index: []\n"
     ]
    }
   ],
   "source": [
    "# Let's see how many events rolled over New Year's at the endpoints.\n",
    "print('Events that spanned New Year\\'s', START_YEAR, 'or', END_YEAR+1)\n",
    "events_outside_our_years = weather_events.apply(\n",
    "    lambda row: (row['StartTimeLocal'].year < START_YEAR)\\\n",
    "        | (row['EndTimeLocal'].year > END_YEAR), axis=1)\n",
    "print(weather_events[events_outside_our_years]) #None!"
   ]
  },
  {
   "cell_type": "markdown",
   "metadata": {},
   "source": [
    "According to the paper which us-weather-events.csv is based on, Hail is \"solid precipitation\n",
    "including ice pellets and hail.\" This is a problem. Sleet rarely measures more than a couple\n",
    "millimeters in diameter, but hail can grow up to several centimeters in diameter, making\n",
    "takeoff and landing too dangerous. Unfortunately, the paper combines these two different types\n",
    "of precipitation into one.\n",
    "\n",
    "It also defines Storm as \"the extremely windy condition, where the wind speed is at least\n",
    "60kmh [sic].\" That is about 40 mph. We need to rename \"Storm\" to \"Wind\"."
   ]
  },
  {
   "cell_type": "code",
   "execution_count": 13,
   "metadata": {},
   "outputs": [],
   "source": [
    "weather_events['Type'].replace('Storm', 'Wind', inplace=True)"
   ]
  },
  {
   "cell_type": "markdown",
   "metadata": {},
   "source": [
    "Let's see if we can discern between hail and sleet in our dataset. First, get a list of every\n",
    "\"hail\" event and see what is immediately around it."
   ]
  },
  {
   "cell_type": "code",
   "execution_count": 14,
   "metadata": {},
   "outputs": [
    {
     "name": "stdout",
     "output_type": "stream",
     "text": [
      "Number of hail events: 110\n"
     ]
    }
   ],
   "source": [
    "hail_events = weather_events[weather_events.Type=='Hail']\n",
    "hailEventIndices = weather_events[weather_events.Type=='Hail'].index\n",
    "n_hail = len(hailEventIndices)\n",
    "print('Number of hail events:', n_hail)\n",
    "assert hailEventIndices[0]!=0 and hailEventIndices[-1]!=len(hailEventIndices)-1,\\\n",
    "    'Very first or last event is hail, need to account for this'"
   ]
  },
  {
   "cell_type": "code",
   "execution_count": 15,
   "metadata": {},
   "outputs": [],
   "source": [
    "# See how long before the first immediately prior and following events.\n",
    "hail_prior_events = weather_events.loc[hailEventIndices-1].drop('StartTimeLocal', axis=1) #drop for simplicity\n",
    "hail_next_events = weather_events.loc[hailEventIndices+1].drop('EndTimeLocal', axis=1) #drop for simplicity"
   ]
  },
  {
   "cell_type": "code",
   "execution_count": 16,
   "metadata": {},
   "outputs": [
    {
     "name": "stdout",
     "output_type": "stream",
     "text": [
      "All events with hail codes have the same airport as their prior codes? True\n",
      "All events with hail codes have the same airport as their following codes? True\n"
     ]
    }
   ],
   "source": [
    "# Some of these might be between different airports. Need to check this.\n",
    "print('All events with hail codes have the same airport as their prior codes?',\n",
    "      all([hail_events['Airport'].iloc[i] == hail_prior_events['Airport'].iloc[i] for i in range(n_hail)]))\n",
    "print('All events with hail codes have the same airport as their following codes?',\n",
    "      all([hail_events['Airport'].iloc[i] == hail_next_events['Airport'].iloc[i] for i in range(n_hail)]))\n",
    "# Good, no discrepancies. Next, let's check the time gaps."
   ]
  },
  {
   "cell_type": "code",
   "execution_count": 17,
   "metadata": {},
   "outputs": [
    {
     "name": "stdout",
     "output_type": "stream",
     "text": [
      "\n",
      "hailStartTimeGap values:\n",
      "0 days 00:00:00    84\n",
      "0 days 00:04:00     1\n",
      "0 days 00:10:00     1\n",
      "0 days 00:13:00     1\n",
      "0 days 00:25:00     1\n",
      "0 days 00:33:00     1\n",
      "0 days 00:50:00     1\n",
      "0 days 00:54:00     1\n",
      "0 days 01:00:00     1\n",
      "0 days 01:20:00     1\n",
      "0 days 01:27:00     1\n",
      "0 days 02:02:00     1\n",
      "0 days 02:29:00     1\n",
      "0 days 05:25:00     1\n",
      "0 days 06:00:00     1\n",
      "0 days 12:38:00     1\n",
      "0 days 14:00:00     1\n",
      "0 days 21:41:00     1\n",
      "0 days 22:00:00     1\n",
      "1 days 07:37:00     1\n",
      "1 days 08:27:00     1\n",
      "2 days 03:33:00     1\n",
      "2 days 09:12:00     1\n",
      "2 days 13:41:00     1\n",
      "4 days 18:58:00     1\n",
      "6 days 00:27:00     1\n",
      "7 days 17:22:00     1\n",
      "dtype: int64\n"
     ]
    }
   ],
   "source": [
    "hailStartTimeGap = pd.Series([hail_events['StartTimeLocal'].iloc[i]\\\n",
    "                              - hail_prior_events['EndTimeLocal'].iloc[i] for i in range(n_hail)])\n",
    "hailEndTimeGap = pd.Series([hail_next_events['StartTimeLocal'].iloc[i]\\\n",
    "                            - hail_events['EndTimeLocal'].iloc[i] for i in range(n_hail)])\n",
    "print('\\nhailStartTimeGap values:\\n' + str(hailStartTimeGap.value_counts().sort_index()))"
   ]
  },
  {
   "cell_type": "code",
   "execution_count": 18,
   "metadata": {},
   "outputs": [
    {
     "name": "stdout",
     "output_type": "stream",
     "text": [
      "\n",
      "hailEndTimeGap values:\n",
      "0 days 00:00:00    101\n",
      "0 days 00:04:00      1\n",
      "0 days 00:13:00      1\n",
      "0 days 00:45:00      1\n",
      "0 days 01:12:00      1\n",
      "0 days 03:00:00      1\n",
      "0 days 03:54:00      1\n",
      "0 days 06:32:00      1\n",
      "1 days 10:07:00      1\n",
      "2 days 21:41:00      1\n",
      "dtype: int64\n"
     ]
    }
   ],
   "source": [
    "print('\\nhailEndTimeGap values:\\n' + str(hailEndTimeGap.value_counts().sort_index()))"
   ]
  },
  {
   "cell_type": "markdown",
   "metadata": {},
   "source": [
    "Most of \"StartTimeGap\" and nearly all of \"EndTimeGap\"s are 0. We need to make a decision\n",
    "of when the cutoff will be for associating the current event with the next/prior one.\n",
    "\n",
    "To start, let's sample just the ones with startTimeGaps and endTimeGaps of 0."
   ]
  },
  {
   "cell_type": "code",
   "execution_count": 19,
   "metadata": {},
   "outputs": [
    {
     "name": "stdout",
     "output_type": "stream",
     "text": [
      "\n",
      "Prior event codes with zero time gap:\n",
      "Rain             59\n",
      "Snow             18\n",
      "Precipitation     1\n",
      "Name: Type, dtype: int64\n",
      "\n",
      "Next event codes with zero time gap:\n",
      "Rain             61\n",
      "Snow             15\n",
      "Precipitation     1\n",
      "Wind              1\n",
      "Name: Type, dtype: int64\n"
     ]
    }
   ],
   "source": [
    "hours_StartTimeGap = hailStartTimeGap.apply(\n",
    "    lambda x: timedelta.total_seconds(x)/3600)\n",
    "hours_EndTimeGap = hailEndTimeGap.apply(\n",
    "    lambda x: timedelta.total_seconds(x)/3600)\n",
    "indeces_ZeroTimeGap = (hours_StartTimeGap[hours_StartTimeGap==0].index).intersection(\n",
    "    hours_EndTimeGap[hours_EndTimeGap==0].index)\n",
    "print('\\nPrior event codes with zero time gap:\\n' + str(\n",
    "    hail_prior_events.iloc[indeces_ZeroTimeGap]['Type'].value_counts()))\n",
    "print('\\nNext event codes with zero time gap:\\n' + str(\n",
    "    hail_next_events.iloc[indeces_ZeroTimeGap]['Type'].value_counts()))"
   ]
  },
  {
   "cell_type": "markdown",
   "metadata": {},
   "source": [
    "'''Most of \"StartTimeGap\" and nearly all of \"EndTimeGap\"s are 0. We need to make a decision\n",
    "of when the cutoff will be for associating the current event with the next/prior one.\n",
    "\n",
    "To start, let's consider just the ones with startTimeGaps and endTimeGaps of 0.'''"
   ]
  },
  {
   "cell_type": "code",
   "execution_count": 20,
   "metadata": {},
   "outputs": [],
   "source": [
    "hours_StartTimeGap = hailStartTimeGap.apply(\n",
    "    lambda x: timedelta.total_seconds(x)/3600)\n",
    "hours_EndTimeGap = hailEndTimeGap.apply(\n",
    "    lambda x: timedelta.total_seconds(x)/3600)\n",
    "indeces_ZeroTimeGap = hours_StartTimeGap[hours_StartTimeGap==0].index.intersection(\n",
    "    hours_EndTimeGap[hours_EndTimeGap==0].index)\n",
    "\n",
    "hail_prior_events_ZeroTimeGap = hail_prior_events.iloc[indeces_ZeroTimeGap]\n",
    "hail_next_events_ZeroTimeGap = hail_next_events.iloc[indeces_ZeroTimeGap]"
   ]
  },
  {
   "cell_type": "code",
   "execution_count": 21,
   "metadata": {},
   "outputs": [
    {
     "name": "stdout",
     "output_type": "stream",
     "text": [
      "\n",
      "Prior event codes with zero time gap:\n",
      "Rain             59\n",
      "Snow             18\n",
      "Precipitation     1\n",
      "Name: Type, dtype: int64\n",
      "\n",
      "Next event codes with zero time gap:\n",
      "Rain             61\n",
      "Snow             15\n",
      "Precipitation     1\n",
      "Wind              1\n",
      "Name: Type, dtype: int64\n"
     ]
    }
   ],
   "source": [
    "print('\\nPrior event codes with zero time gap:\\n' + str(\n",
    "    hail_prior_events_ZeroTimeGap['Type'].value_counts()))\n",
    "print('\\nNext event codes with zero time gap:\\n' + str(\n",
    "    hail_next_events_ZeroTimeGap['Type'].value_counts()))"
   ]
  },
  {
   "cell_type": "markdown",
   "metadata": {},
   "source": [
    "Most of the surrounding codes are Rain, but a few are Snow. This doesn't give us\n",
    "any clear indication yet between sleet or hail.\n",
    "\n",
    "However, we can make some assumptions. First, if the weather code immediately prior\n",
    "or after is snow, this event marked \"hail\" is actually sleet. Let's start attempting\n",
    "to classify what the Hail code actually means. To start, we populate that entire\n",
    "column with NaN's, with our goal to accurately reduce them to zero. Assumptions\n",
    "are listed below."
   ]
  },
  {
   "cell_type": "code",
   "execution_count": 22,
   "metadata": {},
   "outputs": [],
   "source": [
    "HAIL = 1\n",
    "SLEET = 0\n",
    "REM_NANS = 'Remaining unassigned Hail codes:'\n",
    "AHC = 'ActualHailCode' #so I don't have to keep rewriting this\n",
    "\n",
    "def hailCodeNaNs(df):\n",
    "    return df[AHC].isna().sum()\n",
    "\n",
    "def histHailCount(df):\n",
    "    month = df['Month']\n",
    "    fig, ax = plt.subplots()\n",
    "    ax.hist(month-0.5, bins=12, range=[0,12], align='right', color='r')\n",
    "    ax.set_xlabel('Month')\n",
    "    ax.set_ylabel('Count')\n",
    "    ax.set_title('Hail codes by month')\n",
    "    plt.show()"
   ]
  },
  {
   "cell_type": "code",
   "execution_count": 23,
   "metadata": {},
   "outputs": [
    {
     "name": "stdout",
     "output_type": "stream",
     "text": [
      "Starting unassigned Hail codes: 110\n",
      "Remaining unassigned Hail codes: 102\n"
     ]
    }
   ],
   "source": [
    "with warnings.catch_warnings():\n",
    "    warnings.simplefilter('ignore')\n",
    "    hail_events[AHC] = np.nan\n",
    "    hail_events['Month'] = hail_events['StartTimeLocal'].apply(lambda t: t.month)\n",
    "    print('Starting unassigned Hail codes:', hailCodeNaNs(hail_events)) #Starting count: 110\n",
    "       \n",
    "    #1. Any Hail code in June, July, or August is actually hail.\n",
    "    hail_events[AHC][(hail_events['Month'] >= 6) & (hail_events['Month'] <= 8)] = HAIL\n",
    "    print(REM_NANS, hailCodeNaNs(hail_events)) #Remaining count: 102\n",
    "    nAn_indeces = hail_events[hail_events[AHC].isna()].index"
   ]
  },
  {
   "cell_type": "code",
   "execution_count": 24,
   "metadata": {},
   "outputs": [
    {
     "name": "stdout",
     "output_type": "stream",
     "text": [
      "Remaining unassigned Hail codes: 69\n"
     ]
    }
   ],
   "source": [
    "with warnings.catch_warnings():\n",
    "    warnings.simplefilter('ignore')\n",
    "    #2. Any Hail code within four hours of a Snow code is probably sleet.\n",
    "    time_gap = 4\n",
    "    events_prior = hail_prior_events.loc[nAn_indeces - 1]\n",
    "    events_next = hail_next_events.loc[nAn_indeces + 1]\n",
    "    events_prior.set_index(events_prior.index + 1, inplace=True)\n",
    "    events_next.set_index(events_next.index - 1, inplace=True)\n",
    "\n",
    "    boolean_prior = (events_prior['EndTimeLocal'] + timedelta(hours=time_gap) >=\\\n",
    "        hail_events[hail_events[AHC].isna()]['StartTimeLocal']) &\\\n",
    "        (events_prior['Type'] == 'Snow')\n",
    "    boolean_next = (events_next['StartTimeLocal'] - timedelta(hours=time_gap) <=\\\n",
    "        hail_events[hail_events[AHC].isna()]['EndTimeLocal']) &\\\n",
    "        (events_next['Type'] == 'Snow')\n",
    "    hail_events[AHC].loc[(boolean_prior | boolean_next)\\\n",
    "                         [(boolean_prior | boolean_next)].index] = SLEET\n",
    "    print(REM_NANS, hailCodeNaNs(hail_events)) #Remaining count: 69   "
   ]
  },
  {
   "cell_type": "code",
   "execution_count": 25,
   "metadata": {},
   "outputs": [
    {
     "data": {
      "image/png": "[encoded data removed]",
      "text/plain": [
       "<Figure size 432x288 with 1 Axes>"
      ]
     },
     "metadata": {
      "needs_background": "light"
     },
     "output_type": "display_data"
    }
   ],
   "source": [
    "#Histogram of remaining NaN's\n",
    "histHailCount(hail_events[hail_events[AHC].isna()])\n",
    "#Lots remaining in the winter months. These are probably sleet."
   ]
  },
  {
   "cell_type": "code",
   "execution_count": 26,
   "metadata": {},
   "outputs": [
    {
     "name": "stdout",
     "output_type": "stream",
     "text": [
      "Remaining unassigned Hail codes: 28\n",
      "List of remaining unassigned hail codes:\n",
      "      Airport             StartTimeLocal               EndTimeLocal\n",
      "1712      JFK  2019-03-10 06:19:00-04:00  2019-03-10 06:51:00-04:00\n",
      "2481      ORD  2016-04-25 22:29:00-05:00  2016-04-25 22:35:00-05:00\n",
      "5671      BOS  2017-03-31 21:16:00-04:00  2017-03-31 23:30:00-04:00\n",
      "7659      DEN  2016-05-26 14:48:00-06:00  2016-05-26 14:53:00-06:00\n",
      "7667      DEN  2016-05-27 13:43:00-06:00  2016-05-27 13:53:00-06:00\n",
      "8190      DEN  2017-10-08 22:25:00-06:00  2017-10-08 23:12:00-06:00\n",
      "8412      DEN  2018-04-20 22:43:00-06:00  2018-04-20 23:23:00-06:00\n",
      "8462      DEN  2018-05-14 01:24:00-06:00  2018-05-14 01:29:00-06:00\n",
      "9334      MCO  2016-03-26 19:51:00-04:00  2016-03-26 19:59:00-04:00\n",
      "13068     DFW  2019-03-24 23:14:00-05:00  2019-03-24 23:28:00-05:00\n",
      "13790     EWR  2016-11-19 23:18:00-05:00  2016-11-19 23:35:00-05:00\n",
      "14558     EWR  2018-03-02 07:51:00-05:00  2018-03-02 08:18:00-05:00\n",
      "14606     EWR  2018-03-20 18:51:00-04:00  2018-03-20 19:21:00-04:00\n",
      "14607     EWR  2018-03-20 19:34:00-04:00  2018-03-20 21:39:00-04:00\n",
      "14609     EWR  2018-03-20 23:08:00-04:00  2018-03-20 23:19:00-04:00\n",
      "15261     EWR  2019-03-10 05:36:00-04:00  2019-03-10 06:19:00-04:00\n",
      "15263     EWR  2019-03-10 06:41:00-04:00  2019-03-10 07:15:00-04:00\n",
      "17681     ATL  2016-03-03 13:28:00-05:00  2016-03-03 13:40:00-05:00\n",
      "18757     ATL  2018-03-20 00:23:00-04:00  2018-03-20 00:30:00-04:00\n",
      "19490     ATL  2019-03-25 20:20:00-04:00  2019-03-25 20:23:00-04:00\n",
      "24678     CLT  2018-03-24 12:46:00-04:00  2018-03-24 13:10:00-04:00\n",
      "24694     CLT  2018-04-08 01:52:00-04:00  2018-04-08 02:34:00-04:00\n",
      "25083     CLT  2018-11-11 20:25:00-05:00  2018-11-11 20:29:00-05:00\n",
      "25378     CLT  2019-03-08 08:01:00-05:00  2019-03-08 08:11:00-05:00\n",
      "25380     CLT  2019-03-08 09:39:00-05:00  2019-03-08 09:58:00-05:00\n",
      "25383     CLT  2019-03-08 12:26:00-05:00  2019-03-08 12:33:00-05:00\n",
      "25385     CLT  2019-03-08 12:52:00-05:00  2019-03-08 12:59:00-05:00\n",
      "25473     CLT  2019-04-26 15:19:00-04:00  2019-04-26 15:25:00-04:00\n"
     ]
    }
   ],
   "source": [
    "with warnings.catch_warnings():\n",
    "    warnings.simplefilter('ignore')\n",
    "    hail_events[AHC][hail_events[AHC].isna() & (\n",
    "        (hail_events['Month'] == 12) | (hail_events['Month'] <= 2))] = SLEET\n",
    "    print(REM_NANS, hailCodeNaNs(hail_events)) #Remaining count: 25\n",
    "    print('List of remaining unassigned hail codes:')\n",
    "    print(hail_events[hail_events[AHC].isna()][['Airport','StartTimeLocal','EndTimeLocal']])"
   ]
  },
  {
   "cell_type": "markdown",
   "metadata": {},
   "source": [
    "Most of the remaining events are in March, when weather is highly variable.\n",
    "It is probably best to just look up these remaining events. We will go here:\n",
    "    \n",
    "https://www.wunderground.com/\n",
    "\n",
    "Temperatures of at least 50F probably correspond to hail, and those below 50\n",
    "probably correspond to sleet. Other signs to look for: Sudden drops in temperature\n",
    "are a sign of cold fronts, which hail almost never follows, but if the temperature\n",
    "quickly recovers it is more likely to be heavy rain, which hail usually accompanies."
   ]
  },
  {
   "cell_type": "code",
   "execution_count": 27,
   "metadata": {},
   "outputs": [
    {
     "name": "stdout",
     "output_type": "stream",
     "text": [
      "\n",
      " Remaining unassigned Hail codes: 0\n"
     ]
    }
   ],
   "source": [
    "with warnings.catch_warnings():\n",
    "    warnings.simplefilter('ignore')\n",
    "    hail_events.loc[1712, AHC] = SLEET #JFK, 2019-Mar-10, temp = 36F\n",
    "    hail_events.loc[2481, AHC] = HAIL #ORD, 2016-Apr-25, temp = 69F   \n",
    "    hail_events.loc[5671, AHC] = SLEET #BOS, 2017-Mar-31, temp = 34F\n",
    "    hail_events.loc[7659, AHC] = SLEET #DEN, 2018-May-26, temp = 47F after a drop from 61F\n",
    "    #Below: Brief dip in temperature, potentially a heavy rain core.\n",
    "    hail_events.loc[7667, AHC] = HAIL #DEN, 2018-May-27, temp = 54F\n",
    "    hail_events.loc[8190, AHC] = SLEET #DEN, 2017-Oct-08, temp = 34F\n",
    "    hail_events.loc[8412, AHC] = SLEET #DEN, 2018-Apr-20, temp = 34F\n",
    "    hail_events.loc[8462, AHC] = HAIL #DEN, 2018-May-14, temp = 50F (nighttime)\n",
    "    hail_events.loc[9334, AHC] = HAIL #MCO, 2016-Mar-26, temp = 74F\n",
    "    hail_events.loc[13068, AHC] = HAIL #DFW, 2019-Mar-24, temp = 68F\n",
    "    hail_events.loc[13790, AHC] = SLEET #EWR, 2016-Nov-19, temp = 46F after a drop from 56F\n",
    "    hail_events.loc[14558, AHC] = SLEET #EWR, 2018-Mar-02, temp = 39F\n",
    "    hail_events.loc[14606, AHC] = SLEET #EWR, 2018-Mar-20, temp = 39F\n",
    "    hail_events.loc[14607, AHC] = SLEET #EWR, 2018-Mar-20, temp = 39F\n",
    "    hail_events.loc[14609, AHC] = SLEET #EWR, 2018-Mar-20, temp = 38F\n",
    "    hail_events.loc[15261, AHC] = SLEET #EWR, 2019-Mar-10, temp = 36F\n",
    "    hail_events.loc[15263, AHC] = SLEET #EWR, 2019-Mar-10, temp = 37F\n",
    "    hail_events.loc[17681, AHC] = SLEET #ATL, 2016-Mar-03, temp = 47F, which then dropped\n",
    "    hail_events.loc[18757, AHC] = HAIL #ATL, 2018-Mar-20, temp = 61F\n",
    "    hail_events.loc[19490, AHC] = HAIL #ATL, 2019-Mar-25, temp = 59F\n",
    "    #Below: CLT, 2018-Mar-24, no precip recorded. Unreliable data point.\n",
    "    hail_events.drop(24678, inplace=True)\n",
    "    weather_events.drop(24678, inplace=True)\n",
    "    hail_events.loc[24694, AHC] = SLEET #CLT, 2018-Apr-08, temp = 37F\n",
    "    #Below: CLT, 2018-Nov-11, no precip recorded. Unreliable data point.\n",
    "    hail_events.drop(25083, inplace=True)\n",
    "    weather_events.drop(25083, inplace=True)\n",
    "    hail_events.loc[25378, AHC] = SLEET #CLT, 2019-Mar-08, temp = 44F\n",
    "    hail_events.loc[25380, AHC] = SLEET #CLT, 2019-Mar-08, temp = 43F\n",
    "    hail_events.loc[25383, AHC] = SLEET #CLT, 2019-Mar-08, temp = 47F\n",
    "    hail_events.loc[25385, AHC] = SLEET #CLT, 2019-Mar-08, temp = 48F\n",
    "    hail_events.loc[25473, AHC] = HAIL #CLT, 2019-Apr-26, temp = 64F  \n",
    "    \n",
    "    print('\\n', REM_NANS, hailCodeNaNs(hail_events)) #Remaining count: 0\n",
    "\n",
    "#Update the full DataFrame with these imputed data.\n",
    "weather_events.loc[(hail_events[hail_events[AHC]==SLEET]).index, 'Type'] = 'Sleet'\n",
    "weather_events.reset_index(inplace=True) #for the two CLT dropped codes\n",
    "#These codes were already \"Hail\", so there is nothing to impute there."
   ]
  },
  {
   "cell_type": "code",
   "execution_count": 28,
   "metadata": {},
   "outputs": [],
   "source": [
    "# Get rid of some variables that are no longer needed.\n",
    "del(hailEndTimeGap, hailEventIndices, hailStartTimeGap, hail_events, events_next,\n",
    "    hail_next_events, hail_next_events_ZeroTimeGap, events_prior, hail_prior_events,\n",
    "    hail_prior_events_ZeroTimeGap, hours_EndTimeGap, hours_StartTimeGap, nAn_indeces, nRows,\n",
    "    n_hail, ICAO_codes, REM_NANS, events_outside_our_years, time_gap, unique_airports_weather,\n",
    "    weather_EWR, weather_ORD, weather_PHX, boolean_prior, boolean_next, HAIL, SLEET)"
   ]
  },
  {
   "cell_type": "markdown",
   "metadata": {},
   "source": [
    "Investigate weather types and declare numeric variables for them.\n",
    "Begin transitioning to the daily_weather DataFrame."
   ]
  },
  {
   "cell_type": "code",
   "execution_count": 29,
   "metadata": {},
   "outputs": [
    {
     "name": "stdout",
     "output_type": "stream",
     "text": [
      "Rain             24127\n",
      "Fog               3811\n",
      "Snow              2306\n",
      "Precipitation      553\n",
      "Wind               172\n",
      "Sleet               92\n",
      "Cold                47\n",
      "Hail                16\n",
      "Name: Type, dtype: int64\n",
      "\n",
      "Severities for weather type Rain:\n",
      "Light       18506\n",
      "Moderate     4251\n",
      "Heavy        1370\n",
      "Name: Severity, dtype: int64\n",
      "\n",
      "Severities for weather type Fog:\n",
      "Moderate    1932\n",
      "Severe      1879\n",
      "Name: Severity, dtype: int64\n",
      "\n",
      "Severities for weather type Snow:\n",
      "Light       1570\n",
      "Moderate     561\n",
      "Heavy        175\n",
      "Name: Severity, dtype: int64\n",
      "\n",
      "Severities for weather type Precipitation:\n",
      "UNK    553\n",
      "Name: Severity, dtype: int64\n",
      "\n",
      "Severities for weather type Sleet:\n",
      "Other    92\n",
      "Name: Severity, dtype: int64\n",
      "\n",
      "Severities for weather type Wind:\n",
      "Severe    172\n",
      "Name: Severity, dtype: int64\n",
      "\n",
      "Severities for weather type Cold:\n",
      "Severe    47\n",
      "Name: Severity, dtype: int64\n",
      "\n",
      "Severities for weather type Hail:\n",
      "Other    16\n",
      "Name: Severity, dtype: int64\n",
      "\n",
      "Severities for all types:\n",
      " Light       20076\n",
      "Moderate     6744\n",
      "Severe       2098\n",
      "Heavy        1545\n",
      "UNK           553\n",
      "Other         108\n",
      "Name: Severity, dtype: int64\n"
     ]
    }
   ],
   "source": [
    "severity_value_counts = weather_events.Type.value_counts()\n",
    "print(severity_value_counts)\n",
    "severity_value_counts.to_csv('severity_value_counts.csv')\n",
    "for weatherType in weather_events.Type.unique():\n",
    "    print('\\nSeverities for weather type ' + weatherType + ':')\n",
    "    print(weather_events[weather_events.Type==weatherType].Severity.value_counts())\n",
    "print('\\nSeverities for all types:\\n', weather_events.Severity.value_counts())"
   ]
  },
  {
   "cell_type": "markdown",
   "metadata": {},
   "source": [
    "Rain: Light, Moderate, Heavy<br>\n",
    "Fog: Moderate, Severe<br>\n",
    "Snow: Light, Moderate, Heavy<br>\n",
    "Precipitation: UNK (we need to fix this)<br>\n",
    "Hail: Other<br>\n",
    "Sleet: Other<br>\n",
    "Storm: Severe<br>\n",
    "Cold: Severe<br>"
   ]
  },
  {
   "cell_type": "code",
   "execution_count": 30,
   "metadata": {},
   "outputs": [],
   "source": [
    "daily_weather = weather_events.copy()\n",
    "\n",
    "DF_width = len(daily_weather.columns) #get this now before new columns added\n",
    "daily_weather['HailCode'] = (daily_weather.Type == 'Hail').map(int)\n",
    "daily_weather['SleetCode'] = (daily_weather.Type == 'Sleet').map(int)\n",
    "daily_weather['HiWindCode'] = (daily_weather.Type == 'Wind').map(int) #See later\n",
    "daily_weather['ColdCode'] = (daily_weather.Type == 'Cold').map(int)"
   ]
  },
  {
   "cell_type": "code",
   "execution_count": 31,
   "metadata": {},
   "outputs": [],
   "source": [
    "LightModerateHeavy = {'Light':1, 'Moderate':2, 'Heavy':3}\n",
    "daily_weather['RainCode'] =\\\n",
    "    daily_weather[daily_weather.Type=='Rain'].Severity.map(LightModerateHeavy)\n",
    "daily_weather.RainCode = daily_weather.RainCode.fillna(value=0)\n",
    "daily_weather['FogCode'] =\\\n",
    "    daily_weather[daily_weather.Type=='Fog'].Severity.map({'Moderate':1, 'Severe':2})\n",
    "daily_weather.FogCode = daily_weather.FogCode.fillna(value=0)\n",
    "daily_weather['SnowCode'] =\\\n",
    "    daily_weather[daily_weather.Type=='Snow'].Severity.map(LightModerateHeavy)\n",
    "daily_weather.SnowCode = daily_weather.SnowCode.fillna(value=0)\n",
    "FIRST_WEATHER_CODE = (daily_weather.columns)[DF_width] #needed later"
   ]
  },
  {
   "cell_type": "code",
   "execution_count": 32,
   "metadata": {},
   "outputs": [
    {
     "name": "stdout",
     "output_type": "stream",
     "text": [
      "Count of \"Precipitation\" XOR \"UNK:\" 0\n"
     ]
    }
   ],
   "source": [
    "#Fix the \"Precipitation\" and \"UNK\" entries.\n",
    "PRECIP = 'Precipitation'; UNK = 'UNK'\n",
    "print('Count of \"' + PRECIP + '\" XOR \"' + UNK + ':\"', len(daily_weather\\\n",
    "    [((daily_weather.Type == PRECIP) &\n",
    "      (daily_weather.Severity != UNK)) |\n",
    "      ((daily_weather.Type != PRECIP) &\n",
    "      (daily_weather.Severity == UNK))].index)) #Perfect match!"
   ]
  },
  {
   "cell_type": "code",
   "execution_count": 33,
   "metadata": {},
   "outputs": [
    {
     "name": "stdout",
     "output_type": "stream",
     "text": [
      "\n",
      "Imputing these events\n"
     ]
    }
   ],
   "source": [
    "print('\\nImputing these events')\n",
    "for airport in busiest_US_airports2018:\n",
    "    airport_indeces = daily_weather[daily_weather.Airport == airport].index\n",
    "    if airport_indeces.size > 0:\n",
    "        assert np.max(np.diff(airport_indeces)) == 1,\\\n",
    "            'Indexes misaligned for ' + str(airport)\n",
    "        weather_current_airport = daily_weather.loc[airport_indeces]\n",
    "        unknown_precip_indeces = weather_current_airport\\\n",
    "            [weather_current_airport.Type == PRECIP].index\n",
    "        if len(unknown_precip_indeces)==0:\n",
    "            print(airport, 'has no unknown precipitation')\n",
    "        else:\n",
    "            weather_before_indeces = unknown_precip_indeces-1\n",
    "            weather_after_indeces = unknown_precip_indeces+1\n",
    "            try:\n",
    "                weather_current_airport.loc[weather_before_indeces[0]]\n",
    "            except KeyError:\n",
    "                raise ValueError('First weather event at', airport, 'is unknown precip')\n",
    "            try:\n",
    "                weather_current_airport.loc[weather_after_indeces[-1]]\n",
    "            except KeyError:\n",
    "                raise ValueError('Last weather event at', airport, 'is unknown precip')\n",
    "            # Will need to code a workaround if either of these issues arise.\n",
    "        \n",
    "            # Impute based on averages from entries immediately before and after.\n",
    "            # Round up decimals to nearest integer.\n",
    "            imputation_values = np.ceil((\n",
    "                weather_current_airport.loc[weather_before_indeces, FIRST_WEATHER_CODE:].values\n",
    "                + weather_current_airport.loc[weather_after_indeces, FIRST_WEATHER_CODE:].values)/2).astype(int)\n",
    "            for i, index in enumerate(unknown_precip_indeces):\n",
    "                daily_weather.loc[index, FIRST_WEATHER_CODE:] = imputation_values[i]\n",
    "    else:\n",
    "        print(airport, 'has no entries')"
   ]
  },
  {
   "cell_type": "code",
   "execution_count": 34,
   "metadata": {},
   "outputs": [
    {
     "name": "stdout",
     "output_type": "stream",
     "text": [
      "Index(['index', 'Airport', 'Type', 'Severity', 'StartTimeLocal',\n",
      "       'EndTimeLocal', 'HailCode', 'SleetCode', 'HiWindCode', 'ColdCode',\n",
      "       'RainCode', 'FogCode', 'SnowCode'],\n",
      "      dtype='object')\n",
      "Longest weather event: 23.1 hours\n"
     ]
    },
    {
     "data": {
      "image/png": "[encoded data removed]",
      "text/plain": [
       "<Figure size 432x288 with 1 Axes>"
      ]
     },
     "metadata": {
      "needs_background": "light"
     },
     "output_type": "display_data"
    }
   ],
   "source": [
    "print(daily_weather.columns)\n",
    "daily_weather = daily_weather.drop(['Type', 'Severity'], axis=1)\n",
    "\n",
    "# Analyze the lengths of the weather events.\n",
    "weather_duration = daily_weather.apply(\n",
    "    lambda row: (row['EndTimeLocal'] - row['StartTimeLocal']).seconds/3600, axis=1)\n",
    "longestEvent = max(weather_duration)\n",
    "print('Longest weather event: %.1f hours' % longestEvent) # <24 hours. Good.\n",
    "plt.hist(weather_duration, bins=int(longestEvent), color='b', align='left')\n",
    "plt.xlabel('Hours per event')\n",
    "plt.ylabel('Count')\n",
    "plt.savefig(r'D:\\Springboard_DataSci\\Assignments\\Capstone_2--Airport_weather\\figures\\HoursPerWeatherEvent.png')\n",
    "plt.show() #Most events are < 2 hours, and almost all are < 8 hours."
   ]
  },
  {
   "cell_type": "code",
   "execution_count": 35,
   "metadata": {},
   "outputs": [],
   "source": [
    "# Organize events by date\n",
    "with warnings.catch_warnings():\n",
    "    warnings.simplefilter('ignore')\n",
    "    daily_weather['StartDate'] = daily_weather.apply(lambda row: row['StartTimeLocal'].date(), axis=1)\n",
    "    daily_weather['EndDate'] = daily_weather.apply(lambda row: row['EndTimeLocal'].date(), axis=1)\n",
    "weather_starts = daily_weather.copy()\n",
    "weather_ends = daily_weather.copy()\n",
    "weather_starts = weather_starts.drop(['StartTimeLocal','EndTimeLocal','EndDate'], axis=1)\n",
    "weather_ends = weather_ends.drop(['StartTimeLocal','EndTimeLocal','StartDate'], axis=1)\n",
    "\n",
    "# Form a pivot table based on the highest precip code in each column per day.\n",
    "weather_starts = pd.pivot_table(data=weather_starts, index=['Airport','StartDate'], aggfunc=np.max)\n",
    "weather_ends = pd.pivot_table(data=weather_ends, index=['Airport','EndDate'], aggfunc=np.max)"
   ]
  },
  {
   "cell_type": "code",
   "execution_count": 36,
   "metadata": {},
   "outputs": [
    {
     "name": "stdout",
     "output_type": "stream",
     "text": [
      "                    ColdCode  FogCode  HailCode  HiWindCode  RainCode  \\\n",
      "Airport Date                                                            \n",
      "ATL     2016-01-08         0      0.0         0           0       2.0   \n",
      "        2016-01-09         0      2.0         0           0       1.0   \n",
      "        2016-01-10         0      0.0         0           0       1.0   \n",
      "        2016-01-15         0      2.0         0           0       3.0   \n",
      "        2016-01-16         0      2.0         0           0       0.0   \n",
      "\n",
      "                    SleetCode  SnowCode  index  \n",
      "Airport Date                                    \n",
      "ATL     2016-01-08          0       0.0  17543  \n",
      "        2016-01-09          0       0.0  17547  \n",
      "        2016-01-10          0       0.0  17548  \n",
      "        2016-01-15          0       0.0  17566  \n",
      "        2016-01-16          0       0.0  17568  \n"
     ]
    }
   ],
   "source": [
    "# Append weather_starts and weather_ends (the columns are the same).\n",
    "# We no longer need the daily_weather DF, so name the result that.\n",
    "daily_weather = weather_starts.append(weather_ends).sort_index()\n",
    "\n",
    "# Find the max over each date and rename the index.\n",
    "daily_weather = pd.pivot_table(data=daily_weather, index=['Airport','StartDate'], aggfunc=np.max)\n",
    "daily_weather.index.names = ['Airport','Date']\n",
    "print(daily_weather.head())\n",
    "\n",
    "weather_codes = pd.Series(daily_weather.columns)"
   ]
  },
  {
   "cell_type": "code",
   "execution_count": 37,
   "metadata": {},
   "outputs": [],
   "source": [
    "#Get the correlation matrix of data with X's features as columns. Rounding is arbitrary.\n",
    "def corrMatrixAndMax(df, labels=weather_codes, trims=0):\n",
    "    corr = df.corr().round(3)\n",
    "    if trims>0:\n",
    "        corr = corr.iloc[:-trims, :-trims]\n",
    "    n = corr.shape[0]\n",
    "    max_corr_ID = np.argmax(np.abs(corr) - np.eye(n))\n",
    "    return corr, np.unravel_index(max_corr_ID, [n,n])"
   ]
  },
  {
   "cell_type": "code",
   "execution_count": 38,
   "metadata": {},
   "outputs": [],
   "source": [
    "#Get the value, and row and column labels of a particular df coordinate. Rounding is arbitrary.\n",
    "def getCorrNameCoords(df, coordinates):\n",
    "    row = coordinates[0]; col = coordinates[1]\n",
    "    return round(df.iloc[row, col], 3), df.index[row], df.index[col]"
   ]
  },
  {
   "cell_type": "code",
   "execution_count": 39,
   "metadata": {},
   "outputs": [],
   "source": [
    "column_renames = {'ColdCode':'Cold',\n",
    "                  'FogCode':'Fog',\n",
    "                  'HailCode':'Hail',\n",
    "                  'SleetCode':'Sleet',\n",
    "                  'RainCode':'Rain',\n",
    "                  'SnowCode':'Snow',\n",
    "                  'HiWindCode':'Wind'}\n",
    "daily_weather.rename(columns=column_renames, inplace=True)"
   ]
  },
  {
   "cell_type": "code",
   "execution_count": 40,
   "metadata": {},
   "outputs": [
    {
     "name": "stdout",
     "output_type": "stream",
     "text": [
      "\n",
      "Weather code correlation matrix:\n",
      "        Cold    Fog   Hail   Wind   Rain  Sleet   Snow\n",
      "Cold   1.000 -0.012 -0.003  0.017 -0.064  0.015  0.014\n",
      "Fog   -0.012  1.000  0.003 -0.005 -0.265 -0.010  0.095\n",
      "Hail  -0.003  0.003  1.000  0.038  0.045 -0.003 -0.011\n",
      "Wind   0.017 -0.005  0.038  1.000  0.038 -0.009  0.017\n",
      "Rain  -0.064 -0.265  0.045  0.038  1.000  0.006 -0.206\n",
      "Sleet  0.015 -0.010 -0.003 -0.009  0.006  1.000  0.199\n",
      "Snow   0.014  0.095 -0.011  0.017 -0.206  0.199  1.000\n",
      "Greatest correlation: (-0.265, 'Fog', 'Rain')\n"
     ]
    }
   ],
   "source": [
    "corr, coords_max_corr = corrMatrixAndMax(daily_weather, trims=1)\n",
    "print('\\nWeather code correlation matrix:\\n' + str(corr))\n",
    "print('Greatest correlation:', getCorrNameCoords(corr, coords_max_corr))"
   ]
  },
  {
   "cell_type": "markdown",
   "metadata": {},
   "source": [
    "The negative correlation between fog and rain is not too surprising. Fog is a\n",
    "calm-weather event, and rain is often not. Note the positive correlation between\n",
    "sleet and snow, which we expect, but sleet and hail are almost completely\n",
    "uncorrelated despite once being the same code. Rain and snow are negatively\n",
    "correlated, which actually makes sense, since snow requires below-freezing temperatures\n",
    "while rain rarely sees such temperatures. The correlation between hail and high\n",
    "wind is surprisingly low, but high winds and hail do not require each other.\n",
    "That most of the correlations are low suggests that we can treat most of the variables\n",
    "separately when it is time to train the data."
   ]
  },
  {
   "cell_type": "code",
   "execution_count": 41,
   "metadata": {},
   "outputs": [
    {
     "name": "stdout",
     "output_type": "stream",
     "text": [
      "\n",
      "Total runtime: --- 45.19 seconds ---\n"
     ]
    }
   ],
   "source": [
    "# Save the DataFrame and proceed to the flight_data.\n",
    "if save_data:\n",
    "    daily_weather.to_csv('daily_weather.csv')\n",
    "    corr.to_csv('weather_code_corr.csv')\n",
    "print('\\nTotal runtime:', stopwatch.getElapsedTime())"
   ]
  }
 ],
 "metadata": {
  "kernelspec": {
   "display_name": "Python 3",
   "language": "python",
   "name": "python3"
  },
  "language_info": {
   "codemirror_mode": {
    "name": "ipython",
    "version": 3
   },
   "file_extension": ".py",
   "mimetype": "text/x-python",
   "name": "python",
   "nbconvert_exporter": "python",
   "pygments_lexer": "ipython3",
   "version": "3.7.6"
  }
 },
 "nbformat": 4,
 "nbformat_minor": 4
}
