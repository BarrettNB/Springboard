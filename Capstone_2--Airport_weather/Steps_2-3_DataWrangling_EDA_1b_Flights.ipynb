{
 "cells": [
  {
   "cell_type": "code",
   "execution_count": 24,
   "metadata": {},
   "outputs": [],
   "source": [
    "from datetime import timedelta\n",
    "import glob\n",
    "import matplotlib.pyplot as plt\n",
    "import matplotlib.dates as mpdates\n",
    "import numpy as np\n",
    "import pandas as pd\n",
    "import os\n",
    "import pytz\n",
    "import warnings\n",
    "import sys\n",
    "sys.path.append('D:/Springboard_DataSci/Assignments/Lib')\n",
    "import TimeTracker"
   ]
  },
  {
   "cell_type": "code",
   "execution_count": 2,
   "metadata": {},
   "outputs": [
    {
     "name": "stdout",
     "output_type": "stream",
     "text": [
      "Importing airline codes\n",
      "Importing flight status files\n",
      "\n",
      "Loading flight data from 01/2016\n",
      "Loading flight data from 02/2016\n",
      "Loading flight data from 03/2016\n",
      "Loading flight data from 04/2016\n",
      "Loading flight data from 05/2016\n",
      "Loading flight data from 06/2016\n",
      "Loading flight data from 07/2016\n",
      "Loading flight data from 08/2016\n",
      "Loading flight data from 09/2016\n",
      "Loading flight data from 10/2016\n",
      "Loading flight data from 11/2016\n",
      "Loading flight data from 12/2016\n",
      "Loading flight data from 01/2017\n",
      "Loading flight data from 02/2017\n",
      "Loading flight data from 03/2017\n",
      "Loading flight data from 04/2017\n",
      "Loading flight data from 05/2017\n",
      "Loading flight data from 06/2017\n",
      "Loading flight data from 07/2017\n",
      "Loading flight data from 08/2017\n",
      "Loading flight data from 09/2017\n",
      "Loading flight data from 10/2017\n",
      "Loading flight data from 11/2017\n",
      "Loading flight data from 12/2017\n",
      "Loading flight data from 01/2018\n",
      "Loading flight data from 02/2018\n",
      "Loading flight data from 03/2018\n",
      "Loading flight data from 04/2018\n",
      "Loading flight data from 05/2018\n",
      "Loading flight data from 06/2018\n"
     ]
    },
    {
     "name": "stderr",
     "output_type": "stream",
     "text": [
      "D:\\Users\\Barrett\\anaconda3\\lib\\site-packages\\IPython\\core\\interactiveshell.py:3063: DtypeWarning: Columns (18) have mixed types.Specify dtype option on import or set low_memory=False.\n",
      "  interactivity=interactivity, compiler=compiler, result=result)\n"
     ]
    },
    {
     "name": "stdout",
     "output_type": "stream",
     "text": [
      "Loading flight data from 07/2018\n",
      "Loading flight data from 08/2018\n",
      "Loading flight data from 09/2018\n",
      "Loading flight data from 10/2018\n",
      "Loading flight data from 11/2018\n",
      "Loading flight data from 12/2018\n",
      "Loading flight data from 01/2019\n",
      "Loading flight data from 02/2019\n",
      "Loading flight data from 03/2019\n",
      "Loading flight data from 04/2019\n",
      "Loading flight data from 05/2019\n",
      "Loading flight data from 06/2019\n",
      "Loading flight data from 07/2019\n",
      "Loading flight data from 08/2019\n",
      "Loading flight data from 09/2019\n",
      "Loading flight data from 10/2019\n",
      "Loading flight data from 11/2019\n",
      "Loading flight data from 12/2019\n"
     ]
    }
   ],
   "source": [
    "'''Data collection'''\n",
    "stopwatch = TimeTracker.TimeTracker()\n",
    "# Get all the data.\n",
    "path = r'D:\\Springboard_DataSci\\Assignments\\Capstone_2--Airport_weather\\data'\n",
    "os.chdir(path)\n",
    "print('Importing airline codes')\n",
    "airline_codes = pd.read_csv('L_UNIQUE_CARRIERS.csv-1.csv', index_col='Code')\n",
    "airline_codes = pd.Series(airline_codes.Description)\n",
    "print('Importing flight status files\\n')\n",
    "flightFileNames = glob.glob('????_??_T_ONTIME_REPORTING.csv')\n",
    "monthly_flights = []\n",
    "for flightFile in flightFileNames:\n",
    "    print('Loading flight data from ' + flightFile[5:7] + '/' + flightFile[:4])\n",
    "    monthly_flights.append(pd.read_csv(flightFile))"
   ]
  },
  {
   "cell_type": "code",
   "execution_count": 3,
   "metadata": {},
   "outputs": [
    {
     "name": "stdout",
     "output_type": "stream",
     "text": [
      "count     10694\n",
      "unique        3\n",
      "top           A\n",
      "freq       5970\n",
      "Name: CANCELLATION_CODE, dtype: object\n",
      "A    5970\n",
      "B    2486\n",
      "C    2238\n",
      "Name: CANCELLATION_CODE, dtype: int64\n"
     ]
    }
   ],
   "source": [
    "# Column 18 of the June 2018 file appears problematic. Let's investigate.\n",
    "June2018flightsCol18 = pd.read_csv('2018_06_T_ONTIME_REPORTING.csv').iloc[:,18]\n",
    "print(June2018flightsCol18.describe())\n",
    "print(June2018flightsCol18.value_counts())\n",
    "# Nothing seems out of the ordinary, but we'll keep an eye on this."
   ]
  },
  {
   "cell_type": "code",
   "execution_count": 4,
   "metadata": {},
   "outputs": [
    {
     "name": "stdout",
     "output_type": "stream",
     "text": [
      "\n",
      "Concatenating the flight data\n"
     ]
    }
   ],
   "source": [
    "print('\\nConcatenating the flight data')\n",
    "flights = pd.concat(monthly_flights, ignore_index=True)"
   ]
  },
  {
   "cell_type": "code",
   "execution_count": 5,
   "metadata": {},
   "outputs": [
    {
     "name": "stdout",
     "output_type": "stream",
     "text": [
      "        OP_CARRIER_FL_NUM ORIGIN DEST  CRS_DEP_TIME  CRS_ARR_TIME\n",
      "500272                491    PHX  ATL           605          1135\n",
      "500273                988    PHX  ATL          1630          2205\n",
      "       OP_CARRIER_FL_NUM ORIGIN DEST  CRS_DEP_TIME  CRS_ARR_TIME\n",
      "71962                680    ATL  PHX          1900          2120\n",
      "71963               3407    ATL  PHX          1050          1320\n",
      "        OP_CARRIER_FL_NUM ORIGIN DEST  CRS_DEP_TIME  CRS_ARR_TIME\n",
      "337967               1105    ATL  SLC           821          1022\n",
      "338200               1333    ATL  SLC          1930          2132\n",
      "338367               1507    ATL  SLC          1225          1421\n",
      "338890               2076    ATL  SLC          1659          1859\n",
      "339027               2239    ATL  SLC          2146          2347\n",
      "339057               2286    ATL  SLC          1350          1550\n",
      "339072               2302    ATL  SLC          1051          1248\n",
      "       OP_CARRIER_FL_NUM ORIGIN DEST  CRS_DEP_TIME  CRS_ARR_TIME\n",
      "8291                1654    SLC  ATL          1512          2101\n",
      "8483                1802    SLC  ATL          1400          1949\n",
      "8505                1820    SLC  ATL          1700          2244\n",
      "8919                2155    SLC  ATL           700          1240\n",
      "9115                2325    SLC  ATL           943          1531\n",
      "9601                2730    SLC  ATL          1100          1645\n",
      "9755                2870    SLC  ATL          2320           501\n",
      "54090               1524    SLC  ATL           825          1410\n"
     ]
    }
   ],
   "source": [
    "# Check the data. Verify that departure and arrival times are local using some sample flights.\n",
    "for i, flights_that_month in enumerate(monthly_flights):\n",
    "    first_flight = flights_that_month.iloc[0]\n",
    "    if first_flight.YEAR==2019 and first_flight.MONTH==1:\n",
    "        break\n",
    "PHX_ATL_SW = monthly_flights[i][(monthly_flights[i].OP_UNIQUE_CARRIER=='WN') & #Southwest\n",
    "                        (monthly_flights[i].ORIGIN=='PHX') &\n",
    "                        (monthly_flights[i].DEST=='ATL')&\n",
    "                        (monthly_flights[i].DAY_OF_MONTH==22)]\n",
    "ATL_PHX_SW = monthly_flights[i][(monthly_flights[i].OP_UNIQUE_CARRIER=='WN') &\n",
    "                        (monthly_flights[i].ORIGIN=='ATL') &\n",
    "                        (monthly_flights[i].DEST=='PHX')&\n",
    "                        (monthly_flights[i].DAY_OF_MONTH==29)]\n",
    "\n",
    "for i, flights_that_month in enumerate(monthly_flights):\n",
    "    first_flight = flights_that_month.iloc[0]\n",
    "    if first_flight.YEAR==2019 and first_flight.MONTH==5:\n",
    "        break\n",
    "ATL_SLC_DL = monthly_flights[i][(monthly_flights[i].OP_UNIQUE_CARRIER=='DL') & #Delta\n",
    "                        (monthly_flights[i].ORIGIN=='ATL') &\n",
    "                        (monthly_flights[i].DEST=='SLC') &\n",
    "                        (monthly_flights[i].DAY_OF_MONTH==18)]\n",
    "SLC_ATL_DL = monthly_flights[i][(monthly_flights[i].OP_UNIQUE_CARRIER=='DL') &\n",
    "                        (monthly_flights[i].ORIGIN=='SLC') &\n",
    "                        (monthly_flights[i].DEST=='ATL') &\n",
    "                        (monthly_flights[i].DAY_OF_MONTH==23)]\n",
    "cols_to_print = ['OP_CARRIER_FL_NUM','ORIGIN','DEST','CRS_DEP_TIME','CRS_ARR_TIME']\n",
    "print(PHX_ATL_SW[cols_to_print])\n",
    "print(ATL_PHX_SW[cols_to_print])\n",
    "print(ATL_SLC_DL[cols_to_print])\n",
    "print(SLC_ATL_DL[cols_to_print])\n",
    "# Conclusion: Both departure and arrival times are local."
   ]
  },
  {
   "cell_type": "code",
   "execution_count": 6,
   "metadata": {},
   "outputs": [
    {
     "name": "stdout",
     "output_type": "stream",
     "text": [
      "     Airport\n",
      "Rank        \n",
      "1        ATL\n",
      "2        LAX\n",
      "3        ORD\n",
      "4        DFW\n",
      "5        DEN\n",
      "6        JFK\n",
      "7        SFO\n",
      "8        SEA\n",
      "9        LAS\n",
      "10       MCO\n",
      "11       EWR\n",
      "12       CLT\n",
      "13       PHX\n",
      "14       MIA\n",
      "15       IAH\n",
      "16       BOS\n",
      "\n",
      "\"flights\" df shape before trim: (25928388, 24)\n",
      "\"flights\" df shape after trim: (19127366, 24)\n",
      "Index(['YEAR', 'MONTH', 'DAY_OF_MONTH', 'DAY_OF_WEEK', 'FL_DATE',\n",
      "       'OP_UNIQUE_CARRIER', 'OP_CARRIER_FL_NUM', 'ORIGIN', 'ORIGIN_CITY_NAME',\n",
      "       'DEST', 'DEST_CITY_NAME', 'CRS_DEP_TIME', 'DEP_DELAY_NEW', 'DEP_DEL15',\n",
      "       'CRS_ARR_TIME', 'ARR_DELAY_NEW', 'ARR_DEL15', 'CANCELLED',\n",
      "       'CANCELLATION_CODE', 'DIVERTED', 'WEATHER_DELAY', 'DIV_REACHED_DEST',\n",
      "       'DIV_ARR_DELAY', 'Unnamed: 23'],\n",
      "      dtype='object')\n",
      "Existing NaNs:\n",
      "YEAR                        0\n",
      "MONTH                       0\n",
      "DAY_OF_MONTH                0\n",
      "DAY_OF_WEEK                 0\n",
      "FL_DATE                     0\n",
      "OP_UNIQUE_CARRIER           0\n",
      "ORIGIN                      0\n",
      "DEST                        0\n",
      "CRS_DEP_TIME                0\n",
      "DEP_DELAY_NEW          286517\n",
      "DEP_DEL15              286517\n",
      "CRS_ARR_TIME                0\n",
      "ARR_DELAY_NEW          342788\n",
      "ARR_DEL15              342788\n",
      "CANCELLED                   0\n",
      "CANCELLATION_CODE    18833315\n",
      "DIVERTED                    0\n",
      "WEATHER_DELAY        15505729\n",
      "DIV_REACHED_DEST     19080075\n",
      "DIV_ARR_DELAY        19085999\n",
      "dtype: int64\n"
     ]
    }
   ],
   "source": [
    "# Get the busiest airports in the US.'\n",
    "busiest_US_airports2018 = pd.read_csv('busiest_US_airports2018.csv', index_col='Rank')\n",
    "print(busiest_US_airports2018) #We will later add a column, so keep it as a DF.\n",
    "\n",
    "'''Explore the flight data.'''\n",
    "# Drop all monthly_flights that don't start or end at our airports of interest.\n",
    "print('\\n\"flights\" df shape before trim:', flights.shape)\n",
    "flights.drop(flights.index[\n",
    "    np.where(~np.any([flights.ORIGIN.isin(busiest_US_airports2018['Airport']),\n",
    "                      flights.DEST.isin(busiest_US_airports2018['Airport'])], axis=0))[0]], inplace=True)\n",
    "print('\"flights\" df shape after trim:', flights.shape)\n",
    "print(flights.columns)\n",
    "del(June2018flightsCol18, monthly_flights, PHX_ATL_SW, ATL_PHX_SW, ATL_SLC_DL, SLC_ATL_DL) #no longer needed\n",
    "\n",
    "# Clean the dataframe.\n",
    "flights.drop(['OP_CARRIER_FL_NUM', 'ORIGIN_CITY_NAME',\n",
    "              'DEST_CITY_NAME', 'Unnamed: 23'], axis=1, inplace=True)\n",
    "print(\"Existing NaNs:\\n\" + str(flights.isna().sum()))"
   ]
  },
  {
   "cell_type": "code",
   "execution_count": 7,
   "metadata": {},
   "outputs": [
    {
     "name": "stdout",
     "output_type": "stream",
     "text": [
      "Clashes between DEP_DELAY_NEW and DEP_DEL15 NaN's: 0\n",
      "Clashes between ARR_DELAY_NEW and ARR_DEL15 NaN's: 0\n"
     ]
    }
   ],
   "source": [
    "# DEP_DELAY_NEW and DEP_DEL15, and ARR_DELAY_NEW and ARR_DEL15, have matching\n",
    "# NaN counts. Let's investigate this. XOR and EQUIV are defined.\n",
    "XOR = lambda a, b: (a & ~b) | (~a & b)\n",
    "EQUIV = lambda a, b: (a & b) | ~(a | b)\n",
    "departureClashes = XOR(flights.DEP_DELAY_NEW.isna(), flights.DEP_DEL15.isna())\n",
    "print(\"Clashes between DEP_DELAY_NEW and DEP_DEL15 NaN's:\", departureClashes[departureClashes].count())\n",
    "arrivalClashes = XOR(flights.ARR_DELAY_NEW.isna(), flights.ARR_DEL15.isna())\n",
    "print(\"Clashes between ARR_DELAY_NEW and ARR_DEL15 NaN's:\", arrivalClashes[arrivalClashes].count())\n",
    "\n",
    "# No clashes. Impute missing values as 0.\n",
    "flights.DEP_DELAY_NEW.fillna(value=0, inplace=True)\n",
    "flights.ARR_DELAY_NEW.fillna(value=0, inplace=True)\n",
    "flights.DEP_DEL15.fillna(value=0, inplace=True)\n",
    "flights.ARR_DEL15.fillna(value=0, inplace=True)"
   ]
  },
  {
   "cell_type": "code",
   "execution_count": 8,
   "metadata": {},
   "outputs": [
    {
     "name": "stdout",
     "output_type": "stream",
     "text": [
      "Clashes between CANCELLED and CANCELLATION_CODE NaN's: 0\n",
      "Unique values of flights.CANCELLATION_CODE:\n",
      "0    18833315\n",
      "B      160702\n",
      "A       75930\n",
      "C       57165\n",
      "D         254\n",
      "Name: CANCELLATION_CODE, dtype: int64\n"
     ]
    }
   ],
   "source": [
    "# Investigate cancellations.\n",
    "cancellationClashes = XOR(flights.CANCELLED == 0, flights.CANCELLATION_CODE.isna())\n",
    "print(\"Clashes between CANCELLED and CANCELLATION_CODE NaN's:\",\n",
    "      cancellationClashes[cancellationClashes].count()) #Again, none.\n",
    "flights.CANCELLATION_CODE.fillna(value=0, inplace=True)\n",
    "print('Unique values of flights.CANCELLATION_CODE:\\n' + str(flights.CANCELLATION_CODE.value_counts()))\n",
    "flights['WeatherCancelled'] = (flights.CANCELLATION_CODE == 'B').astype(int)\n",
    "flights.drop(['CANCELLED','CANCELLATION_CODE'], axis=1, inplace=True)"
   ]
  },
  {
   "cell_type": "code",
   "execution_count": 9,
   "metadata": {},
   "outputs": [
    {
     "name": "stdout",
     "output_type": "stream",
     "text": [
      "Clashes between flights.WEATHER_DELAY NaN's and ARR_DEL15: 1\n"
     ]
    }
   ],
   "source": [
    "# Investigate weather delays.\n",
    "weatherDelayClashes = EQUIV(flights.WEATHER_DELAY.isna(), flights.ARR_DEL15==1)\n",
    "print(\"Clashes between flights.WEATHER_DELAY NaN's and ARR_DEL15:\",\n",
    "      weatherDelayClashes[weatherDelayClashes].count()) #None.\n",
    "flights.WEATHER_DELAY.fillna(value=0, inplace=True)\n",
    "flights['WeatherDelayed'] = (flights.WEATHER_DELAY >= 15).astype(int)\n",
    "flights.drop(['DEP_DELAY_NEW','ARR_DELAY_NEW'], axis=1, inplace=True)"
   ]
  },
  {
   "cell_type": "code",
   "execution_count": 10,
   "metadata": {},
   "outputs": [
    {
     "name": "stdout",
     "output_type": "stream",
     "text": [
      "DIVERTED codes:\n",
      "0.0    19080075\n",
      "1.0       47291\n",
      "Name: DIVERTED, dtype: int64\n",
      "DIV_REACHED_DEST codes:\n",
      "1.0    41367\n",
      "0.0     5924\n",
      "Name: DIV_REACHED_DEST, dtype: int64\n",
      "Count of DIV_REACHED_DEST: 47291\n",
      "WeatherDelayed and WeatherCancelled codes of flights who made their destination:\n",
      "0    41367\n",
      "Name: WeatherDelayed, dtype: int64\n",
      "0    41367\n",
      "Name: WeatherCancelled, dtype: int64\n",
      "WeatherDelayed and WeatherCancelled codes of flights who didn't:\n",
      "0    5924\n",
      "Name: WeatherDelayed, dtype: int64\n",
      "0    5918\n",
      "1       6\n",
      "Name: WeatherCancelled, dtype: int64\n"
     ]
    }
   ],
   "source": [
    "# Investigate diversions.\n",
    "print('DIVERTED codes:\\n' + str(flights.DIVERTED.value_counts()))\n",
    "print('DIV_REACHED_DEST codes:\\n' + str(flights.DIV_REACHED_DEST.value_counts()))\n",
    "print('Count of DIV_REACHED_DEST:', flights.DIV_REACHED_DEST.count()) #Same as DIVERTED==1.\n",
    "div_reached = flights[(flights.DIVERTED==1) & (flights.DIV_REACHED_DEST==1)]\n",
    "print('WeatherDelayed and WeatherCancelled codes of flights who made their destination:')\n",
    "print(div_reached.WeatherDelayed.value_counts()) #None\n",
    "print(div_reached.WeatherCancelled.value_counts()) #None\n",
    "div_failed = flights[(flights.DIVERTED==1) & (flights.DIV_REACHED_DEST==0)]\n",
    "print('WeatherDelayed and WeatherCancelled codes of flights who didn\\'t:')\n",
    "print(div_failed.WeatherDelayed.value_counts()) #None\n",
    "print(div_failed.WeatherCancelled.value_counts()) #None\n",
    "# Conclusion: No flights were diverted due to weather.\n",
    "flights.drop(['DIVERTED','DIV_REACHED_DEST','DIV_ARR_DELAY'], axis=1, inplace=True)"
   ]
  },
  {
   "cell_type": "code",
   "execution_count": 11,
   "metadata": {},
   "outputs": [],
   "source": [
    "# Delete some temporary variables.\n",
    "del(arrivalClashes, cancellationClashes, departureClashes, weatherDelayClashes,\n",
    "    div_reached, div_failed, i)"
   ]
  },
  {
   "cell_type": "markdown",
   "metadata": {},
   "source": [
    "Issues at either the departure airport or the arrival airport can affect the\n",
    "flight. To analyze them separately as best we can, we need to copy the dataframe\n",
    "into two, one for each."
   ]
  },
  {
   "cell_type": "code",
   "execution_count": 12,
   "metadata": {},
   "outputs": [
    {
     "name": "stdout",
     "output_type": "stream",
     "text": [
      "Copying the DataFrame\n"
     ]
    }
   ],
   "source": [
    "print('Copying the DataFrame')\n",
    "departing_flights = flights.copy()\n",
    "arriving_flights = flights.copy()\n",
    "del(flights)"
   ]
  },
  {
   "cell_type": "code",
   "execution_count": 13,
   "metadata": {},
   "outputs": [
    {
     "name": "stdout",
     "output_type": "stream",
     "text": [
      "Setting datetime objects\n"
     ]
    }
   ],
   "source": [
    "# Now we only need departing flights from and arriving flights to the busiest airports.\n",
    "departing_flights.drop(departing_flights.index[np.where(\n",
    "    ~departing_flights.ORIGIN.isin(busiest_US_airports2018['Airport']))[0]], inplace=True)\n",
    "arriving_flights.drop(arriving_flights.index[np.where(\n",
    "    ~arriving_flights.DEST.isin(busiest_US_airports2018['Airport']))[0]], inplace=True)\n",
    "\n",
    "print('Setting datetime objects')\n",
    "arriving_flights['HOUR'] = arriving_flights.CRS_DEP_TIME // 100\n",
    "arriving_flights['MINUTE'] = arriving_flights.CRS_DEP_TIME % 100"
   ]
  },
  {
   "cell_type": "code",
   "execution_count": 14,
   "metadata": {},
   "outputs": [
    {
     "name": "stdout",
     "output_type": "stream",
     "text": [
      "Looking for any flights that crossed midnight\n",
      "458838\n"
     ]
    },
    {
     "data": {
      "image/png": "[encoded data removed]",
      "text/plain": [
       "<Figure size 432x288 with 1 Axes>"
      ]
     },
     "metadata": {
      "needs_background": "light"
     },
     "output_type": "display_data"
    }
   ],
   "source": [
    "'''Flight dates are from departures. We need to see if any arrivals crossed midnight.'''\n",
    "print('Looking for any flights that crossed midnight')\n",
    "arriving_flights['ArrDepDiff'] = arriving_flights.CRS_ARR_TIME - arriving_flights.CRS_DEP_TIME\n",
    "# Inspect any flights whose arrival time precedes its departure.\n",
    "print(len(arriving_flights[arriving_flights.ArrDepDiff < 0].index)) #124160 flights. Need more trimming.\n",
    "\n",
    "plt.hist(arriving_flights.ArrDepDiff/100, bins=25, color='g', align='left')\n",
    "plt.xlabel('Departure - Arrival in hours')\n",
    "plt.ylabel('Count')\n",
    "plt.show() # A clear gap between -14 and -1. Possibly many \"redeye\" (overnight) flights."
   ]
  },
  {
   "cell_type": "code",
   "execution_count": 15,
   "metadata": {},
   "outputs": [
    {
     "name": "stdout",
     "output_type": "stream",
     "text": [
      "Narrowing the list\n",
      "Earliest departure time code in this list: 1512\n",
      "Latest departure time code in this list: 1107\n"
     ]
    }
   ],
   "source": [
    "print('Narrowing the list')\n",
    "redEye_threshold = arriving_flights.ArrDepDiff < -1200\n",
    "redEye_flights = arriving_flights[redEye_threshold]\n",
    "print('Earliest departure time code in this list:',  min(redEye_flights.CRS_DEP_TIME))\n",
    "print('Latest departure time code in this list:', max(redEye_flights.CRS_ARR_TIME))\n",
    "# Even with time zone changes, that is more than four hours apart -- and very\n",
    "# unlikely to be the same flight. But just in case let's look closer."
   ]
  },
  {
   "cell_type": "code",
   "execution_count": 16,
   "metadata": {},
   "outputs": [
    {
     "data": {
      "image/png": "[encoded data removed]",
      "text/plain": [
       "<Figure size 432x288 with 1 Axes>"
      ]
     },
     "metadata": {
      "needs_background": "light"
     },
     "output_type": "display_data"
    }
   ],
   "source": [
    "plt.hist(redEye_flights.CRS_DEP_TIME/100, range(15,25), color='r', align='left')\n",
    "plt.xlabel(\"Redeyes' departure time hours\")\n",
    "plt.ylabel('Count')\n",
    "plt.show()"
   ]
  },
  {
   "cell_type": "code",
   "execution_count": 17,
   "metadata": {},
   "outputs": [
    {
     "data": {
      "image/png": "[encoded data removed]",
      "text/plain": [
       "<Figure size 432x288 with 1 Axes>"
      ]
     },
     "metadata": {
      "needs_background": "light"
     },
     "output_type": "display_data"
    }
   ],
   "source": [
    "plt.hist(redEye_flights.CRS_ARR_TIME/100, bins=range(9), color='b', align='left')\n",
    "plt.xlabel(\"Redeyes' arrival time hours\")\n",
    "plt.ylabel('Count')\n",
    "plt.show()"
   ]
  },
  {
   "cell_type": "code",
   "execution_count": 18,
   "metadata": {},
   "outputs": [],
   "source": [
    "with warnings.catch_warnings():\n",
    "    warnings.simplefilter('ignore')\n",
    "    redEye_flights.CRS_DEP_TIME -= 2400 #Now 1/100 hrs before midnight\n",
    "    redEye_flights.drop('ArrDepDiff', axis=1, inplace=True)\n",
    "    redEye_flights['ArrDepDiff'] = redEye_flights.CRS_ARR_TIME - redEye_flights.CRS_DEP_TIME"
   ]
  },
  {
   "cell_type": "code",
   "execution_count": 19,
   "metadata": {},
   "outputs": [
    {
     "data": {
      "image/png": "[encoded data removed]",
      "text/plain": [
       "<Figure size 432x288 with 1 Axes>"
      ]
     },
     "metadata": {
      "needs_background": "light"
     },
     "output_type": "display_data"
    }
   ],
   "source": [
    "plt.hist((redEye_flights.CRS_ARR_TIME - redEye_flights.CRS_DEP_TIME)/100,\n",
    "          bins = range(12), color='g', align='left')\n",
    "plt.xlabel(\"Redeyes' flight times in hours\")\n",
    "plt.ylabel('Count')\n",
    "plt.show()\n",
    "arriving_flights['Redeye'] = redEye_threshold.astype(int)\n",
    "# All redeyes will need their arrival dates increased by one."
   ]
  },
  {
   "cell_type": "code",
   "execution_count": 20,
   "metadata": {},
   "outputs": [],
   "source": [
    "# Get the timezones to make the times compatible in the upcoming merges.\n",
    "def getTimeZone(df):\n",
    "    timeZones = []\n",
    "    for airport in df['Airport']:\n",
    "        for zone, zoneAirports in timeZoneMap.items():\n",
    "            if airport in zoneAirports:\n",
    "                timeZones.append(zone)\n",
    "                break\n",
    "    return timeZones"
   ]
  },
  {
   "cell_type": "code",
   "execution_count": 21,
   "metadata": {},
   "outputs": [],
   "source": [
    "timeZoneMap = {'US/Eastern':['ATL','JFK','MCO','EWR','CLT','MIA','BOS'],\n",
    "               'US/Central':['ORD','DFW','IAH'],\n",
    "               'US/Mountain':['DEN'],\n",
    "               'US/Arizona':['PHX'],\n",
    "               'US/Pacific':['LAS','LAX','SFO','SEA']}\n",
    "busiest_US_airports2018['TimeZone'] = getTimeZone(busiest_US_airports2018)\n",
    "busiest_US_airports2018 = busiest_US_airports2018.set_index('Airport')['TimeZone']\n",
    "timeZoneMap = busiest_US_airports2018.map(pytz.timezone)\n",
    "del(busiest_US_airports2018) #no longer needed"
   ]
  },
  {
   "cell_type": "code",
   "execution_count": 22,
   "metadata": {},
   "outputs": [
    {
     "name": "stdout",
     "output_type": "stream",
     "text": [
      "Elapsed time prior to datetime calculations: --- 3.18 minutes ---\n"
     ]
    }
   ],
   "source": [
    "# Let's do a time check.\n",
    "print('Elapsed time prior to datetime calculations:', stopwatch.getElapsedTime())\n",
    "datetimeCalcsStopwatch = TimeTracker.TimeTracker()"
   ]
  },
  {
   "cell_type": "code",
   "execution_count": 25,
   "metadata": {},
   "outputs": [
    {
     "name": "stdout",
     "output_type": "stream",
     "text": [
      "Converting departure dates to datetime objects\n",
      "Converting arrival dates to datetime objects\n",
      "Factoring in redeye data for arrivals\n",
      "Runtime of datetime calculations: --- 20.92 minutes ---\n"
     ]
    }
   ],
   "source": [
    "with warnings.catch_warnings(): #Slow step (but not as slow as it used to be!)  \n",
    "    warnings.simplefilter('ignore')\n",
    "    print('Converting departure dates to datetime objects')\n",
    "    departing_flights['Date'] = pd.to_datetime(departing_flights.FL_DATE + departing_flights.apply(\n",
    "        lambda row:'%04d' % row['CRS_DEP_TIME'], axis=1), format='%Y-%m-%d%H%M')    \n",
    "    print('Converting arrival dates to datetime objects')\n",
    "    arriving_flights['Date'] = pd.to_datetime(arriving_flights.FL_DATE + arriving_flights.apply(\n",
    "        lambda row:'%04d' % row['CRS_DEP_TIME'], axis=1), format='%Y-%m-%d%H%M')\n",
    "    print('Factoring in redeye data for arrivals')\n",
    "    arriving_flights['Date'] += arriving_flights['Redeye'].apply(lambda x: timedelta(days=x))\n",
    "\n",
    "print('Runtime of datetime calculations:', datetimeCalcsStopwatch.getElapsedTime())\n",
    "# We no longer need the redeye info. Remove these and some temporary variables.\n",
    "del(redEye_flights, redEye_threshold, cols_to_print, datetimeCalcsStopwatch)"
   ]
  },
  {
   "cell_type": "code",
   "execution_count": 26,
   "metadata": {},
   "outputs": [
    {
     "ename": "NameError",
     "evalue": "name 'redEye_flights' is not defined",
     "output_type": "error",
     "traceback": [
      "\u001b[1;31m---------------------------------------------------------------------------\u001b[0m",
      "\u001b[1;31mNameError\u001b[0m                                 Traceback (most recent call last)",
      "\u001b[1;32m<ipython-input-26-51a04802aaf8>\u001b[0m in \u001b[0;36m<module>\u001b[1;34m\u001b[0m\n\u001b[0;32m      1\u001b[0m \u001b[1;31m# We no longer need the redeye info. Remove these and some temporary variables.\u001b[0m\u001b[1;33m\u001b[0m\u001b[1;33m\u001b[0m\u001b[1;33m\u001b[0m\u001b[0m\n\u001b[1;32m----> 2\u001b[1;33m \u001b[1;32mdel\u001b[0m\u001b[1;33m(\u001b[0m\u001b[0mredEye_flights\u001b[0m\u001b[1;33m,\u001b[0m \u001b[0mredEye_threshold\u001b[0m\u001b[1;33m,\u001b[0m \u001b[0mcols_to_print\u001b[0m\u001b[1;33m,\u001b[0m \u001b[0mdatetimeCalcsStopwatch\u001b[0m\u001b[1;33m)\u001b[0m\u001b[1;33m\u001b[0m\u001b[1;33m\u001b[0m\u001b[0m\n\u001b[0m",
      "\u001b[1;31mNameError\u001b[0m: name 'redEye_flights' is not defined"
     ]
    }
   ],
   "source": [
    "# We no longer need the redeye info. Remove these and some temporary variables.\n",
    "del(redEye_flights, redEye_threshold, cols_to_print, datetimeCalcsStopwatch)"
   ]
  },
  {
   "cell_type": "markdown",
   "metadata": {},
   "source": [
    "By removing the destinations from departing flights, we can make these flights a function of only one categorical variable: Arrival airports."
   ]
  },
  {
   "cell_type": "code",
   "execution_count": null,
   "metadata": {},
   "outputs": [],
   "source": [
    "# Remove columns that are no longer needed. We will not analyze over airlines or day of the week.\n",
    "to_drop = ['YEAR','MONTH','DAY_OF_MONTH','DAY_OF_WEEK','FL_DATE',\n",
    "            'CRS_ARR_TIME','CRS_DEP_TIME','OP_UNIQUE_CARRIER','WEATHER_DELAY']\n",
    "with warnings.catch_warnings(): #This part is SLOW. Only run when ready.\n",
    "    warnings.simplefilter('ignore')\n",
    "    # By removing the destinations from departing flights, we can make these flights\n",
    "    # a function of only one categorical variable: Arrival airports.\n",
    "    departing_flights.drop(to_drop + ['DEST'], axis=1, inplace=True)\n",
    "    # Similar for arrivals and decoupling airports of origin.\n",
    "    arriving_flights.drop(to_drop + ['ORIGIN','HOUR','MINUTE','ArrDepDiff','Redeye'], axis=1, inplace=True)"
   ]
  },
  {
   "cell_type": "code",
   "execution_count": null,
   "metadata": {},
   "outputs": [],
   "source": [
    "'''Get daily summaries of all flights per airport.'''\n",
    "with warnings.catch_warnings():\n",
    "    warnings.simplefilter('ignore')\n",
    "    arriving_flights['Flights'] = 1 #These variables used as counters\n",
    "    departing_flights['Flights'] = 1\n",
    "    # Incoming slow steps!\n",
    "    print('Demoting datetimes to dates for departures')\n",
    "    departing_flights['DepartureDate'] = departing_flights.apply(lambda row: row['Date'].date(), axis=1)\n",
    "    print('Demoting datetimes to dates for arrivals')\n",
    "    arriving_flights['ArrivalDate'] = arriving_flights.apply(lambda row: row['Date'].date(), axis=1)"
   ]
  },
  {
   "cell_type": "code",
   "execution_count": null,
   "metadata": {},
   "outputs": [],
   "source": [
    "# We no longer need the precise times, just the dates.\n",
    "departing_flights.drop('Date', axis=1, inplace=True)\n",
    "arriving_flights.drop('Date', axis=1, inplace=True)\n",
    "\n",
    "# Form a pivot table based on the highest precip code in each column per day.\n",
    "departing_flights = pd.pivot_table(data=departing_flights, index=['ORIGIN','DepartureDate'], aggfunc=np.sum)\n",
    "arriving_flights = pd.pivot_table(data=arriving_flights, index=['DEST','ArrivalDate'], aggfunc=np.sum)"
   ]
  },
  {
   "cell_type": "code",
   "execution_count": null,
   "metadata": {},
   "outputs": [],
   "source": [
    "# Save the data and proceed to merging them.\n",
    "# departing_flights.to_csv('departing_flights.csv') #Uncomment to create the file\n",
    "# arriving_flights.to_csv('arriving_flights.csv') #Uncomment to create the file\n",
    "print('Total runtime:', stopwatch.getElapsedTime())"
   ]
  },
  {
   "cell_type": "code",
   "execution_count": null,
   "metadata": {},
   "outputs": [],
   "source": []
  }
 ],
 "metadata": {
  "kernelspec": {
   "display_name": "Python 3",
   "language": "python",
   "name": "python3"
  },
  "language_info": {
   "codemirror_mode": {
    "name": "ipython",
    "version": 3
   },
   "file_extension": ".py",
   "mimetype": "text/x-python",
   "name": "python",
   "nbconvert_exporter": "python",
   "pygments_lexer": "ipython3",
   "version": "3.7.6"
  }
 },
 "nbformat": 4,
 "nbformat_minor": 4
}
