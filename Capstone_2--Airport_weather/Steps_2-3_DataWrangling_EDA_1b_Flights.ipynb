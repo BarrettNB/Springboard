{
 "cells": [
  {
   "cell_type": "markdown",
   "metadata": {},
   "source": [
    "Data wrangling for the weather-airports project.\n",
    "\n",
    "Part 1b: Flight data. Does not require Part 1a to run.\n",
    "\n",
    "Flight data (URL subject to change): https://www.transtats.bts.gov/Tables.asp?DB_ID=120&DB_Name=Airline%20On-Time%20Performance%20Data&DB_Short_Name=On-Time"
   ]
  },
  {
   "cell_type": "code",
   "execution_count": 1,
   "metadata": {},
   "outputs": [],
   "source": [
    "from datetime import timedelta\n",
    "import glob\n",
    "import matplotlib.pyplot as plt\n",
    "import pandas as pd\n",
    "import os\n",
    "import pytz\n",
    "import sys\n",
    "sys.path.append('D:/Springboard_DataSci/Assignments/Lib')\n",
    "import TimeTracker\n",
    "\n",
    "save_data = True; save_data = False #whether to save the resulting data\n",
    "pd.options.mode.chained_assignment = None #turns off warnings for data replacements"
   ]
  },
  {
   "cell_type": "code",
   "execution_count": 2,
   "metadata": {},
   "outputs": [
    {
     "name": "stdout",
     "output_type": "stream",
     "text": [
      "Importing airline codes\n",
      "Importing flight status files\n",
      "\n",
      "Loading flight data from 01/2016\n",
      "Loading flight data from 02/2016\n",
      "Loading flight data from 03/2016\n",
      "Loading flight data from 04/2016\n",
      "Loading flight data from 05/2016\n",
      "Loading flight data from 06/2016\n",
      "Loading flight data from 07/2016\n",
      "Loading flight data from 08/2016\n",
      "Loading flight data from 09/2016\n",
      "Loading flight data from 10/2016\n",
      "Loading flight data from 11/2016\n",
      "Loading flight data from 12/2016\n",
      "Loading flight data from 01/2017\n",
      "Loading flight data from 02/2017\n",
      "Loading flight data from 03/2017\n",
      "Loading flight data from 04/2017\n",
      "Loading flight data from 05/2017\n",
      "Loading flight data from 06/2017\n",
      "Loading flight data from 07/2017\n",
      "Loading flight data from 08/2017\n",
      "Loading flight data from 09/2017\n",
      "Loading flight data from 10/2017\n",
      "Loading flight data from 11/2017\n",
      "Loading flight data from 12/2017\n",
      "Loading flight data from 01/2018\n",
      "Loading flight data from 02/2018\n",
      "Loading flight data from 03/2018\n",
      "Loading flight data from 04/2018\n",
      "Loading flight data from 05/2018\n",
      "Loading flight data from 06/2018\n",
      "Loading flight data from 07/2018\n",
      "Loading flight data from 08/2018\n",
      "Loading flight data from 09/2018\n",
      "Loading flight data from 10/2018\n",
      "Loading flight data from 11/2018\n",
      "Loading flight data from 12/2018\n",
      "Loading flight data from 01/2019\n",
      "Loading flight data from 02/2019\n",
      "Loading flight data from 03/2019\n",
      "Loading flight data from 04/2019\n",
      "Loading flight data from 05/2019\n",
      "Loading flight data from 06/2019\n",
      "Loading flight data from 07/2019\n",
      "Loading flight data from 08/2019\n",
      "Loading flight data from 09/2019\n",
      "Loading flight data from 10/2019\n",
      "Loading flight data from 11/2019\n",
      "Loading flight data from 12/2019\n"
     ]
    }
   ],
   "source": [
    "'''Data collection'''\n",
    "stopwatch = TimeTracker.TimeTracker()\n",
    "# Get all the data.\n",
    "path = r'D:\\Springboard_DataSci\\Assignments\\Capstone_2--Airport_weather\\data'\n",
    "os.chdir(path)\n",
    "print('Importing airline codes')\n",
    "airline_codes = pd.read_csv('L_UNIQUE_CARRIERS.csv-1.csv', index_col='Code')\n",
    "airline_codes = pd.Series(airline_codes.Description)\n",
    "print('Importing flight status files\\n')\n",
    "flightFileNames = glob.glob('????_??_T_ONTIME_REPORTING.csv')\n",
    "monthly_flights = []\n",
    "for flightFile in flightFileNames:\n",
    "    print('Loading flight data from ' + flightFile[5:7] + '/' + flightFile[:4])\n",
    "    monthly_flights.append(pd.read_csv(flightFile, low_memory=False))"
   ]
  },
  {
   "cell_type": "code",
   "execution_count": 3,
   "metadata": {},
   "outputs": [
    {
     "name": "stdout",
     "output_type": "stream",
     "text": [
      "\n",
      "Concatenating the flight data\n"
     ]
    }
   ],
   "source": [
    "# Concatenate the files. This is a slow step.\n",
    "print('\\nConcatenating the flight data')\n",
    "flights = pd.concat(monthly_flights, ignore_index=True)"
   ]
  },
  {
   "cell_type": "code",
   "execution_count": 4,
   "metadata": {},
   "outputs": [
    {
     "name": "stdout",
     "output_type": "stream",
     "text": [
      "Any duplicates dropped? True \n",
      "\n"
     ]
    }
   ],
   "source": [
    "# Check for any duplicates.\n",
    "nRows = len(flights.index)\n",
    "flights.drop_duplicates(inplace=True)\n",
    "print('Any duplicates dropped?', len(flights.index)!=nRows, '\\n')"
   ]
  },
  {
   "cell_type": "code",
   "execution_count": 5,
   "metadata": {},
   "outputs": [
    {
     "name": "stdout",
     "output_type": "stream",
     "text": [
      "        OP_CARRIER_FL_NUM ORIGIN DEST  CRS_DEP_TIME  CRS_ARR_TIME\n",
      "500272                491    PHX  ATL           605          1135\n",
      "500273                988    PHX  ATL          1630          2205\n",
      "       OP_CARRIER_FL_NUM ORIGIN DEST  CRS_DEP_TIME  CRS_ARR_TIME\n",
      "71962                680    ATL  PHX          1900          2120\n",
      "71963               3407    ATL  PHX          1050          1320\n",
      "        OP_CARRIER_FL_NUM ORIGIN DEST  CRS_DEP_TIME  CRS_ARR_TIME\n",
      "337967               1105    ATL  SLC           821          1022\n",
      "338200               1333    ATL  SLC          1930          2132\n",
      "338367               1507    ATL  SLC          1225          1421\n",
      "338890               2076    ATL  SLC          1659          1859\n",
      "339027               2239    ATL  SLC          2146          2347\n",
      "339057               2286    ATL  SLC          1350          1550\n",
      "339072               2302    ATL  SLC          1051          1248\n",
      "       OP_CARRIER_FL_NUM ORIGIN DEST  CRS_DEP_TIME  CRS_ARR_TIME\n",
      "8291                1654    SLC  ATL          1512          2101\n",
      "8483                1802    SLC  ATL          1400          1949\n",
      "8505                1820    SLC  ATL          1700          2244\n",
      "8919                2155    SLC  ATL           700          1240\n",
      "9115                2325    SLC  ATL           943          1531\n",
      "9601                2730    SLC  ATL          1100          1645\n",
      "9755                2870    SLC  ATL          2320           501\n",
      "54090               1524    SLC  ATL           825          1410\n"
     ]
    }
   ],
   "source": [
    "# Verify that departure and arrival times are local using some sample flights.\n",
    "for i, flights_that_month in enumerate(monthly_flights):\n",
    "    first_flight = flights_that_month.iloc[0]\n",
    "    if first_flight.YEAR==2019 and first_flight.MONTH==1:\n",
    "        break\n",
    "PHX_ATL_SW = monthly_flights[i][(monthly_flights[i].OP_UNIQUE_CARRIER=='WN') & #Southwest\n",
    "                        (monthly_flights[i].ORIGIN=='PHX') &\n",
    "                        (monthly_flights[i].DEST=='ATL')&\n",
    "                        (monthly_flights[i].DAY_OF_MONTH==22)]\n",
    "ATL_PHX_SW = monthly_flights[i][(monthly_flights[i].OP_UNIQUE_CARRIER=='WN') &\n",
    "                        (monthly_flights[i].ORIGIN=='ATL') &\n",
    "                        (monthly_flights[i].DEST=='PHX')&\n",
    "                        (monthly_flights[i].DAY_OF_MONTH==29)]\n",
    "\n",
    "for i, flights_that_month in enumerate(monthly_flights):\n",
    "    first_flight = flights_that_month.iloc[0]\n",
    "    if first_flight.YEAR==2019 and first_flight.MONTH==5:\n",
    "        break\n",
    "ATL_SLC_DL = monthly_flights[i][(monthly_flights[i].OP_UNIQUE_CARRIER=='DL') & #Delta\n",
    "                        (monthly_flights[i].ORIGIN=='ATL') &\n",
    "                        (monthly_flights[i].DEST=='SLC') &\n",
    "                        (monthly_flights[i].DAY_OF_MONTH==18)]\n",
    "SLC_ATL_DL = monthly_flights[i][(monthly_flights[i].OP_UNIQUE_CARRIER=='DL') &\n",
    "                        (monthly_flights[i].ORIGIN=='SLC') &\n",
    "                        (monthly_flights[i].DEST=='ATL') &\n",
    "                        (monthly_flights[i].DAY_OF_MONTH==23)]\n",
    "cols_to_print = ['OP_CARRIER_FL_NUM','ORIGIN','DEST','CRS_DEP_TIME','CRS_ARR_TIME']\n",
    "print(PHX_ATL_SW[cols_to_print])\n",
    "print(ATL_PHX_SW[cols_to_print])\n",
    "print(ATL_SLC_DL[cols_to_print])\n",
    "print(SLC_ATL_DL[cols_to_print])\n",
    "# Conclusion: Both departure and arrival times are local."
   ]
  },
  {
   "cell_type": "code",
   "execution_count": 6,
   "metadata": {},
   "outputs": [
    {
     "name": "stdout",
     "output_type": "stream",
     "text": [
      "Index(['YEAR', 'MONTH', 'DAY_OF_MONTH', 'DAY_OF_WEEK', 'FL_DATE',\n",
      "       'OP_UNIQUE_CARRIER', 'OP_CARRIER_FL_NUM', 'ORIGIN', 'ORIGIN_CITY_NAME',\n",
      "       'DEST', 'DEST_CITY_NAME', 'CRS_DEP_TIME', 'DEP_DELAY_NEW', 'DEP_DEL15',\n",
      "       'CRS_ARR_TIME', 'ARR_DELAY_NEW', 'ARR_DEL15', 'CANCELLED',\n",
      "       'CANCELLATION_CODE', 'DIVERTED', 'WEATHER_DELAY', 'DIV_REACHED_DEST',\n",
      "       'DIV_ARR_DELAY', 'Unnamed: 23'],\n",
      "      dtype='object')\n",
      "  ORIGIN DEST\n",
      "0    MIA  DCA\n",
      "1    MIA  DCA\n",
      "2    MIA  DCA\n",
      "3    MIA  DCA\n",
      "4    MIA  DCA\n"
     ]
    }
   ],
   "source": [
    "print(flights.columns)\n",
    "print(flights.loc[:,['ORIGIN','DEST']].head())"
   ]
  },
  {
   "cell_type": "code",
   "execution_count": 7,
   "metadata": {},
   "outputs": [
    {
     "name": "stdout",
     "output_type": "stream",
     "text": [
      "210555\n"
     ]
    }
   ],
   "source": [
    "# Choose our airports and filter the dataset. The flights depart from and arrive at one of these airports.\n",
    "AIRPORTS = ['ATL','JFK','ORD','MIA']\n",
    "flights = flights[(flights.ORIGIN.isin(AIRPORTS)) & (flights.DEST.isin(AIRPORTS))]\n",
    "flights.reset_index(inplace=True)\n",
    "n = len(flights)\n",
    "print(n)"
   ]
  },
  {
   "cell_type": "markdown",
   "metadata": {},
   "source": [
    "This reduces the number of flights from over 25 million to just over 210,000."
   ]
  },
  {
   "cell_type": "code",
   "execution_count": 8,
   "metadata": {},
   "outputs": [],
   "source": [
    "del(monthly_flights, flights_that_month, first_flight, flightFile, flightFileNames,\n",
    "    nRows, airline_codes, cols_to_print, PHX_ATL_SW, ATL_PHX_SW, ATL_SLC_DL, SLC_ATL_DL) #no longer needed"
   ]
  },
  {
   "cell_type": "code",
   "execution_count": 9,
   "metadata": {},
   "outputs": [
    {
     "name": "stdout",
     "output_type": "stream",
     "text": [
      "Existing NaNs:\n",
      "FL_DATE                   0\n",
      "ORIGIN                    0\n",
      "DEST                      0\n",
      "CRS_DEP_TIME              0\n",
      "DEP_DELAY_NEW          2856\n",
      "DEP_DEL15              2856\n",
      "CRS_ARR_TIME              0\n",
      "ARR_DELAY_NEW          3426\n",
      "ARR_DEL15              3426\n",
      "CANCELLED                 0\n",
      "CANCELLATION_CODE    207641\n",
      "DIVERTED                  0\n",
      "WEATHER_DELAY        168034\n",
      "DIV_REACHED_DEST     210055\n",
      "DIV_ARR_DELAY        210073\n",
      "dtype: int64\n"
     ]
    }
   ],
   "source": [
    "# Clean the dataframe.\n",
    "flights.drop(['index','YEAR','MONTH','DAY_OF_MONTH','DAY_OF_WEEK','OP_UNIQUE_CARRIER',\n",
    "              'OP_CARRIER_FL_NUM','ORIGIN_CITY_NAME','DEST_CITY_NAME', 'Unnamed: 23'], axis=1, inplace=True)\n",
    "print(\"Existing NaNs:\\n\" + str(flights.isna().sum()))"
   ]
  },
  {
   "cell_type": "code",
   "execution_count": 10,
   "metadata": {},
   "outputs": [
    {
     "name": "stdout",
     "output_type": "stream",
     "text": [
      "Clashes between DEP_DELAY_NEW and DEP_DEL15 NaN's: 0\n",
      "Clashes between ARR_DELAY_NEW and ARR_DEL15 NaN's: 0\n"
     ]
    }
   ],
   "source": [
    "# DEP_DELAY_NEW and DEP_DEL15, and ARR_DELAY_NEW and ARR_DEL15, have matching\n",
    "# NaN counts. Let's investigate this. XOR and EQUIV are defined.\n",
    "XOR = lambda a, b: (a & ~b) | (~a & b)\n",
    "EQUIV = lambda a, b: (a & b) | ~(a | b)\n",
    "departureClashes = XOR(flights.DEP_DELAY_NEW.isna(), flights.DEP_DEL15.isna())\n",
    "print(\"Clashes between DEP_DELAY_NEW and DEP_DEL15 NaN's:\", departureClashes[departureClashes].count())\n",
    "arrivalClashes = XOR(flights.ARR_DELAY_NEW.isna(), flights.ARR_DEL15.isna())\n",
    "print(\"Clashes between ARR_DELAY_NEW and ARR_DEL15 NaN's:\", arrivalClashes[arrivalClashes].count())\n",
    "\n",
    "# No clashes. Impute missing values as 0.\n",
    "flights.DEP_DELAY_NEW.fillna(value=0, inplace=True)\n",
    "flights.ARR_DELAY_NEW.fillna(value=0, inplace=True)\n",
    "flights.DEP_DEL15.fillna(value=0, inplace=True)\n",
    "flights.ARR_DEL15.fillna(value=0, inplace=True)"
   ]
  },
  {
   "cell_type": "code",
   "execution_count": 11,
   "metadata": {},
   "outputs": [
    {
     "name": "stdout",
     "output_type": "stream",
     "text": [
      "Clashes between CANCELLED and CANCELLATION_CODE NaN's: 0\n",
      "Unique values of flights.CANCELLATION_CODE:\n",
      "0    207641\n",
      "B      1814\n",
      "A       585\n",
      "C       511\n",
      "D         4\n",
      "Name: CANCELLATION_CODE, dtype: int64\n"
     ]
    }
   ],
   "source": [
    "# Investigate cancellations.\n",
    "cancellationClashes = XOR(flights.CANCELLED == 0, flights.CANCELLATION_CODE.isna())\n",
    "print(\"Clashes between CANCELLED and CANCELLATION_CODE NaN's:\",\n",
    "      cancellationClashes[cancellationClashes].count()) #Again, none.\n",
    "flights.CANCELLATION_CODE.fillna(value=0, inplace=True)\n",
    "print('Unique values of flights.CANCELLATION_CODE:\\n' + str(flights.CANCELLATION_CODE.value_counts()))\n",
    "flights['WeatherCancelled'] = (flights.CANCELLATION_CODE == 'B').astype(int)\n",
    "flights.drop(['CANCELLED','CANCELLATION_CODE'], axis=1, inplace=True)"
   ]
  },
  {
   "cell_type": "code",
   "execution_count": 12,
   "metadata": {},
   "outputs": [
    {
     "name": "stdout",
     "output_type": "stream",
     "text": [
      "Clashes between flights.WEATHER_DELAY NaN's and ARR_DEL15: 0\n"
     ]
    }
   ],
   "source": [
    "# Investigate weather delays.\n",
    "weatherDelayClashes = EQUIV(flights.WEATHER_DELAY.isna(), flights.ARR_DEL15==1)\n",
    "print(\"Clashes between flights.WEATHER_DELAY NaN's and ARR_DEL15:\",\n",
    "      weatherDelayClashes[weatherDelayClashes].count()) #None.\n",
    "flights.WEATHER_DELAY.fillna(value=0, inplace=True)\n",
    "flights['WeatherDelayed'] = (flights.WEATHER_DELAY >= 15).astype(int)\n",
    "flights.drop(['DEP_DELAY_NEW','ARR_DELAY_NEW'], axis=1, inplace=True)"
   ]
  },
  {
   "cell_type": "code",
   "execution_count": 13,
   "metadata": {},
   "outputs": [
    {
     "name": "stdout",
     "output_type": "stream",
     "text": [
      "2579\n",
      "2579\n",
      "2579\n"
     ]
    }
   ],
   "source": [
    "# See if there is any difference between weather delays on the departure and arrival end.\n",
    "print(flights.WeatherDelayed.value_counts()[1])\n",
    "print((flights.WeatherDelayed * flights.ARR_DEL15).value_counts()[1])\n",
    "print((flights.WeatherDelayed * flights.DEP_DEL15).value_counts()[1]) #All three the same.\n",
    "flights.drop(['ARR_DEL15','DEP_DEL15'], axis=1, inplace=True)"
   ]
  },
  {
   "cell_type": "code",
   "execution_count": 14,
   "metadata": {},
   "outputs": [
    {
     "name": "stdout",
     "output_type": "stream",
     "text": [
      "DIVERTED codes:\n",
      "0.0    210055\n",
      "1.0       500\n",
      "Name: DIVERTED, dtype: int64\n",
      "DIV_REACHED_DEST codes:\n",
      "1.0    482\n",
      "0.0     18\n",
      "Name: DIV_REACHED_DEST, dtype: int64\n",
      "Count of DIV_REACHED_DEST: 500\n",
      "WeatherDelayed and WeatherCancelled codes of flights who made their destination:\n",
      "0    482\n",
      "Name: WeatherDelayed, dtype: int64\n",
      "0    482\n",
      "Name: WeatherCancelled, dtype: int64\n",
      "WeatherDelayed and WeatherCancelled codes of flights who didn't:\n",
      "0    18\n",
      "Name: WeatherDelayed, dtype: int64\n",
      "0    18\n",
      "Name: WeatherCancelled, dtype: int64\n"
     ]
    }
   ],
   "source": [
    "# Investigate diversions.\n",
    "print('DIVERTED codes:\\n' + str(flights.DIVERTED.value_counts()))\n",
    "print('DIV_REACHED_DEST codes:\\n' + str(flights.DIV_REACHED_DEST.value_counts()))\n",
    "print('Count of DIV_REACHED_DEST:', flights.DIV_REACHED_DEST.count()) #Same as DIVERTED==1.\n",
    "div_reached = flights[(flights.DIVERTED==1) & (flights.DIV_REACHED_DEST==1)]\n",
    "print('WeatherDelayed and WeatherCancelled codes of flights who made their destination:')\n",
    "print(div_reached.WeatherDelayed.value_counts()) #None\n",
    "print(div_reached.WeatherCancelled.value_counts()) #None\n",
    "div_failed = flights[(flights.DIVERTED==1) & (flights.DIV_REACHED_DEST==0)]\n",
    "print('WeatherDelayed and WeatherCancelled codes of flights who didn\\'t:')\n",
    "print(div_failed.WeatherDelayed.value_counts()) #None\n",
    "print(div_failed.WeatherCancelled.value_counts()) #None\n",
    "# Conclusion: None of our flights were diverted due to weather.\n",
    "flights.drop(['DIVERTED','DIV_REACHED_DEST','DIV_ARR_DELAY'], axis=1, inplace=True)"
   ]
  },
  {
   "cell_type": "code",
   "execution_count": 15,
   "metadata": {},
   "outputs": [],
   "source": [
    "# Delete some temporary variables.\n",
    "del(arrivalClashes, cancellationClashes, departureClashes, weatherDelayClashes,\n",
    "    div_reached, div_failed)"
   ]
  },
  {
   "cell_type": "markdown",
   "metadata": {},
   "source": [
    "The next order of business is to deal with the timestamps. We have already\n",
    "seen from actual flights that the departure and arrival times are local and\n",
    "in their respective airports timezones. The departure dates are given as strings,\n",
    "and the departure and arrival times are given as integers.\n",
    "\n",
    "First, let's denote any flights that cross midnight."
   ]
  },
  {
   "cell_type": "code",
   "execution_count": 16,
   "metadata": {},
   "outputs": [],
   "source": [
    "# Convert midnight arrivals/departures to 0000 time.\n",
    "flights['CRS_DEP_TIME'][flights.CRS_DEP_TIME == 2400] = 0\n",
    "flights['CRS_ARR_TIME'][flights.CRS_ARR_TIME == 2400] = 0"
   ]
  },
  {
   "cell_type": "code",
   "execution_count": 17,
   "metadata": {},
   "outputs": [
    {
     "name": "stdout",
     "output_type": "stream",
     "text": [
      "Looking for any flights that crossed midnight\n",
      "5157\n"
     ]
    },
    {
     "data": {
      "image/png": "[encoded data removed]",
      "text/plain": [
       "<Figure size 432x288 with 1 Axes>"
      ]
     },
     "metadata": {
      "needs_background": "light"
     },
     "output_type": "display_data"
    }
   ],
   "source": [
    "print('Looking for any flights that crossed midnight')\n",
    "arrDepDiff = flights.CRS_ARR_TIME - flights.CRS_DEP_TIME\n",
    "print(len(flights[arrDepDiff < 0].index)) #5149 flights. Need more trimming.\n",
    "\n",
    "plt.figure()\n",
    "plt.hist(arrDepDiff/100, bins=25, color='g', align='left')\n",
    "plt.xlabel('Departure - Arrival in hours')\n",
    "plt.ylabel('Count')\n",
    "if save_data:\n",
    "    plt.savefig(r'D:\\Springboard_DataSci\\Assignments\\Capstone_2--Airport_weather\\figures\\OvernightTimes.png')\n",
    "plt.show()"
   ]
  },
  {
   "cell_type": "markdown",
   "metadata": {},
   "source": [
    "There is a clear gap between -20 and 0. Large negative values are probably flights that cross\n",
    "midnight. Note that there are no flights in the -1 or -2 bins, which would indicate flights that have\n",
    "arrival times in the local time zone earlier than the departure time. Among our four airports, only flights\n",
    "to Chicago would have this issue, and none of them do."
   ]
  },
  {
   "cell_type": "code",
   "execution_count": 18,
   "metadata": {},
   "outputs": [
    {
     "name": "stdout",
     "output_type": "stream",
     "text": [
      "Elapsed time prior to datetime calculations: --- 2.6 minutes ---\n"
     ]
    }
   ],
   "source": [
    "flights['Overnight'] = (arrDepDiff < 0)\n",
    "\n",
    "# Let's do a time check.\n",
    "print('Elapsed time prior to datetime calculations:', stopwatch.getElapsedTime())"
   ]
  },
  {
   "cell_type": "code",
   "execution_count": 19,
   "metadata": {},
   "outputs": [
    {
     "name": "stdout",
     "output_type": "stream",
     "text": [
      "Converting dates to datetime objects\n"
     ]
    }
   ],
   "source": [
    "# Converting dates to datetime objects. Slow step (but not as slow as it used to be!)\n",
    "print('Converting dates to datetime objects')\n",
    "flights['DepartureTime'] = pd.to_datetime(flights.FL_DATE + flights.apply(\n",
    "    lambda row:'%04d' % row['CRS_DEP_TIME'], axis=1), format='%Y-%m-%d%H%M')"
   ]
  },
  {
   "cell_type": "code",
   "execution_count": 20,
   "metadata": {},
   "outputs": [
    {
     "name": "stdout",
     "output_type": "stream",
     "text": [
      "Converting arrival dates to datetime objects\n"
     ]
    }
   ],
   "source": [
    "print('Converting arrival dates to datetime objects')\n",
    "flights['ArrivalTime'] = pd.to_datetime(flights.FL_DATE + flights.apply(\n",
    "    lambda row:'%04d' % row['CRS_ARR_TIME'], axis=1), format='%Y-%m-%d%H%M')"
   ]
  },
  {
   "cell_type": "code",
   "execution_count": 21,
   "metadata": {},
   "outputs": [
    {
     "name": "stdout",
     "output_type": "stream",
     "text": [
      "Factoring in redeye data for arrivals\n"
     ]
    }
   ],
   "source": [
    "print('Factoring in redeye data for arrivals')\n",
    "flights['ArrivalTime'] += flights['Overnight'].apply(lambda x: timedelta(days=x))\n",
    "\n",
    "# Drop some columns that are no longer needed.\n",
    "flights.drop(['FL_DATE','CRS_DEP_TIME','CRS_ARR_TIME','Overnight'], axis=1, inplace=True)"
   ]
  },
  {
   "cell_type": "code",
   "execution_count": 22,
   "metadata": {},
   "outputs": [],
   "source": [
    "# Get the timezones to make the times compatible in the upcoming merges.\n",
    "def getTimeZone(df, field):\n",
    "    timeZones = []\n",
    "    for airport in df[field]:\n",
    "        for zone, zoneAirports in timeZoneMap.items():\n",
    "            if airport in zoneAirports:\n",
    "                timeZones.append(zone)\n",
    "                break\n",
    "        else:\n",
    "            raise ValueError(airport + ' not listed in the time zone map')\n",
    "    return timeZones"
   ]
  },
  {
   "cell_type": "code",
   "execution_count": 23,
   "metadata": {},
   "outputs": [],
   "source": [
    "timeZoneMap = {'US/Eastern':['ATL','JFK','MIA'],\n",
    "               'US/Central':['ORD']}\n",
    "AirportsWithTimeZones = pd.DataFrame({'Airport':AIRPORTS})\n",
    "AirportsWithTimeZones['TimeZone'] = getTimeZone(AirportsWithTimeZones, field='Airport')\n",
    "AirportsWithTimeZones = AirportsWithTimeZones.set_index('Airport')['TimeZone']\n",
    "timeZoneMap = AirportsWithTimeZones.map(pytz.timezone)"
   ]
  },
  {
   "cell_type": "code",
   "execution_count": 24,
   "metadata": {},
   "outputs": [],
   "source": [
    "# Set the departure and arrival times to their cities' respective time zones.\n",
    "flights = flights.merge(timeZoneMap, left_on='ORIGIN', right_on='Airport')\n",
    "flights.columns = ['Departure_TZ' if col=='TimeZone' else col for col in flights.columns]\n",
    "flights = flights.merge(timeZoneMap, left_on='DEST', right_on='Airport')\n",
    "flights.columns = ['Arrival_TZ' if col=='TimeZone' else col for col in flights.columns]"
   ]
  },
  {
   "cell_type": "code",
   "execution_count": 25,
   "metadata": {},
   "outputs": [
    {
     "name": "stdout",
     "output_type": "stream",
     "text": [
      "Localizing departures to their respective time zones\n",
      "Localizing arrivals to their respective time zones\n"
     ]
    }
   ],
   "source": [
    "print('Localizing departures to their respective time zones')\n",
    "flights['DepartureTime'] = flights.apply(\n",
    "    lambda row: row['DepartureTime'].tz_localize(row['Departure_TZ']), axis=1)\n",
    "print('Localizing arrivals to their respective time zones')\n",
    "flights['ArrivalTime'] = flights.apply(\n",
    "    lambda row: row['ArrivalTime'].tz_localize(row['Arrival_TZ']), axis=1)"
   ]
  },
  {
   "cell_type": "code",
   "execution_count": 26,
   "metadata": {},
   "outputs": [
    {
     "name": "stdout",
     "output_type": "stream",
     "text": [
      "Total runtime: --- 3.26 minutes ---\n"
     ]
    }
   ],
   "source": [
    "# Save the data and proceed to merging them.\n",
    "flights.drop(['Departure_TZ','Arrival_TZ'], axis=1, inplace=True)\n",
    "if save_data:\n",
    "    print('Saving data')\n",
    "    flights.to_csv('flights.csv')\n",
    "print('Total runtime:', stopwatch.getElapsedTime())"
   ]
  },
  {
   "cell_type": "code",
   "execution_count": null,
   "metadata": {},
   "outputs": [],
   "source": []
  }
 ],
 "metadata": {
  "kernelspec": {
   "display_name": "Python 3",
   "language": "python",
   "name": "python3"
  },
  "language_info": {
   "codemirror_mode": {
    "name": "ipython",
    "version": 3
   },
   "file_extension": ".py",
   "mimetype": "text/x-python",
   "name": "python",
   "nbconvert_exporter": "python",
   "pygments_lexer": "ipython3",
   "version": "3.7.6"
  }
 },
 "nbformat": 4,
 "nbformat_minor": 4
}
